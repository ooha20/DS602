{
  "cells": [
    {
      "cell_type": "markdown",
      "id": "f596baf6",
      "metadata": {
        "id": "f596baf6"
      },
      "source": [
        "# Week7 - Decision Tree Lab\n",
        "\n",
        "* Train-test split\n",
        "* Train a decison tree model\n",
        "* Train a random forest model\n",
        "* Evaluate the models\n",
        "* Explain findings"
      ]
    },
    {
      "cell_type": "code",
      "execution_count": 1,
      "id": "bacdfd11",
      "metadata": {
        "id": "bacdfd11"
      },
      "outputs": [],
      "source": [
        "import pandas as pd\n",
        "import numpy as np\n",
        "import matplotlib.pyplot as plt\n",
        "%matplotlib inline\n",
        "\n",
        "df = pd.read_csv('https://raw.githubusercontent.com/msaricaumbc/DS_data/master/ds602/log_reg/employee-turnover-balanced.csv')\n",
        "y = df['left_company']\n",
        "X = df.iloc[:, 1:]"
      ]
    },
    {
      "cell_type": "markdown",
      "source": [
        "# Train-test split"
      ],
      "metadata": {
        "id": "WGKfxC1NXdpZ"
      },
      "id": "WGKfxC1NXdpZ"
    },
    {
      "cell_type": "code",
      "source": [
        "from sklearn.model_selection import train_test_split\n",
        "# split data into training and testing sets\n",
        "X_train, X_test, y_train, y_test = train_test_split(X, y, test_size=0.2, random_state=42)"
      ],
      "metadata": {
        "id": "e6UuqIDhPrhM"
      },
      "id": "e6UuqIDhPrhM",
      "execution_count": 6,
      "outputs": []
    },
    {
      "cell_type": "markdown",
      "source": [
        "# Train a decison tree model"
      ],
      "metadata": {
        "id": "Pyr_XL2DXgOT"
      },
      "id": "Pyr_XL2DXgOT"
    },
    {
      "cell_type": "code",
      "source": [
        "from sklearn.tree import DecisionTreeClassifier\n",
        "from sklearn.metrics import accuracy_score, classification_report\n",
        "# train decision tree classifier\n",
        "dtc = DecisionTreeClassifier(random_state=42)\n",
        "dtc.fit(X_train, y_train)\n",
        "# make predictions on test set\n",
        "dtc_pred = dt.predict(X_test)\n",
        "# evaluate performance\n",
        "print(\"Accuracy of decisionTreeClassifier:\", accuracy_score(y_test, dtc_pred))\n",
        "print(classification_report(y_test, dtc_pred))\n",
        "\n"
      ],
      "metadata": {
        "colab": {
          "base_uri": "https://localhost:8080/"
        },
        "id": "LHytgVKtSPqc",
        "outputId": "ace8f10d-81cd-4579-9613-86112652b794"
      },
      "id": "LHytgVKtSPqc",
      "execution_count": 35,
      "outputs": [
        {
          "output_type": "stream",
          "name": "stdout",
          "text": [
            "Accuracy of decisionTreeClassifier: 0.835\n",
            "              precision    recall  f1-score   support\n",
            "\n",
            "          No       0.86      0.78      0.82        96\n",
            "         Yes       0.81      0.88      0.85       104\n",
            "\n",
            "    accuracy                           0.83       200\n",
            "   macro avg       0.84      0.83      0.83       200\n",
            "weighted avg       0.84      0.83      0.83       200\n",
            "\n"
          ]
        }
      ]
    },
    {
      "cell_type": "markdown",
      "source": [
        "# Train a random forest model"
      ],
      "metadata": {
        "id": "pv09zRv-Xlmm"
      },
      "id": "pv09zRv-Xlmm"
    },
    {
      "cell_type": "code",
      "source": [
        "from sklearn.ensemble import RandomForestClassifier\n",
        "# train random forest classifier\n",
        "rfc = RandomForestClassifier(n_estimators=100, random_state=42)\n",
        "rfc.fit(X_train, y_train)\n",
        "\n",
        "# make predictions on test set\n",
        "y_pred = rfc.predict(X_test)\n",
        "\n",
        "# evaluate performance\n",
        "print(\"Accuracy of RandomForestClassifier:\", accuracy_score(y_test, y_pred))\n",
        "print(classification_report(y_test, y_pred))"
      ],
      "metadata": {
        "colab": {
          "base_uri": "https://localhost:8080/"
        },
        "id": "Jawd4jrzT7Cs",
        "outputId": "40bb24ef-b6e6-448a-dbe0-2adea21d68b5"
      },
      "id": "Jawd4jrzT7Cs",
      "execution_count": 37,
      "outputs": [
        {
          "output_type": "stream",
          "name": "stdout",
          "text": [
            "Accuracy of RandomForestClassifier: 0.895\n",
            "              precision    recall  f1-score   support\n",
            "\n",
            "          No       0.88      0.91      0.89        96\n",
            "         Yes       0.91      0.88      0.90       104\n",
            "\n",
            "    accuracy                           0.90       200\n",
            "   macro avg       0.89      0.90      0.89       200\n",
            "weighted avg       0.90      0.90      0.90       200\n",
            "\n"
          ]
        }
      ]
    },
    {
      "cell_type": "markdown",
      "source": [
        "# Evaluate the models"
      ],
      "metadata": {
        "id": "GNlz1nuuXp87"
      },
      "id": "GNlz1nuuXp87"
    },
    {
      "cell_type": "code",
      "source": [
        "from sklearn.metrics import accuracy_score, classification_report\n",
        "\n",
        "# evaluate decision tree model\n",
        "y_pred_dt = dt.predict(X_test)\n",
        "acc_dt = accuracy_score(y_test, y_pred_dt)\n",
        "print(\"Decision Tree Accuracy:\", acc_dt)\n",
        "print(classification_report(y_test, y_pred_dt))\n",
        "\n",
        "# evaluate random forest model\n",
        "y_pred_rf = rfc.predict(X_test)\n",
        "acc_rf = accuracy_score(y_test, y_pred_rf)\n",
        "print(\"Random Forest Accuracy:\", acc_rf)\n",
        "print(classification_report(y_test, y_pred_rf))"
      ],
      "metadata": {
        "colab": {
          "base_uri": "https://localhost:8080/"
        },
        "id": "9fLIj72gUPjQ",
        "outputId": "2449142c-fbb7-4eea-eadc-3df0f147cb31"
      },
      "id": "9fLIj72gUPjQ",
      "execution_count": 39,
      "outputs": [
        {
          "output_type": "stream",
          "name": "stdout",
          "text": [
            "Decision Tree Accuracy: 0.835\n",
            "              precision    recall  f1-score   support\n",
            "\n",
            "          No       0.86      0.78      0.82        96\n",
            "         Yes       0.81      0.88      0.85       104\n",
            "\n",
            "    accuracy                           0.83       200\n",
            "   macro avg       0.84      0.83      0.83       200\n",
            "weighted avg       0.84      0.83      0.83       200\n",
            "\n",
            "Random Forest Accuracy: 0.895\n",
            "              precision    recall  f1-score   support\n",
            "\n",
            "          No       0.88      0.91      0.89        96\n",
            "         Yes       0.91      0.88      0.90       104\n",
            "\n",
            "    accuracy                           0.90       200\n",
            "   macro avg       0.89      0.90      0.89       200\n",
            "weighted avg       0.90      0.90      0.90       200\n",
            "\n"
          ]
        }
      ]
    },
    {
      "cell_type": "markdown",
      "source": [
        "# Explain Findings\n"
      ],
      "metadata": {
        "id": "PLWHBnKoXVv9"
      },
      "id": "PLWHBnKoXVv9"
    },
    {
      "cell_type": "markdown",
      "source": [
        "The accuracy of the decision tree model is 0.835, as can be seen from the outputs above, whereas the accuracy of the random forest model is 0.895. Hence, by comparing their accuracy scores, we may conclude that the Random Forest model is superior to the Decision Tree model."
      ],
      "metadata": {
        "id": "uEWkBpMnWirD"
      },
      "id": "uEWkBpMnWirD"
    },
    {
      "cell_type": "code",
      "source": [],
      "metadata": {
        "id": "HLpLxJKAQeKK"
      },
      "id": "HLpLxJKAQeKK",
      "execution_count": 32,
      "outputs": []
    }
  ],
  "metadata": {
    "kernelspec": {
      "display_name": "Python 3",
      "language": "python",
      "name": "python3"
    },
    "language_info": {
      "codemirror_mode": {
        "name": "ipython",
        "version": 3
      },
      "file_extension": ".py",
      "mimetype": "text/x-python",
      "name": "python",
      "nbconvert_exporter": "python",
      "pygments_lexer": "ipython3",
      "version": "3.8.8"
    },
    "toc": {
      "base_numbering": 1,
      "nav_menu": {},
      "number_sections": false,
      "sideBar": true,
      "skip_h1_title": false,
      "title_cell": "Table of Contents",
      "title_sidebar": "Contents",
      "toc_cell": false,
      "toc_position": {},
      "toc_section_display": true,
      "toc_window_display": true
    },
    "colab": {
      "provenance": []
    }
  },
  "nbformat": 4,
  "nbformat_minor": 5
}