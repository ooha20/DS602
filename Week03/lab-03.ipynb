{
 "cells": [
  {
   "cell_type": "markdown",
   "id": "57771d6f",
   "metadata": {
    "id": "57771d6f"
   },
   "source": [
    "# Week 3 Lab"
   ]
  },
  {
   "cell_type": "markdown",
   "id": "ccb647fd",
   "metadata": {
    "id": "ccb647fd"
   },
   "source": [
    "## Questions:\n",
    "- Differences between supervised and unsupervised learning?  \n",
    "- Differences between classification and regression?  \n",
    "- Classification and regression are the only types of supervised learning? "
   ]
  },
  {
   "cell_type": "markdown",
   "id": "03e12e71",
   "metadata": {
    "id": "03e12e71"
   },
   "source": []
  },
  {
   "cell_type": "markdown",
   "id": "9c6d401e",
   "metadata": {
    "id": "76611fb3"
   },
   "source": [
    "# Differences between supervised and unsupervised learning?\n",
    "\n",
    "Supervised and Unsupervised Learning differences: \n",
    "\n",
    "1.Major Differences is the system is aware of the patterns of the output data when using the supervised learning method on labelled data. As opposed to this, unsupervised learning uses unlabeled data, and the output is solely based on a group of views.\n",
    "\n",
    "2.The supervised learning technique is less complex than the unsupervised learning method in terms of complexity.While unsupervised learning uses real-time analysis, supervised learning also allows for later analysis.The results of the supervised learning method are more precise and dependable. \n",
    "\n",
    "3.Unsupervised learning, in contrast, produces mediocre but trustworthy outcomes.The supervised learning technique can be used to solve problems involving classification and regression. On the other hand, grouping and associative rule mining issues are part of unsupervised learning."
   ]
  },
  {
   "cell_type": "markdown",
   "id": "1feda21b",
   "metadata": {},
   "source": [
    "# Differences between classification and regression?\n",
    "\n",
    "When creating machine learning programs, two methods are used: regression and classification. \n",
    "\n",
    "Under the umbrella of supervised machine learning, both regression and classification machine learning methods are categorized.\n",
    "\n",
    "Regression forecasts a continuous amount or value, whereas classification predicts a discrete label. This is the main distinction between the two."
   ]
  },
  {
   "cell_type": "markdown",
   "id": "b2ec2d18",
   "metadata": {},
   "source": [
    "# Classification and regression are the only types of supervised learning?\n",
    "\n",
    "No, There are other techniques also in the supervised learning such as naive bayes, random forest."
   ]
  },
  {
   "cell_type": "markdown",
   "id": "db7f5e98",
   "metadata": {},
   "source": [
    "References:\n",
    "   \n",
    "   https://emeritus.org/in/learn/types-of-supervised-learning/\n",
    "    \n",
    "   https://www.educative.io/answers/what-is-the-difference-between-regression-and-classification\n",
    "    \n",
    "    "
   ]
  },
  {
   "cell_type": "code",
   "execution_count": null,
   "id": "03c8af13",
   "metadata": {},
   "outputs": [],
   "source": []
  }
 ],
 "metadata": {
  "colab": {
   "provenance": []
  },
  "kernelspec": {
   "display_name": "Python 3 (ipykernel)",
   "language": "python",
   "name": "python3"
  },
  "language_info": {
   "codemirror_mode": {
    "name": "ipython",
    "version": 3
   },
   "file_extension": ".py",
   "mimetype": "text/x-python",
   "name": "python",
   "nbconvert_exporter": "python",
   "pygments_lexer": "ipython3",
   "version": "3.9.12"
  },
  "toc": {
   "base_numbering": 1,
   "nav_menu": {},
   "number_sections": true,
   "sideBar": true,
   "skip_h1_title": false,
   "title_cell": "Table of Contents",
   "title_sidebar": "Contents",
   "toc_cell": false,
   "toc_position": {},
   "toc_section_display": true,
   "toc_window_display": false
  }
 },
 "nbformat": 4,
 "nbformat_minor": 5
}
