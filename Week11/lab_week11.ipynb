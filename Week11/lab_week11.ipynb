{
 "cells": [
  {
   "cell_type": "markdown",
   "id": "318de7cb",
   "metadata": {
    "id": "318de7cb"
   },
   "source": [
    "# Week11 - Clustering Lab\n",
    "\n",
    "* Create clusters for the following dataset\n",
    "* Choose a meaningful cluster count\n",
    "* Identify potential labels for each cluster"
   ]
  },
  {
   "cell_type": "code",
   "execution_count": 1,
   "id": "4089dbd4",
   "metadata": {
    "colab": {
     "base_uri": "https://localhost:8080/",
     "height": 206
    },
    "id": "4089dbd4",
    "outputId": "7aac75ae-b605-47fb-cbcf-d4ab3bd191cc"
   },
   "outputs": [
    {
     "data": {
      "text/html": [
       "<div>\n",
       "<style scoped>\n",
       "    .dataframe tbody tr th:only-of-type {\n",
       "        vertical-align: middle;\n",
       "    }\n",
       "\n",
       "    .dataframe tbody tr th {\n",
       "        vertical-align: top;\n",
       "    }\n",
       "\n",
       "    .dataframe thead th {\n",
       "        text-align: right;\n",
       "    }\n",
       "</style>\n",
       "<table border=\"1\" class=\"dataframe\">\n",
       "  <thead>\n",
       "    <tr style=\"text-align: right;\">\n",
       "      <th></th>\n",
       "      <th>name</th>\n",
       "      <th>text</th>\n",
       "    </tr>\n",
       "  </thead>\n",
       "  <tbody>\n",
       "    <tr>\n",
       "      <th>0</th>\n",
       "      <td>Digby Morrell</td>\n",
       "      <td>digby morrell born 10 october 1979 is a former...</td>\n",
       "    </tr>\n",
       "    <tr>\n",
       "      <th>1</th>\n",
       "      <td>Alfred J. Lewy</td>\n",
       "      <td>alfred j lewy aka sandy lewy graduated from un...</td>\n",
       "    </tr>\n",
       "    <tr>\n",
       "      <th>2</th>\n",
       "      <td>Harpdog Brown</td>\n",
       "      <td>harpdog brown is a singer and harmonica player...</td>\n",
       "    </tr>\n",
       "    <tr>\n",
       "      <th>3</th>\n",
       "      <td>Franz Rottensteiner</td>\n",
       "      <td>franz rottensteiner born in waidmannsfeld lowe...</td>\n",
       "    </tr>\n",
       "    <tr>\n",
       "      <th>4</th>\n",
       "      <td>G-Enka</td>\n",
       "      <td>henry krvits born 30 december 1974 in tallinn ...</td>\n",
       "    </tr>\n",
       "  </tbody>\n",
       "</table>\n",
       "</div>"
      ],
      "text/plain": [
       "                  name                                               text\n",
       "0        Digby Morrell  digby morrell born 10 october 1979 is a former...\n",
       "1       Alfred J. Lewy  alfred j lewy aka sandy lewy graduated from un...\n",
       "2        Harpdog Brown  harpdog brown is a singer and harmonica player...\n",
       "3  Franz Rottensteiner  franz rottensteiner born in waidmannsfeld lowe...\n",
       "4               G-Enka  henry krvits born 30 december 1974 in tallinn ..."
      ]
     },
     "execution_count": 1,
     "metadata": {},
     "output_type": "execute_result"
    }
   ],
   "source": [
    "from zipfile import ZipFile\n",
    "from io import BytesIO\n",
    "import urllib.request as urllib2\n",
    "import pandas as pd\n",
    "\n",
    "def get_data():\n",
    "    r = urllib2.urlopen(\"https://github.com/msaricaumbc/DS_data/blob/master/ds602/people_wiki.zip?raw=true\").read()\n",
    "    file = ZipFile(BytesIO(r))\n",
    "    people_wiki_csv = file.open(\"people_wiki.csv\")\n",
    "    people = pd.read_csv(people_wiki_csv)\n",
    "    people.drop('URI', inplace=True, axis=1)\n",
    "    return people\n",
    "\n",
    "people = get_data()\n",
    "people.head()"
   ]
  },
  {
   "cell_type": "code",
   "execution_count": 2,
   "id": "669LA0qRaimJ",
   "metadata": {
    "colab": {
     "base_uri": "https://localhost:8080/"
    },
    "id": "669LA0qRaimJ",
    "outputId": "83fe9e1f-7d5b-4872-db52-7d2610c6abcc"
   },
   "outputs": [
    {
     "name": "stdout",
     "output_type": "stream",
     "text": [
      "                  name                                               text  \\\n",
      "0        Digby Morrell  digby morrell born 10 october 1979 is a former...   \n",
      "1       Alfred J. Lewy  alfred j lewy aka sandy lewy graduated from un...   \n",
      "2        Harpdog Brown  harpdog brown is a singer and harmonica player...   \n",
      "3  Franz Rottensteiner  franz rottensteiner born in waidmannsfeld lowe...   \n",
      "4               G-Enka  henry krvits born 30 december 1974 in tallinn ...   \n",
      "5        Sam Henderson  sam henderson born october 18 1969 is an ameri...   \n",
      "6        Aaron LaCrate  aaron lacrate is an american music producer re...   \n",
      "7      Trevor Ferguson  trevor ferguson aka john farrow born 11 novemb...   \n",
      "8         Grant Nelson  grant nelson born 27 april 1971 in london also...   \n",
      "9         Cathy Caruth  cathy caruth born 1955 is frank h t rhodes pro...   \n",
      "\n",
      "   cluster  \n",
      "0        1  \n",
      "1        2  \n",
      "2        0  \n",
      "3        2  \n",
      "4        0  \n",
      "5        2  \n",
      "6        0  \n",
      "7        4  \n",
      "8        0  \n",
      "9        2  \n"
     ]
    }
   ],
   "source": [
    "from sklearn.cluster import KMeans\n",
    "from sklearn.feature_extraction.text import TfidfVectorizer\n",
    "\n",
    "vectorizer = TfidfVectorizer(stop_words='english')\n",
    "X = vectorizer.fit_transform(people['text'])\n",
    "km = KMeans(n_clusters=5, random_state=0)\n",
    "km.fit(X)\n",
    "people['cluster'] = km.labels_\n",
    "print(people.head(10))"
   ]
  },
  {
   "cell_type": "code",
   "execution_count": 3,
   "id": "3b33ja1e2TFd",
   "metadata": {
    "colab": {
     "base_uri": "https://localhost:8080/",
     "height": 452
    },
    "id": "3b33ja1e2TFd",
    "outputId": "6801600e-e8b1-462e-f349-2d236999fcba"
   },
   "outputs": [
    {
     "data": {
      "image/png": "[encoded data removed]",
      "text/plain": [
       "<Figure size 432x288 with 1 Axes>"
      ]
     },
     "metadata": {
      "needs_background": "light"
     },
     "output_type": "display_data"
    }
   ],
   "source": [
    "from sklearn.cluster import KMeans\n",
    "\n",
    "kmeans = KMeans(n_clusters=2, random_state=0)\n",
    "kmeans.fit(X)\n",
    "\n",
    "\n",
    "import matplotlib.pyplot as plt\n",
    "%matplotlib inline\n",
    "\n",
    "plt.scatter(kmeans.cluster_centers_[:, 0], kmeans.cluster_centers_[:, 1], color = 'red', marker='*')\n",
    "\n",
    "plt.title('iris in 2-dimensions', loc='left')\n",
    "#plt.legend()\n",
    "\n",
    "plt.show()"
   ]
  },
  {
   "cell_type": "code",
   "execution_count": 25,
   "id": "j15K_cZ12g4U",
   "metadata": {
    "colab": {
     "base_uri": "https://localhost:8080/",
     "height": 452
    },
    "id": "j15K_cZ12g4U",
    "outputId": "09a391a3-3a76-4159-809b-aa7ce92b2b5a"
   },
   "outputs": [
    {
     "data": {
      "image/png": "[encoded data removed]",
      "text/plain": [
       "<Figure size 640x480 with 1 Axes>"
      ]
     },
     "metadata": {},
     "output_type": "display_data"
    }
   ],
   "source": [
    "from sklearn.cluster import KMeans\n",
    "\n",
    "kmeans = KMeans(n_clusters=5, random_state=0)\n",
    "kmeans.fit(X)\n",
    "\n",
    "\n",
    "import matplotlib.pyplot as plt\n",
    "%matplotlib inline\n",
    "\n",
    "plt.scatter(kmeans.cluster_centers_[:, 0], kmeans.cluster_centers_[:, 1], color = 'red', marker='*')\n",
    "\n",
    "plt.title('iris in 2-dimensions', loc='left')\n",
    "#plt.legend()\n",
    "\n",
    "plt.show()"
   ]
  },
  {
   "cell_type": "code",
   "execution_count": 26,
   "id": "tawKpI-wu3Ru",
   "metadata": {
    "colab": {
     "base_uri": "https://localhost:8080/",
     "height": 472
    },
    "id": "tawKpI-wu3Ru",
    "outputId": "7acd2815-0f93-4693-d9a9-2f3daa824668"
   },
   "outputs": [
    {
     "data": {
      "image/png": "[encoded data removed]",
      "text/plain": [
       "<Figure size 640x480 with 1 Axes>"
      ]
     },
     "metadata": {},
     "output_type": "display_data"
    }
   ],
   "source": [
    "elbow = []\n",
    "for i in range(1, 11):\n",
    "    kmeans = KMeans(n_clusters=i, init='k-means++', max_iter=300, n_init=10, random_state=0)\n",
    "    kmeans.fit(X)\n",
    "    elbow.append(kmeans.inertia_)\n",
    "plt.plot(range(1, 11), elbow)\n",
    "plt.title('Elbow Method')\n",
    "plt.xlabel('Number of clusters')\n",
    "plt.ylabel('elbow')\n",
    "plt.show()"
   ]
  },
  {
   "cell_type": "code",
   "execution_count": 40,
   "id": "aim0hG18-NxM",
   "metadata": {
    "colab": {
     "base_uri": "https://localhost:8080/"
    },
    "id": "aim0hG18-NxM",
    "outputId": "7c7c5568-3375-4526-f4e7-a6062886751b"
   },
   "outputs": [
    {
     "name": "stderr",
     "output_type": "stream",
     "text": [
      "/usr/local/lib/python3.10/dist-packages/sklearn/cluster/_kmeans.py:870: FutureWarning: The default value of `n_init` will change from 10 to 'auto' in 1.4. Set the value of `n_init` explicitly to suppress the warning\n",
      "  warnings.warn(\n"
     ]
    },
    {
     "name": "stdout",
     "output_type": "stream",
     "text": [
      "\n",
      "Top words for Cluster 1:\n",
      "music\n",
      "film\n",
      "new\n",
      "album\n",
      "art\n",
      "band\n",
      "television\n",
      "award\n",
      "series\n",
      "work\n",
      "\n",
      "Top words for Cluster 2:\n",
      "league\n",
      "season\n",
      "team\n",
      "played\n",
      "football\n",
      "games\n",
      "coach\n",
      "club\n",
      "player\n",
      "cup\n",
      "\n",
      "Top words for Cluster 3:\n",
      "university\n",
      "served\n",
      "member\n",
      "president\n",
      "law\n",
      "party\n",
      "research\n",
      "professor\n",
      "minister\n",
      "election\n"
     ]
    }
   ],
   "source": [
    "from sklearn.cluster import KMeans\n",
    "from sklearn.feature_extraction.text import TfidfVectorizer\n",
    "import matplotlib.pyplot as plt\n",
    "\n",
    "vectorizer = TfidfVectorizer(stop_words='english')\n",
    "X = vectorizer.fit_transform(people['text'])\n",
    "\n",
    "\n",
    "kmeans = KMeans(n_clusters=3, random_state=0)\n",
    "kmeans.fit(X)\n",
    "\n",
    "order_centroids = kmeans.cluster_centers_.argsort()[:, ::-1]\n",
    "a_three = vectorizer.get_feature_names_out()\n",
    "\n",
    "# print the words \n",
    "for i in range(3):\n",
    "    print(f\"\\nTop words for Cluster {i+1}:\")\n",
    "    for n in order_centroids[i, :10]:\n",
    "        print(f\"{a_three[n]}\")"
   ]
  },
  {
   "cell_type": "code",
   "execution_count": 41,
   "id": "PxMIY_gjz5Mt",
   "metadata": {
    "colab": {
     "base_uri": "https://localhost:8080/"
    },
    "id": "PxMIY_gjz5Mt",
    "outputId": "1bd278b3-2e43-4ac6-caf5-2016eb774116"
   },
   "outputs": [
    {
     "name": "stdout",
     "output_type": "stream",
     "text": [
      "\n",
      "Top words for Cluster 1:\n",
      "music\n",
      "album\n",
      "band\n",
      "released\n",
      "orchestra\n",
      "jazz\n",
      "song\n",
      "records\n",
      "songs\n",
      "albums\n",
      "\n",
      "Top words for Cluster 2:\n",
      "league\n",
      "season\n",
      "team\n",
      "played\n",
      "football\n",
      "coach\n",
      "games\n",
      "club\n",
      "player\n",
      "cup\n",
      "\n",
      "Top words for Cluster 3:\n",
      "university\n",
      "new\n",
      "research\n",
      "art\n",
      "book\n",
      "work\n",
      "published\n",
      "professor\n",
      "american\n",
      "born\n",
      "\n",
      "Top words for Cluster 4:\n",
      "party\n",
      "election\n",
      "minister\n",
      "law\n",
      "served\n",
      "member\n",
      "elected\n",
      "state\n",
      "president\n",
      "district\n",
      "\n",
      "Top words for Cluster 5:\n",
      "film\n",
      "theatre\n",
      "television\n",
      "films\n",
      "series\n",
      "award\n",
      "actor\n",
      "role\n",
      "directed\n",
      "festival\n"
     ]
    }
   ],
   "source": [
    "from sklearn.cluster import KMeans\n",
    "from sklearn.feature_extraction.text import TfidfVectorizer\n",
    "import matplotlib.pyplot as plt\n",
    "\n",
    "vectorizer = TfidfVectorizer(stop_words='english')\n",
    "X = vectorizer.fit_transform(people['text'])\n",
    "\n",
    "\n",
    "kmeans = KMeans(n_clusters=5, random_state=0)\n",
    "kmeans.fit(X)\n",
    "\n",
    "order_centroids = kmeans.cluster_centers_.argsort()[:, ::-1]\n",
    "a_five = vectorizer.get_feature_names_out()\n",
    "\n",
    "# print the words \n",
    "for i in range(5):\n",
    "    print(f\"\\nTop words for Cluster {i+1}:\")\n",
    "    for n in order_centroids[i, :10]:\n",
    "        print(f\"{a_five[n]}\")"
   ]
  },
  {
   "cell_type": "code",
   "execution_count": 42,
   "id": "4-OSZX8lC_V1",
   "metadata": {
    "colab": {
     "base_uri": "https://localhost:8080/"
    },
    "id": "4-OSZX8lC_V1",
    "outputId": "07fceb34-9e29-4f6b-d7b6-3bb029bc9038"
   },
   "outputs": [
    {
     "name": "stdout",
     "output_type": "stream",
     "text": [
      "\n",
      "Top words for Cluster 1:\n",
      "league\n",
      "baseball\n",
      "major\n",
      "season\n",
      "games\n",
      "runs\n",
      "pitcher\n",
      "played\n",
      "minor\n",
      "sox\n",
      "\n",
      "Top words for Cluster 2:\n",
      "party\n",
      "election\n",
      "minister\n",
      "served\n",
      "member\n",
      "elected\n",
      "president\n",
      "state\n",
      "general\n",
      "law\n",
      "\n",
      "Top words for Cluster 3:\n",
      "film\n",
      "new\n",
      "art\n",
      "television\n",
      "work\n",
      "series\n",
      "award\n",
      "book\n",
      "york\n",
      "born\n",
      "\n",
      "Top words for Cluster 4:\n",
      "world\n",
      "championships\n",
      "won\n",
      "tour\n",
      "championship\n",
      "team\n",
      "olympics\n",
      "race\n",
      "racing\n",
      "finished\n",
      "\n",
      "Top words for Cluster 5:\n",
      "university\n",
      "research\n",
      "professor\n",
      "science\n",
      "institute\n",
      "studies\n",
      "law\n",
      "phd\n",
      "international\n",
      "college\n",
      "\n",
      "Top words for Cluster 6:\n",
      "music\n",
      "album\n",
      "band\n",
      "released\n",
      "orchestra\n",
      "jazz\n",
      "song\n",
      "records\n",
      "songs\n",
      "albums\n",
      "\n",
      "Top words for Cluster 7:\n",
      "season\n",
      "football\n",
      "league\n",
      "played\n",
      "team\n",
      "coach\n",
      "club\n",
      "cup\n",
      "player\n",
      "games\n"
     ]
    }
   ],
   "source": [
    "from sklearn.cluster import KMeans\n",
    "from sklearn.feature_extraction.text import TfidfVectorizer\n",
    "\n",
    "vectorizer = TfidfVectorizer(stop_words='english')\n",
    "X = vectorizer.fit_transform(people['text'])\n",
    "\n",
    "kmeans = KMeans(n_clusters=7, random_state=0)\n",
    "kmeans.fit(X)\n",
    "\n",
    "order_centroids = kmeans.cluster_centers_.argsort()[:, ::-1]\n",
    "a_seven = vectorizer.get_feature_names_out()\n",
    "\n",
    "# print the  words\n",
    "for i in range(7):\n",
    "    print(f\"\\nTop words for Cluster {i+1}:\")\n",
    "    for n in order_centroids[i, :10]:\n",
    "        print(f\"{a_seven[n]}\")\n"
   ]
  },
  {
   "cell_type": "code",
   "execution_count": 8,
   "id": "30edbf53",
   "metadata": {
    "colab": {
     "base_uri": "https://localhost:8080/",
     "height": 356
    },
    "id": "30edbf53",
    "outputId": "c0d55f38-bd3a-4df1-d446-bd9039cebeb1"
   },
   "outputs": [
    {
     "name": "stdout",
     "output_type": "stream",
     "text": [
      "\n",
      "Top words for Cluster 1:\n",
      "music\n",
      "album\n",
      "band\n",
      "released\n",
      "orchestra\n",
      "jazz\n",
      "song\n",
      "records\n",
      "songs\n",
      "albums\n",
      "\n",
      "Top words for Cluster 2:\n",
      "league\n",
      "season\n",
      "team\n",
      "played\n",
      "football\n",
      "coach\n",
      "games\n",
      "club\n",
      "player\n",
      "cup\n",
      "\n",
      "Top words for Cluster 3:\n",
      "university\n",
      "new\n",
      "research\n",
      "art\n",
      "book\n",
      "work\n",
      "published\n",
      "professor\n",
      "american\n",
      "born\n",
      "\n",
      "Top words for Cluster 4:\n",
      "party\n",
      "election\n",
      "minister\n",
      "law\n",
      "served\n",
      "member\n",
      "elected\n",
      "state\n",
      "president\n",
      "district\n",
      "\n",
      "Top words for Cluster 5:\n",
      "film\n",
      "theatre\n",
      "television\n",
      "films\n",
      "series\n",
      "award\n",
      "actor\n",
      "role\n",
      "directed\n",
      "festival\n",
      "                                     name  \\\n",
      "0                           Digby Morrell   \n",
      "1                          Alfred J. Lewy   \n",
      "2                           Harpdog Brown   \n",
      "3                     Franz Rottensteiner   \n",
      "4                                  G-Enka   \n",
      "...                                   ...   \n",
      "42781                  Motoaki Takenouchi   \n",
      "42782  Alan Judge (footballer, born 1960)   \n",
      "42783                        Eduardo Lara   \n",
      "42784                Tatiana Faberg%C3%A9   \n",
      "42785                      Kenneth Thomas   \n",
      "\n",
      "                                                    text                label  \n",
      "0      digby morrell born 10 october 1979 is a former...        Football-game  \n",
      "1      alfred j lewy aka sandy lewy graduated from un...  Research-University  \n",
      "2      harpdog brown is a singer and harmonica player...            Musicians  \n",
      "3      franz rottensteiner born in waidmannsfeld lowe...  Research-University  \n",
      "4      henry krvits born 30 december 1974 in tallinn ...            Musicians  \n",
      "...                                                  ...                  ...  \n",
      "42781  motoaki takenouchi born july 8 1967 saitama pr...            Musicians  \n",
      "42782  alan graham judge born 14 may 1960 is a retire...        Football-game  \n",
      "42783  eduardo lara lozano born 4 september 1959 in c...        Football-game  \n",
      "42784  tatiana faberg is an author and faberg scholar...  Research-University  \n",
      "42785  kenneth thomas born february 24 1938 was chief...  Research-University  \n",
      "\n",
      "[42786 rows x 3 columns]\n"
     ]
    }
   ],
   "source": [
    "from sklearn.cluster import KMeans\n",
    "from sklearn.feature_extraction.text import TfidfVectorizer\n",
    "kmeans = KMeans(n_clusters=5, random_state=0)\n",
    "kmeans.fit(X)\n",
    "labels = {0: \"Musicians\", 1: \"Football-game\", 2: \"Research-University\", 3: \"Elections\", 4: \"Movie-Industry\"}\n",
    "cluster_labels = [labels[label] for label in kmeans.labels_]\n",
    "people['label'] = cluster_labels\n",
    "order_centroids = kmeans.cluster_centers_.argsort()[:, ::-1]\n",
    "five = vectorizer.get_feature_names_out()\n",
    "\n",
    "# Print the words for 5 clusters \n",
    "for i in range(5):\n",
    "    print(f\"\\nTop words for Cluster {i+1}:\")\n",
    "    for n in order_centroids[i, :10]:\n",
    "        print(f\"{five[n]}\")\n",
    "    \n",
    "print(people[['name', 'text', 'label']])"
   ]
  },
  {
   "cell_type": "code",
   "execution_count": null,
   "id": "a2a3bb4f",
   "metadata": {
    "id": "a2a3bb4f"
   },
   "outputs": [],
   "source": []
  }
 ],
 "metadata": {
  "colab": {
   "provenance": []
  },
  "kernelspec": {
   "display_name": "Python 3 (ipykernel)",
   "language": "python",
   "name": "python3"
  },
  "language_info": {
   "codemirror_mode": {
    "name": "ipython",
    "version": 3
   },
   "file_extension": ".py",
   "mimetype": "text/x-python",
   "name": "python",
   "nbconvert_exporter": "python",
   "pygments_lexer": "ipython3",
   "version": "3.9.12"
  },
  "toc": {
   "base_numbering": 1,
   "nav_menu": {},
   "number_sections": false,
   "sideBar": true,
   "skip_h1_title": false,
   "title_cell": "Table of Contents",
   "title_sidebar": "Contents",
   "toc_cell": false,
   "toc_position": {},
   "toc_section_display": true,
   "toc_window_display": true
  }
 },
 "nbformat": 4,
 "nbformat_minor": 5
}
