{
 "cells": [
  {
   "cell_type": "markdown",
   "metadata": {
    "id": "zFC1WSS-3Pz9"
   },
   "source": [
    "# Assignment Week 2 \n",
    "\n",
    "* Answer each question completely. \n",
    "* Include your code and summarize what you see in a brief narrative.\n",
    "\n",
    "__Charting:__\n",
    "Remember to make your charts as self-sufficient as possible (i.e., labels, titles, lack of clutter)  "
   ]
  },
  {
   "cell_type": "code",
   "execution_count": 15,
   "metadata": {
    "colab": {
     "base_uri": "https://localhost:8080/"
    },
    "id": "erZoydj23P0C",
    "outputId": "db8f1ace-cc8f-4d1b-c152-af0b6f43ae28"
   },
   "outputs": [
    {
     "name": "stdout",
     "output_type": "stream",
     "text": [
      "<class 'pandas.core.frame.DataFrame'>\n",
      "RangeIndex: 558837 entries, 0 to 558836\n",
      "Data columns (total 16 columns):\n",
      " #   Column        Non-Null Count   Dtype  \n",
      "---  ------        --------------   -----  \n",
      " 0   year          558837 non-null  int64  \n",
      " 1   make          548536 non-null  object \n",
      " 2   model         548438 non-null  object \n",
      " 3   trim          548186 non-null  object \n",
      " 4   body          545642 non-null  object \n",
      " 5   transmission  493484 non-null  object \n",
      " 6   vin           558833 non-null  object \n",
      " 7   state         558837 non-null  object \n",
      " 8   condition     547043 non-null  object \n",
      " 9   odometer      558743 non-null  float64\n",
      " 10  color         558088 non-null  object \n",
      " 11  interior      558088 non-null  object \n",
      " 12  seller        558837 non-null  object \n",
      " 13  mmr           558837 non-null  object \n",
      " 14  sellingprice  558837 non-null  int64  \n",
      " 15  saledate      558837 non-null  object \n",
      "dtypes: float64(1), int64(2), object(13)\n",
      "memory usage: 68.2+ MB\n"
     ]
    }
   ],
   "source": [
    "import pandas as pd\n",
    "import numpy as np\n",
    "import matplotlib.pyplot as plt\n",
    "%matplotlib inline\n",
    "\n",
    "df = pd.read_csv('https://raw.githubusercontent.com/msaricaumbc/DS_data/master/ds602/car_prices/car_prices.csv', low_memory=False)\n",
    "\n",
    "df.info()"
   ]
  },
  {
   "cell_type": "markdown",
   "metadata": {
    "id": "8f1BoSga3P0E"
   },
   "source": [
    "# Data Description:\n",
    "- year: year the car was built (e.g., the model year)  \n",
    "- make: the manufacturer. \n",
    "- model: specific model of the car  \n",
    "- trim: subtype of the car model. \n",
    "- body: body style of the car. \n",
    "- transmission: type of transmission  \n",
    "- state: state car is registered. \n",
    "- condition: numerical rating of the condition, higher is better.  \n",
    "- odometer: number of miles the car has been driven.   \n",
    "- color: color of the car.  \n",
    "- interior: type of interior (e.g., seats). \n",
    "- mmr: estimated wholesale price of the car if auctioned.  \n",
    "- sellingprice: actual sales price of the car."
   ]
  },
  {
   "cell_type": "markdown",
   "metadata": {
    "id": "l204Tl983P0E"
   },
   "source": [
    "## Question 1. Determine the number of missing values in each column."
   ]
  },
  {
   "cell_type": "code",
   "execution_count": 16,
   "metadata": {
    "colab": {
     "base_uri": "https://localhost:8080/"
    },
    "id": "FHPCZqIu3P0F",
    "outputId": "a0b54041-fa70-4c09-96f7-34b667b12d23"
   },
   "outputs": [
    {
     "data": {
      "text/plain": [
       "year                0\n",
       "make            10301\n",
       "model           10399\n",
       "trim            10651\n",
       "body            13195\n",
       "transmission    65353\n",
       "vin                 4\n",
       "state               0\n",
       "condition       11794\n",
       "odometer           94\n",
       "color             749\n",
       "interior          749\n",
       "seller              0\n",
       "mmr                 0\n",
       "sellingprice        0\n",
       "saledate            0\n",
       "dtype: int64"
      ]
     },
     "execution_count": 16,
     "metadata": {},
     "output_type": "execute_result"
    }
   ],
   "source": [
    "df.isna().sum()"
   ]
  },
  {
   "cell_type": "markdown",
   "metadata": {
    "id": "mBDTrpUW3P0F"
   },
   "source": [
    "Features like year, state, seller and sellingprice has no missing values but features like condition, transmission, body have large number of missing values."
   ]
  },
  {
   "cell_type": "markdown",
   "metadata": {
    "id": "PjE2E-yS3P0G"
   },
   "source": [
    "## Question 2. Check the data types.\n",
    "- Which columns are coded to the incorrect type? If any, correct them."
   ]
  },
  {
   "cell_type": "code",
   "execution_count": 17,
   "metadata": {
    "colab": {
     "base_uri": "https://localhost:8080/"
    },
    "id": "RTASDj1k3P0G",
    "outputId": "da4082a4-5182-42a0-da06-dc2cb5a8d17c"
   },
   "outputs": [
    {
     "data": {
      "text/plain": [
       "year              int64\n",
       "make             object\n",
       "model            object\n",
       "trim             object\n",
       "body             object\n",
       "transmission     object\n",
       "vin              object\n",
       "state            object\n",
       "condition        object\n",
       "odometer        float64\n",
       "color            object\n",
       "interior         object\n",
       "seller           object\n",
       "mmr              object\n",
       "sellingprice      int64\n",
       "saledate         object\n",
       "dtype: object"
      ]
     },
     "execution_count": 17,
     "metadata": {},
     "output_type": "execute_result"
    }
   ],
   "source": [
    "df.dtypes"
   ]
  },
  {
   "cell_type": "code",
   "execution_count": 18,
   "metadata": {
    "id": "EqNjJ0AL48uC"
   },
   "outputs": [],
   "source": [
    "Conditioncounts = df['condition'].value_counts()\n",
    "df = df[df['condition'].isin(Conditioncounts[Conditioncounts > 50].index)]\n",
    "\n",
    "df['condition']=df['condition'].astype(float)\n",
    "df['mmr']=df['mmr'].astype(int)\n",
    "df['saledate'] = pd.to_datetime(df['saledate'], infer_datetime_format=True)"
   ]
  },
  {
   "cell_type": "code",
   "execution_count": 19,
   "metadata": {},
   "outputs": [
    {
     "data": {
      "text/plain": [
       "year              int64\n",
       "make             object\n",
       "model            object\n",
       "trim             object\n",
       "body             object\n",
       "transmission     object\n",
       "vin              object\n",
       "state            object\n",
       "condition       float64\n",
       "odometer        float64\n",
       "color            object\n",
       "interior         object\n",
       "seller           object\n",
       "mmr               int32\n",
       "sellingprice      int64\n",
       "saledate         object\n",
       "dtype: object"
      ]
     },
     "execution_count": 19,
     "metadata": {},
     "output_type": "execute_result"
    }
   ],
   "source": [
    "df.dtypes"
   ]
  },
  {
   "cell_type": "markdown",
   "metadata": {
    "id": "2krxB0d43P0G"
   },
   "source": [
    "So, we first remove error values by taking away values in any features whose count is very small. This gives a cleaner data.\n",
    "\n",
    "Then we change datatype condition to float, mmr to int and saledate to datetime."
   ]
  },
  {
   "cell_type": "markdown",
   "metadata": {
    "id": "qOBj-jP73P0H"
   },
   "source": [
    "## Question 3. Analyze the `make` column.\n",
    "- Comment on what you observe.  \n",
    "- Clean the column to reduce the number of unique values to as few as reasonably possible (no hard coding). \n",
    "\n",
    "Hint: What do you notice if you run this:\n",
    "```python\n",
    "makes = df.make.unique().tolist()\n",
    "makes = [str(x).lower() for x in makes]\n",
    "sorted(makes)\n",
    "```"
   ]
  },
  {
   "cell_type": "code",
   "execution_count": 20,
   "metadata": {
    "colab": {
     "base_uri": "https://localhost:8080/"
    },
    "id": "ilbwpepQBGfS",
    "outputId": "3c3f7c49-c9d9-4427-ad0f-21dc040f5b57"
   },
   "outputs": [
    {
     "data": {
      "text/plain": [
       "['acura',\n",
       " 'acura',\n",
       " 'airstream',\n",
       " 'aston martin',\n",
       " 'audi',\n",
       " 'audi',\n",
       " 'bentley',\n",
       " 'bmw',\n",
       " 'bmw',\n",
       " 'buick',\n",
       " 'buick',\n",
       " 'cadillac',\n",
       " 'cadillac',\n",
       " 'chevrolet',\n",
       " 'chevrolet',\n",
       " 'chrysler',\n",
       " 'chrysler',\n",
       " 'daewoo',\n",
       " 'dodge',\n",
       " 'dodge',\n",
       " 'dodge tk',\n",
       " 'dot',\n",
       " 'ferrari',\n",
       " 'fiat',\n",
       " 'fisker',\n",
       " 'ford',\n",
       " 'ford',\n",
       " 'ford tk',\n",
       " 'ford truck',\n",
       " 'geo',\n",
       " 'gmc',\n",
       " 'gmc',\n",
       " 'gmc truck',\n",
       " 'honda',\n",
       " 'honda',\n",
       " 'hummer',\n",
       " 'hyundai',\n",
       " 'hyundai',\n",
       " 'infiniti',\n",
       " 'isuzu',\n",
       " 'jaguar',\n",
       " 'jeep',\n",
       " 'jeep',\n",
       " 'kia',\n",
       " 'kia',\n",
       " 'lamborghini',\n",
       " 'land rover',\n",
       " 'land rover',\n",
       " 'landrover',\n",
       " 'lexus',\n",
       " 'lexus',\n",
       " 'lincoln',\n",
       " 'lincoln',\n",
       " 'lotus',\n",
       " 'maserati',\n",
       " 'maserati',\n",
       " 'mazda',\n",
       " 'mazda',\n",
       " 'mercedes',\n",
       " 'mercedes-b',\n",
       " 'mercedes-benz',\n",
       " 'mercury',\n",
       " 'mercury',\n",
       " 'mini',\n",
       " 'mitsubishi',\n",
       " 'mitsubishi',\n",
       " 'nan',\n",
       " 'nissan',\n",
       " 'nissan',\n",
       " 'oldsmobile',\n",
       " 'oldsmobile',\n",
       " 'plymouth',\n",
       " 'plymouth',\n",
       " 'pontiac',\n",
       " 'pontiac',\n",
       " 'porsche',\n",
       " 'porsche',\n",
       " 'ram',\n",
       " 'rolls-royce',\n",
       " 'saab',\n",
       " 'saturn',\n",
       " 'scion',\n",
       " 'smart',\n",
       " 'subaru',\n",
       " 'subaru',\n",
       " 'suzuki',\n",
       " 'suzuki',\n",
       " 'tesla',\n",
       " 'toyota',\n",
       " 'toyota',\n",
       " 'volkswagen',\n",
       " 'volkswagen',\n",
       " 'volvo',\n",
       " 'vw']"
      ]
     },
     "execution_count": 20,
     "metadata": {},
     "output_type": "execute_result"
    }
   ],
   "source": [
    "makes = df.make.unique().tolist()\n",
    "makes = [str(x).lower() for x in makes]\n",
    "sorted(makes)"
   ]
  },
  {
   "cell_type": "markdown",
   "metadata": {
    "id": "x1WyoS-zDxoK"
   },
   "source": [
    "We see a lot of values repeating. This means we have a lot of features with the same value just with different case[mixture of upper and lower case]. They are treated differently which should not be the case."
   ]
  },
  {
   "cell_type": "code",
   "execution_count": 21,
   "metadata": {
    "id": "hmgRvepU3P0I"
   },
   "outputs": [],
   "source": [
    "df= df.applymap(lambda s:s.lower() if type(s) == str else s)"
   ]
  },
  {
   "cell_type": "code",
   "execution_count": 22,
   "metadata": {
    "id": "aLtDpcILBXH9"
   },
   "outputs": [
    {
     "data": {
      "text/plain": [
       "['acura',\n",
       " 'airstream',\n",
       " 'aston martin',\n",
       " 'audi',\n",
       " 'bentley',\n",
       " 'bmw',\n",
       " 'buick',\n",
       " 'cadillac',\n",
       " 'chevrolet',\n",
       " 'chrysler',\n",
       " 'daewoo',\n",
       " 'dodge',\n",
       " 'dodge tk',\n",
       " 'dot',\n",
       " 'ferrari',\n",
       " 'fiat',\n",
       " 'fisker',\n",
       " 'ford',\n",
       " 'ford tk',\n",
       " 'ford truck',\n",
       " 'geo',\n",
       " 'gmc',\n",
       " 'gmc truck',\n",
       " 'honda',\n",
       " 'hummer',\n",
       " 'hyundai',\n",
       " 'infiniti',\n",
       " 'isuzu',\n",
       " 'jaguar',\n",
       " 'jeep',\n",
       " 'kia',\n",
       " 'lamborghini',\n",
       " 'land rover',\n",
       " 'landrover',\n",
       " 'lexus',\n",
       " 'lincoln',\n",
       " 'lotus',\n",
       " 'maserati',\n",
       " 'mazda',\n",
       " 'mercedes',\n",
       " 'mercedes-b',\n",
       " 'mercedes-benz',\n",
       " 'mercury',\n",
       " 'mini',\n",
       " 'mitsubishi',\n",
       " 'nan',\n",
       " 'nissan',\n",
       " 'oldsmobile',\n",
       " 'plymouth',\n",
       " 'pontiac',\n",
       " 'porsche',\n",
       " 'ram',\n",
       " 'rolls-royce',\n",
       " 'saab',\n",
       " 'saturn',\n",
       " 'scion',\n",
       " 'smart',\n",
       " 'subaru',\n",
       " 'suzuki',\n",
       " 'tesla',\n",
       " 'toyota',\n",
       " 'volkswagen',\n",
       " 'volvo',\n",
       " 'vw']"
      ]
     },
     "execution_count": 22,
     "metadata": {},
     "output_type": "execute_result"
    }
   ],
   "source": [
    "makes = df.make.unique().tolist()\n",
    "makes = [str(x).lower() for x in makes]\n",
    "sorted(makes)"
   ]
  },
  {
   "cell_type": "markdown",
   "metadata": {
    "id": "XBjm8kXS3P0I"
   },
   "source": [
    "We change values with str type to lower case. This reduces the the number of unique values to as few as reasonably possible."
   ]
  },
  {
   "cell_type": "code",
   "execution_count": 23,
   "metadata": {},
   "outputs": [
    {
     "data": {
      "text/plain": [
       "ford          92452\n",
       "chevrolet     59204\n",
       "nissan        53186\n",
       "toyota        39079\n",
       "dodge         30308\n",
       "              ...  \n",
       "dodge tk          1\n",
       "airstream         1\n",
       "dot               1\n",
       "mercedes-b        1\n",
       "lotus             1\n",
       "Name: make, Length: 63, dtype: int64"
      ]
     },
     "execution_count": 23,
     "metadata": {},
     "output_type": "execute_result"
    }
   ],
   "source": [
    "df['make'].value_counts()"
   ]
  },
  {
   "cell_type": "markdown",
   "metadata": {
    "id": "gbDAy2Ln3P0I"
   },
   "source": [
    "## Question 4. Analyze the relationship between the wholeprice `mmr` and the `salesprice`.\n",
    "- What is the overall correlation?  \n",
    "- What happens to the correlation as you increase the maximum selling price window (e.g., 0-10000, 0-20000,...)?\n",
    "- Create a scatter plot with the relationship.  \n",
    "- Create a graph that shows how the correlation changes."
   ]
  },
  {
   "cell_type": "code",
   "execution_count": 9,
   "metadata": {
    "colab": {
     "base_uri": "https://localhost:8080/"
    },
    "id": "x_0mUqT33P0J",
    "outputId": "e2f2b3c0-38e0-483f-9108-18bac898e381"
   },
   "outputs": [
    {
     "name": "stdout",
     "output_type": "stream",
     "text": [
      "Overall Correlation =  0.9838184764590497\n"
     ]
    }
   ],
   "source": [
    "corr = df['mmr'].corr(df['sellingprice'])\n",
    "print('Overall Correlation = ' , corr)"
   ]
  },
  {
   "cell_type": "code",
   "execution_count": 10,
   "metadata": {
    "colab": {
     "base_uri": "https://localhost:8080/"
    },
    "id": "YC0TaFOhGgTI",
    "outputId": "9654b375-bcf3-4f52-bc60-aa4b66a788cd"
   },
   "outputs": [
    {
     "name": "stdout",
     "output_type": "stream",
     "text": [
      "Overall Correlation at selling price window 0 -  5000  =  0.6541860687482615\n",
      "Overall Correlation at selling price window 0 -  10000  =  0.8722695983318485\n",
      "Overall Correlation at selling price window 0 -  20000  =  0.958189817996349\n",
      "Overall Correlation at selling price window 0 -  50000  =  0.9814253375873482\n",
      "Overall Correlation at selling price window 0 -  75000  =  0.983126614516934\n",
      "Overall Correlation at selling price window 0 -  100000  =  0.983769769912455\n",
      "Overall Correlation at selling price window 0 -  125000  =  0.9839079743992518\n",
      "Overall Correlation at selling price window 0 -  150000  =  0.9840744935685447\n",
      "Overall Correlation at selling price window 0 -  175000  =  0.9842160799054257\n",
      "Overall Correlation at selling price window 0 -  200000  =  0.9842247874608676\n"
     ]
    }
   ],
   "source": [
    "range = [5000, 10000, 20000, 50000, 75000, 100000, 125000, 150000, 175000, 200000]\n",
    "output = []\n",
    "\n",
    "for i in range:\n",
    "  df_new = df[df['sellingprice']<i]\n",
    "  corr = df_new['mmr'].corr(df_new['sellingprice'])\n",
    "  print('Overall Correlation at selling price window 0 - ', i, ' = ' , corr)\n",
    "  output.append(corr)"
   ]
  },
  {
   "cell_type": "code",
   "execution_count": 11,
   "metadata": {
    "colab": {
     "base_uri": "https://localhost:8080/",
     "height": 312
    },
    "id": "uC4M3FKEF4LM",
    "outputId": "da3b1538-95e8-403e-8858-57cb798bfe3d"
   },
   "outputs": [
    {
     "data": {
      "text/plain": [
       "Text(0.5, 1.0, 'Observed Trend')"
      ]
     },
     "execution_count": 11,
     "metadata": {},
     "output_type": "execute_result"
    },
    {
     "data": {
      "image/png": "[encoded data removed]",
      "text/plain": [
       "<Figure size 432x288 with 1 Axes>"
      ]
     },
     "metadata": {
      "needs_background": "light"
     },
     "output_type": "display_data"
    }
   ],
   "source": [
    "plt.scatter(df['mmr'], df['sellingprice'], c =\"blue\")\n",
    "plt.ylabel('Sale Price')\n",
    "plt.xlabel('MMR')\n",
    "plt.title('Observed Trend')"
   ]
  },
  {
   "cell_type": "code",
   "execution_count": 12,
   "metadata": {
    "colab": {
     "base_uri": "https://localhost:8080/",
     "height": 295
    },
    "id": "0833hBxWHYKf",
    "outputId": "e74766f5-e460-463e-9289-4abbbeb0e495"
   },
   "outputs": [
    {
     "data": {
      "image/png": "[encoded data removed]",
      "text/plain": [
       "<Figure size 432x288 with 1 Axes>"
      ]
     },
     "metadata": {
      "needs_background": "light"
     },
     "output_type": "display_data"
    }
   ],
   "source": [
    "plt.plot(range, output, marker = '.')\n",
    "plt.xlabel('Sale Price')\n",
    "plt.ylabel('Correlation')\n",
    "plt.title('Observed Trend')\n",
    "plt.show()"
   ]
  },
  {
   "cell_type": "markdown",
   "metadata": {
    "id": "V_jRRrr73P0J"
   },
   "source": [
    "## Question 5. How does the distribution of `salesprice` vary by make for cars made between 2014-2015?\n",
    "- Use the 10 most common makes (your cleaned version of this column).  \n",
    "- Create a graph that answers this question."
   ]
  },
  {
   "cell_type": "code",
   "execution_count": 29,
   "metadata": {},
   "outputs": [
    {
     "name": "stdout",
     "output_type": "stream",
     "text": [
      "ford         92452\n",
      "chevrolet    59204\n",
      "nissan       53186\n",
      "toyota       39079\n",
      "dodge        30308\n",
      "honda        26494\n",
      "hyundai      21495\n",
      "bmw          20379\n",
      "kia          17879\n",
      "chrysler     17103\n",
      "Name: make, dtype: int64\n"
     ]
    }
   ],
   "source": [
    "top_makes = df['make'].value_counts(normalize=False).head(10)\n",
    "print(top_makes)"
   ]
  },
  {
   "cell_type": "code",
   "execution_count": 49,
   "metadata": {
    "id": "q5dXnAFsLNk4"
   },
   "outputs": [
    {
     "name": "stdout",
     "output_type": "stream",
     "text": [
      "Index(['ford', 'nissan', 'chevrolet', 'toyota', 'dodge', 'hyundai', 'honda',\n",
      "       'kia', 'infiniti', 'bmw'],\n",
      "      dtype='object')\n"
     ]
    },
    {
     "data": {
      "text/html": [
       "<div>\n",
       "<style scoped>\n",
       "    .dataframe tbody tr th:only-of-type {\n",
       "        vertical-align: middle;\n",
       "    }\n",
       "\n",
       "    .dataframe tbody tr th {\n",
       "        vertical-align: top;\n",
       "    }\n",
       "\n",
       "    .dataframe thead th {\n",
       "        text-align: right;\n",
       "    }\n",
       "</style>\n",
       "<table border=\"1\" class=\"dataframe\">\n",
       "  <thead>\n",
       "    <tr style=\"text-align: right;\">\n",
       "      <th></th>\n",
       "      <th>year</th>\n",
       "      <th>condition</th>\n",
       "      <th>odometer</th>\n",
       "      <th>mmr</th>\n",
       "      <th>sellingprice</th>\n",
       "    </tr>\n",
       "  </thead>\n",
       "  <tbody>\n",
       "    <tr>\n",
       "      <th>count</th>\n",
       "      <td>269573.00000</td>\n",
       "      <td>269573.000000</td>\n",
       "      <td>269569.000000</td>\n",
       "      <td>269573.000000</td>\n",
       "      <td>269573.000000</td>\n",
       "    </tr>\n",
       "    <tr>\n",
       "      <th>mean</th>\n",
       "      <td>2012.53591</td>\n",
       "      <td>3.745855</td>\n",
       "      <td>41116.479291</td>\n",
       "      <td>16382.824226</td>\n",
       "      <td>16212.961391</td>\n",
       "    </tr>\n",
       "    <tr>\n",
       "      <th>std</th>\n",
       "      <td>1.21696</td>\n",
       "      <td>0.822903</td>\n",
       "      <td>28511.544467</td>\n",
       "      <td>7754.426098</td>\n",
       "      <td>7917.289225</td>\n",
       "    </tr>\n",
       "    <tr>\n",
       "      <th>min</th>\n",
       "      <td>2010.00000</td>\n",
       "      <td>1.000000</td>\n",
       "      <td>1.000000</td>\n",
       "      <td>1100.000000</td>\n",
       "      <td>1.000000</td>\n",
       "    </tr>\n",
       "    <tr>\n",
       "      <th>25%</th>\n",
       "      <td>2012.00000</td>\n",
       "      <td>3.300000</td>\n",
       "      <td>21767.000000</td>\n",
       "      <td>11350.000000</td>\n",
       "      <td>11100.000000</td>\n",
       "    </tr>\n",
       "    <tr>\n",
       "      <th>50%</th>\n",
       "      <td>2013.00000</td>\n",
       "      <td>3.900000</td>\n",
       "      <td>35486.000000</td>\n",
       "      <td>14400.000000</td>\n",
       "      <td>14250.000000</td>\n",
       "    </tr>\n",
       "    <tr>\n",
       "      <th>75%</th>\n",
       "      <td>2013.00000</td>\n",
       "      <td>4.400000</td>\n",
       "      <td>53660.000000</td>\n",
       "      <td>19600.000000</td>\n",
       "      <td>19500.000000</td>\n",
       "    </tr>\n",
       "    <tr>\n",
       "      <th>max</th>\n",
       "      <td>2015.00000</td>\n",
       "      <td>5.000000</td>\n",
       "      <td>999999.000000</td>\n",
       "      <td>176000.000000</td>\n",
       "      <td>230000.000000</td>\n",
       "    </tr>\n",
       "  </tbody>\n",
       "</table>\n",
       "</div>"
      ],
      "text/plain": [
       "               year      condition       odometer            mmr  \\\n",
       "count  269573.00000  269573.000000  269569.000000  269573.000000   \n",
       "mean     2012.53591       3.745855   41116.479291   16382.824226   \n",
       "std         1.21696       0.822903   28511.544467    7754.426098   \n",
       "min      2010.00000       1.000000       1.000000    1100.000000   \n",
       "25%      2012.00000       3.300000   21767.000000   11350.000000   \n",
       "50%      2013.00000       3.900000   35486.000000   14400.000000   \n",
       "75%      2013.00000       4.400000   53660.000000   19600.000000   \n",
       "max      2015.00000       5.000000  999999.000000  176000.000000   \n",
       "\n",
       "        sellingprice  \n",
       "count  269573.000000  \n",
       "mean    16212.961391  \n",
       "std      7917.289225  \n",
       "min         1.000000  \n",
       "25%     11100.000000  \n",
       "50%     14250.000000  \n",
       "75%     19500.000000  \n",
       "max    230000.000000  "
      ]
     },
     "execution_count": 49,
     "metadata": {},
     "output_type": "execute_result"
    },
    {
     "data": {
      "image/png": "[encoded data removed]",
      "text/plain": [
       "<Figure size 720x720 with 6 Axes>"
      ]
     },
     "metadata": {
      "needs_background": "light"
     },
     "output_type": "display_data"
    },
    {
     "data": {
      "image/png": "[encoded data removed]",
      "text/plain": [
       "<Figure size 720x720 with 12 Axes>"
      ]
     },
     "metadata": {
      "needs_background": "light"
     },
     "output_type": "display_data"
    }
   ],
   "source": [
    "\n",
    "topten_make = dftemp['make'].value_counts().head(10).index\n",
    "print(topten_make)\n",
    "df = df[df['make'].isin(topten_make)]\n",
    "dftemp = df.query('year >= 2010 and year <= 2015')\n",
    "dftemp = dftemp.loc[dftemp['make'].isin(topten_make)]\n",
    "dftemp.hist('sellingprice', 'year',figsize=(10,10),facecolor='green',edgecolor='blue')\n",
    "dftemp.hist('sellingprice', 'make',figsize=(10,10),facecolor='green',edgecolor='blue')\n",
    "dftemp.describe()"
   ]
  },
  {
   "cell_type": "markdown",
   "metadata": {},
   "source": [
    "The mean of selling price is around 16212 between years 2010-2015 and the max selling price is 230k"
   ]
  },
  {
   "cell_type": "markdown",
   "metadata": {},
   "source": [
    "Reference Link:\n",
    "\n",
    "https://codeql.github.com/docs/codeql-language-guides/basic-query-for-python-code/\n",
    "\n",
    "\n",
    "https://www.programiz.com/python-programming/anonymous-function"
   ]
  },
  {
   "cell_type": "code",
   "execution_count": null,
   "metadata": {},
   "outputs": [],
   "source": []
  }
 ],
 "metadata": {
  "colab": {
   "provenance": []
  },
  "kernelspec": {
   "display_name": "Python 3 (ipykernel)",
   "language": "python",
   "name": "python3"
  },
  "language_info": {
   "codemirror_mode": {
    "name": "ipython",
    "version": 3
   },
   "file_extension": ".py",
   "mimetype": "text/x-python",
   "name": "python",
   "nbconvert_exporter": "python",
   "pygments_lexer": "ipython3",
   "version": "3.9.12"
  },
  "toc": {
   "base_numbering": 1,
   "nav_menu": {},
   "number_sections": false,
   "sideBar": true,
   "skip_h1_title": false,
   "title_cell": "Table of Contents",
   "title_sidebar": "Contents",
   "toc_cell": false,
   "toc_position": {},
   "toc_section_display": true,
   "toc_window_display": false
  }
 },
 "nbformat": 4,
 "nbformat_minor": 1
}
