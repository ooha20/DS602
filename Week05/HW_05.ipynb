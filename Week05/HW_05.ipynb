{
 "cells": [
  {
   "cell_type": "markdown",
   "metadata": {
    "id": "lNtuGQnVsbKV"
   },
   "source": [
    "# Logistic Regression Assignment\n",
    "\n",
    "- Run the below cells. If you have the data in a different directory, you'll need to change the url.\n",
    "- Complete all of the numbered questions. You may call any packages that we've used in class.  "
   ]
  },
  {
   "cell_type": "code",
   "execution_count": 22,
   "metadata": {
    "colab": {
     "base_uri": "https://localhost:8080/",
     "height": 357
    },
    "id": "qKiarqy-sbKY",
    "outputId": "a547da16-75d1-49ed-fd53-dad5fd95941e"
   },
   "outputs": [
    {
     "data": {
      "text/html": [
       "<div>\n",
       "<style scoped>\n",
       "    .dataframe tbody tr th:only-of-type {\n",
       "        vertical-align: middle;\n",
       "    }\n",
       "\n",
       "    .dataframe tbody tr th {\n",
       "        vertical-align: top;\n",
       "    }\n",
       "\n",
       "    .dataframe thead th {\n",
       "        text-align: right;\n",
       "    }\n",
       "</style>\n",
       "<table border=\"1\" class=\"dataframe\">\n",
       "  <thead>\n",
       "    <tr style=\"text-align: right;\">\n",
       "      <th></th>\n",
       "      <th>left_company</th>\n",
       "      <th>age</th>\n",
       "      <th>frequency_of_travel</th>\n",
       "      <th>department</th>\n",
       "      <th>commuting_distance</th>\n",
       "      <th>education</th>\n",
       "      <th>satisfaction_with_environment</th>\n",
       "      <th>gender</th>\n",
       "      <th>seniority_level</th>\n",
       "      <th>position</th>\n",
       "      <th>satisfaction_with_job</th>\n",
       "      <th>married_or_single</th>\n",
       "      <th>last_raise_pct</th>\n",
       "      <th>last_performance_rating</th>\n",
       "      <th>total_years_working</th>\n",
       "      <th>years_at_company</th>\n",
       "      <th>years_in_current_job</th>\n",
       "      <th>years_since_last_promotion</th>\n",
       "      <th>years_with_current_supervisor</th>\n",
       "    </tr>\n",
       "  </thead>\n",
       "  <tbody>\n",
       "    <tr>\n",
       "      <th>0</th>\n",
       "      <td>No</td>\n",
       "      <td>37</td>\n",
       "      <td>Travel_Rarely</td>\n",
       "      <td>Sales</td>\n",
       "      <td>16</td>\n",
       "      <td>4</td>\n",
       "      <td>4</td>\n",
       "      <td>Male</td>\n",
       "      <td>2</td>\n",
       "      <td>Sales Executive</td>\n",
       "      <td>3</td>\n",
       "      <td>Divorced</td>\n",
       "      <td>19</td>\n",
       "      <td>3</td>\n",
       "      <td>9</td>\n",
       "      <td>1</td>\n",
       "      <td>0</td>\n",
       "      <td>0</td>\n",
       "      <td>0</td>\n",
       "    </tr>\n",
       "    <tr>\n",
       "      <th>1</th>\n",
       "      <td>No</td>\n",
       "      <td>39</td>\n",
       "      <td>Travel_Rarely</td>\n",
       "      <td>Research &amp; Development</td>\n",
       "      <td>3</td>\n",
       "      <td>2</td>\n",
       "      <td>3</td>\n",
       "      <td>Male</td>\n",
       "      <td>2</td>\n",
       "      <td>Laboratory Technician</td>\n",
       "      <td>3</td>\n",
       "      <td>Divorced</td>\n",
       "      <td>15</td>\n",
       "      <td>3</td>\n",
       "      <td>11</td>\n",
       "      <td>10</td>\n",
       "      <td>8</td>\n",
       "      <td>0</td>\n",
       "      <td>7</td>\n",
       "    </tr>\n",
       "    <tr>\n",
       "      <th>2</th>\n",
       "      <td>No</td>\n",
       "      <td>52</td>\n",
       "      <td>Travel_Frequently</td>\n",
       "      <td>Research &amp; Development</td>\n",
       "      <td>25</td>\n",
       "      <td>4</td>\n",
       "      <td>3</td>\n",
       "      <td>Female</td>\n",
       "      <td>4</td>\n",
       "      <td>Manufacturing Director</td>\n",
       "      <td>4</td>\n",
       "      <td>Married</td>\n",
       "      <td>22</td>\n",
       "      <td>4</td>\n",
       "      <td>31</td>\n",
       "      <td>9</td>\n",
       "      <td>8</td>\n",
       "      <td>0</td>\n",
       "      <td>0</td>\n",
       "    </tr>\n",
       "    <tr>\n",
       "      <th>3</th>\n",
       "      <td>No</td>\n",
       "      <td>50</td>\n",
       "      <td>Non-Travel</td>\n",
       "      <td>Sales</td>\n",
       "      <td>1</td>\n",
       "      <td>3</td>\n",
       "      <td>4</td>\n",
       "      <td>Female</td>\n",
       "      <td>2</td>\n",
       "      <td>Sales Executive</td>\n",
       "      <td>3</td>\n",
       "      <td>Married</td>\n",
       "      <td>12</td>\n",
       "      <td>3</td>\n",
       "      <td>19</td>\n",
       "      <td>18</td>\n",
       "      <td>7</td>\n",
       "      <td>0</td>\n",
       "      <td>13</td>\n",
       "    </tr>\n",
       "    <tr>\n",
       "      <th>4</th>\n",
       "      <td>No</td>\n",
       "      <td>44</td>\n",
       "      <td>Travel_Rarely</td>\n",
       "      <td>Research &amp; Development</td>\n",
       "      <td>4</td>\n",
       "      <td>3</td>\n",
       "      <td>4</td>\n",
       "      <td>Male</td>\n",
       "      <td>2</td>\n",
       "      <td>Healthcare Representative</td>\n",
       "      <td>2</td>\n",
       "      <td>Single</td>\n",
       "      <td>12</td>\n",
       "      <td>3</td>\n",
       "      <td>10</td>\n",
       "      <td>5</td>\n",
       "      <td>2</td>\n",
       "      <td>2</td>\n",
       "      <td>3</td>\n",
       "    </tr>\n",
       "  </tbody>\n",
       "</table>\n",
       "</div>"
      ],
      "text/plain": [
       "  left_company  age frequency_of_travel              department  \\\n",
       "0           No   37       Travel_Rarely                   Sales   \n",
       "1           No   39       Travel_Rarely  Research & Development   \n",
       "2           No   52   Travel_Frequently  Research & Development   \n",
       "3           No   50          Non-Travel                   Sales   \n",
       "4           No   44       Travel_Rarely  Research & Development   \n",
       "\n",
       "   commuting_distance  education  satisfaction_with_environment  gender  \\\n",
       "0                  16          4                              4    Male   \n",
       "1                   3          2                              3    Male   \n",
       "2                  25          4                              3  Female   \n",
       "3                   1          3                              4  Female   \n",
       "4                   4          3                              4    Male   \n",
       "\n",
       "   seniority_level                   position  satisfaction_with_job  \\\n",
       "0                2            Sales Executive                      3   \n",
       "1                2      Laboratory Technician                      3   \n",
       "2                4     Manufacturing Director                      4   \n",
       "3                2            Sales Executive                      3   \n",
       "4                2  Healthcare Representative                      2   \n",
       "\n",
       "  married_or_single  last_raise_pct  last_performance_rating  \\\n",
       "0          Divorced              19                        3   \n",
       "1          Divorced              15                        3   \n",
       "2           Married              22                        4   \n",
       "3           Married              12                        3   \n",
       "4            Single              12                        3   \n",
       "\n",
       "   total_years_working  years_at_company  years_in_current_job  \\\n",
       "0                    9                 1                     0   \n",
       "1                   11                10                     8   \n",
       "2                   31                 9                     8   \n",
       "3                   19                18                     7   \n",
       "4                   10                 5                     2   \n",
       "\n",
       "   years_since_last_promotion  years_with_current_supervisor  \n",
       "0                           0                              0  \n",
       "1                           0                              7  \n",
       "2                           0                              0  \n",
       "3                           0                             13  \n",
       "4                           2                              3  "
      ]
     },
     "execution_count": 22,
     "metadata": {},
     "output_type": "execute_result"
    }
   ],
   "source": [
    "import pandas as pd\n",
    "import numpy as np\n",
    "import matplotlib.pyplot as plt\n",
    "%matplotlib inline\n",
    "\n",
    "data = pd.read_csv('https://raw.githubusercontent.com/msaricaumbc/DS_data/master/ds602/log_reg/employee-turnover-balanced.csv')\n",
    "data.head()"
   ]
  },
  {
   "cell_type": "markdown",
   "metadata": {
    "id": "veVK-apTsbKZ"
   },
   "source": [
    "## Data Definitions\n",
    "- `left_company`: Whether individual left the company or not. This is the target variable.  \n",
    "- `age`: Age of individual. \n",
    "- `frequency_of_travel`: How often person travels for work.  \n",
    "- `department`: Department person works(worked).  \n",
    "- `commuting_distance`: Distance person lives from office.  \n",
    "- `education`: Highest education category.  \n",
    "- `satisfaction_with_environment`: Satisfaction of environment, on lickert scale.  \n",
    "- `gender`: Gender of individual.  \n",
    "- `seniority_level`: Seniority level of individual.  \n",
    "- `position`: Last position held at the company.  \n",
    "- `satisfaction_with_job`: Satisfaction of their job, on lickert scale.  \n",
    "- `married_or_single`: Marital status of person.  \n",
    "- `last_raise_pct`: Percent increase their last raise represented.  \n",
    "- `last_performance_rating`: Most recent annual performance rating, on lickert scale.  \n",
    "- `total_years_working`: Number of years the individual has spent working in their career.  \n",
    "- `years_at_company`: Number of years the individual has been at the company, regardless of position.  \n",
    "- `years_in_current_job`: Number of years the individual has been in their current position.  \n",
    "- `years_since_last_promotion`: Years since the person had their last promotion.  \n",
    "- `years_with_current_supervisor`: Years the person has had their current supervisor."
   ]
  },
  {
   "cell_type": "markdown",
   "metadata": {
    "id": "OzWdt1jfsbKa"
   },
   "source": [
    "# Question 1\n",
    "- What is the distribution of the target (`left_company`)?  \n",
    "- Do you have any concerns on class imbalances?"
   ]
  },
  {
   "cell_type": "code",
   "execution_count": 23,
   "metadata": {
    "colab": {
     "base_uri": "https://localhost:8080/"
    },
    "id": "POdSCtc3sbKa",
    "outputId": "066ce841-ac66-497d-b7f5-80de03a1e388"
   },
   "outputs": [
    {
     "data": {
      "text/plain": [
       "Index(['left_company', 'age', 'frequency_of_travel', 'department',\n",
       "       'commuting_distance', 'education', 'satisfaction_with_environment',\n",
       "       'gender', 'seniority_level', 'position', 'satisfaction_with_job',\n",
       "       'married_or_single', 'last_raise_pct', 'last_performance_rating',\n",
       "       'total_years_working', 'years_at_company', 'years_in_current_job',\n",
       "       'years_since_last_promotion', 'years_with_current_supervisor'],\n",
       "      dtype='object')"
      ]
     },
     "execution_count": 23,
     "metadata": {},
     "output_type": "execute_result"
    }
   ],
   "source": [
    "data.left_company.value_counts()\n",
    "data.columns"
   ]
  },
  {
   "cell_type": "markdown",
   "metadata": {
    "id": "7os5EcFysbKa"
   },
   "source": [
    "The target is perfectly balanced if the dataset had a significant disparity between the number of instances in each class, it could've led to issues in model performance."
   ]
  },
  {
   "cell_type": "markdown",
   "metadata": {
    "id": "8yal2ehGsbKa"
   },
   "source": [
    "# Question 2\n",
    "- Create and print a list of the variables that you would treat as numerical and another list for the variables that you would treat as categorical.  \n",
    "- Explain your choices."
   ]
  },
  {
   "cell_type": "code",
   "execution_count": 24,
   "metadata": {
    "id": "KqsXFeR6sbKa"
   },
   "outputs": [],
   "source": [
    "numerical_variables = ['age', 'commuting_distance', 'last_performance_rating', \n",
    "                  'last_raise_pct', 'satisfaction_with_environment', 'satisfaction_with_job',\n",
    "                  'total_years_working', 'years_at_company', 'years_in_current_job',\n",
    "                  'years_since_last_promotion', 'years_with_current_supervisor']\n",
    "\n",
    "categorical_variables = ['department', 'education', 'frequency_of_travel', 'gender',\n",
    "                    'married_or_single', 'position',  'seniority_level']"
   ]
  },
  {
   "cell_type": "markdown",
   "metadata": {
    "id": "hEYroTDrsbKb"
   },
   "source": [
    "The variables on lickert scale are numerical variables and the categorical variables are the ones which have strings, or non ordinal such as seniority level and education(they are in category)"
   ]
  },
  {
   "cell_type": "markdown",
   "metadata": {
    "id": "OaHKugdrsbKb"
   },
   "source": [
    "# Question 3\n",
    "- Determine if any numerical variables risk multicolinearity.  \n",
    "- Remove those variables (if any) from your numerical_vars list.  \n",
    "- Why did you or did not remove any?"
   ]
  },
  {
   "cell_type": "code",
   "execution_count": 25,
   "metadata": {
    "colab": {
     "base_uri": "https://localhost:8080/",
     "height": 412
    },
    "id": "1J3jWfM3sbKb",
    "outputId": "3306a509-a8aa-431c-ebfd-b45b28146954"
   },
   "outputs": [
    {
     "data": {
      "image/png": "[encoded data removed]",
      "text/plain": [
       "<Figure size 432x288 with 2 Axes>"
      ]
     },
     "metadata": {
      "needs_background": "light"
     },
     "output_type": "display_data"
    }
   ],
   "source": [
    "data_num = data[numerical_variables]\n",
    "\n",
    "# Compute the correlation matrix\n",
    "corr_matrix = data_num.corr()\n",
    "\n",
    "import seaborn as sns\n",
    "\n",
    "# Plot the correlation matrix heatmap\n",
    "sns.heatmap(corr_matrix, cmap='coolwarm', center=1, annot=True)\n",
    "plt.show()\n"
   ]
  },
  {
   "cell_type": "code",
   "execution_count": 26,
   "metadata": {
    "id": "g4n1EvRezL0c"
   },
   "outputs": [],
   "source": [
    "numerical_variables.remove('years_at_company')"
   ]
  },
  {
   "cell_type": "markdown",
   "metadata": {
    "id": "YKBgTkrKsbKb"
   },
   "source": [
    "We have dropped the variables which had the correlation greater than 0.8 (years_at_company)"
   ]
  },
  {
   "cell_type": "markdown",
   "metadata": {
    "id": "sP7OgnmnsbKb"
   },
   "source": [
    "# Question 4\n",
    "- Split the data into training and test sets.  \n",
    "- Use 20% of the data for test and a random state of 124.  "
   ]
  },
  {
   "cell_type": "code",
   "execution_count": 27,
   "metadata": {
    "id": "5q6G1WbesbKc"
   },
   "outputs": [],
   "source": [
    "# insert code here\n",
    "from sklearn.model_selection import train_test_split\n",
    "\n",
    "y = data['left_company']\n",
    "X = data.drop('left_company', axis=1)\n",
    "\n",
    "X_train, X_test, y_train, y_test = train_test_split(X, y, test_size=0.2, random_state = 124)"
   ]
  },
  {
   "cell_type": "markdown",
   "metadata": {
    "id": "bAMiN84KsbKc"
   },
   "source": [
    "# Question 5\n",
    "- Create a pipeline to process the numerical data.  \n",
    "- Create a pipeline to process the categorical data.  \n",
    "\n",
    "Verify each pipeline contains the columns you would expect using a fit_transform on the training data, i.e., print the shapes of the fit_transforms for each pipeline."
   ]
  },
  {
   "cell_type": "code",
   "execution_count": 28,
   "metadata": {
    "colab": {
     "base_uri": "https://localhost:8080/"
    },
    "id": "BzGHv3aAsbKc",
    "outputId": "86716fd8-8841-4d3e-a4ac-284eb22de677"
   },
   "outputs": [
    {
     "name": "stdout",
     "output_type": "stream",
     "text": [
      "Numerical data shape: (800, 10)\n",
      "Categorical data shape: (800, 33)\n"
     ]
    }
   ],
   "source": [
    "# insert code here\n",
    "from sklearn.pipeline import Pipeline\n",
    "from sklearn.preprocessing import StandardScaler, OneHotEncoder\n",
    "from sklearn.compose import ColumnTransformer\n",
    "\n",
    "# Create a pipeline for numerical columns\n",
    "num_transformer = Pipeline(steps=[\n",
    "    ('scaler', StandardScaler())\n",
    "])\n",
    "\n",
    "# Create a pipeline for categorical columns\n",
    "cat_preprocessor = Pipeline(steps=[\n",
    "    ('onehot', OneHotEncoder(handle_unknown='ignore'))\n",
    "])\n",
    "\n",
    "# Combine numerical and categorical pipelines using ColumnTransformer\n",
    "preprocessor = ColumnTransformer(\n",
    "    transformers=[\n",
    "        ('num', num_transformer, numerical_variables),\n",
    "        ('cat', cat_preprocessor, categorical_variables)\n",
    "    ])\n",
    "\n",
    "# Fit and transform the training data using the preprocessor\n",
    "X_train_processed = preprocessor.fit_transform(X_train)\n",
    "\n",
    "# Verify the shape of the processed numerical data\n",
    "print(f'Numerical data shape: {X_train_processed[:, :len(numerical_variables)].shape}')\n",
    "\n",
    "# Verify the shape of the processed categorical data\n",
    "print(f'Categorical data shape: {X_train_processed[:, len(categorical_variables):].shape}')\n"
   ]
  },
  {
   "cell_type": "markdown",
   "metadata": {
    "id": "tvNRGPCqsbKc"
   },
   "source": [
    "# Question 6\n",
    "- Create a pipeline that combines the pre-processing and implements a logistic regression model.  \n",
    "- Print the accuracy on the training set and the test set.\n",
    "- Do you have any concerns of overfitting based on the differences between the two accuracy scores?"
   ]
  },
  {
   "cell_type": "code",
   "execution_count": 29,
   "metadata": {
    "colab": {
     "base_uri": "https://localhost:8080/"
    },
    "id": "EyDycSb4sbKc",
    "outputId": "a7f4c4a2-9d8f-4221-ee45-0f20e5f54ecc"
   },
   "outputs": [
    {
     "name": "stdout",
     "output_type": "stream",
     "text": [
      "Training accuracy: 0.759\n",
      "Test accuracy: 0.710\n"
     ]
    }
   ],
   "source": [
    "from sklearn.linear_model import LogisticRegression\n",
    "from sklearn.metrics import accuracy_score\n",
    "\n",
    "# Define the pipeline with the preprocessor and logistic regression model\n",
    "pipeline = Pipeline(steps=[\n",
    "    ('preprocessor', preprocessor),\n",
    "    ('classifier', LogisticRegression(random_state=42))\n",
    "])\n",
    "\n",
    "# Fit the pipeline on the training data\n",
    "pipeline.fit(X_train, y_train)\n",
    "\n",
    "# Predict on the training data and calculate accuracy\n",
    "y_train_pred = pipeline.predict(X_train)\n",
    "train_accuracy = accuracy_score(y_train, y_train_pred)\n",
    "\n",
    "# Predict on the test data and calculate accuracy\n",
    "y_test_pred = pipeline.predict(X_test)\n",
    "test_accuracy = accuracy_score(y_test, y_test_pred)\n",
    "\n",
    "# Print the accuracies\n",
    "print(\"Training accuracy: {:.3f}\".format(train_accuracy))\n",
    "print(\"Test accuracy: {:.3f}\".format(test_accuracy))"
   ]
  },
  {
   "cell_type": "markdown",
   "metadata": {
    "id": "pcU_Xm_AsbKc"
   },
   "source": [
    "Here since the difference in accuracies is nearly 5%, which is not a problem. This model does not suffer from the problem of overfitting since it is performing nearly the same on the test and training data"
   ]
  },
  {
   "cell_type": "markdown",
   "metadata": {
    "id": "dyi6RGhwsbKc"
   },
   "source": [
    "# Question 7\n",
    "What would you recommend as potential next steps for continuing to develop and evaluate a model?"
   ]
  },
  {
   "cell_type": "markdown",
   "metadata": {
    "id": "kWAWfY1NsbKc"
   },
   "source": [
    "The potential steps that can be taken are by reducing the number of variables used and by using stricter criteria for multicolinearity of 0.7 Logistic Regression does not have any hyperparameter so the grid search algorithms cannot help. Using more data, Feature engineering, and cross validation(to evaluate model) can also be considered"
   ]
  },
  {
   "cell_type": "code",
   "execution_count": null,
   "metadata": {
    "id": "NgvX9xbJsbKd"
   },
   "outputs": [],
   "source": []
  }
 ],
 "metadata": {
  "colab": {
   "provenance": []
  },
  "gpuClass": "standard",
  "kernelspec": {
   "display_name": "Python 3 (ipykernel)",
   "language": "python",
   "name": "python3"
  },
  "language_info": {
   "codemirror_mode": {
    "name": "ipython",
    "version": 3
   },
   "file_extension": ".py",
   "mimetype": "text/x-python",
   "name": "python",
   "nbconvert_exporter": "python",
   "pygments_lexer": "ipython3",
   "version": "3.9.12"
  }
 },
 "nbformat": 4,
 "nbformat_minor": 1
}
