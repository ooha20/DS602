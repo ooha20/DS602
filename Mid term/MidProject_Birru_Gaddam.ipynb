{
  "cells": [
    {
      "cell_type": "markdown",
      "source": [
        "#602-Introduction to Data Analysis and Machine Learning\n",
        "#Mid-term Project\n",
        "Ooha reddy Birru\n",
        "\n",
        "Shiva Sahith Gaddam"
      ],
      "metadata": {
        "id": "NGMERgoplMEh"
      },
      "id": "NGMERgoplMEh"
    },
    {
      "cell_type": "markdown",
      "source": [
        "# Loading the data"
      ],
      "metadata": {
        "id": "BlB2Zbtuw7mT"
      },
      "id": "BlB2Zbtuw7mT"
    },
    {
      "cell_type": "code",
      "execution_count": 99,
      "id": "49e06294",
      "metadata": {
        "id": "49e06294"
      },
      "outputs": [],
      "source": [
        "import pandas as pd\n",
        "import numpy as np\n",
        "import seaborn as sns\n",
        "import re\n",
        "from sklearn.model_selection import train_test_split\n",
        "from sklearn.feature_extraction.text import TfidfVectorizer\n",
        "from sklearn.linear_model import LogisticRegression\n",
        "import warnings\n",
        "warnings.filterwarnings(\"ignore\")\n",
        "from sklearn.metrics import accuracy_score, confusion_matrix, classification_report\n",
        "\n",
        "# Load the dataset\n",
        "url = 'https://raw.githubusercontent.com/Sahith4311/dataset/main/dataset_newsletter.csv'\n",
        "news = pd.read_csv(url)"
      ]
    },
    {
      "cell_type": "code",
      "source": [
        "news.head()"
      ],
      "metadata": {
        "colab": {
          "base_uri": "https://localhost:8080/",
          "height": 206
        },
        "id": "ETL4RMn27JwW",
        "outputId": "41b3934e-d2c2-49c2-af8f-29f2073e0d2c"
      },
      "id": "ETL4RMn27JwW",
      "execution_count": 100,
      "outputs": [
        {
          "output_type": "execute_result",
          "data": {
            "text/plain": [
              "   Unnamed: 0                                              title  \\\n",
              "0           0                                Mrs. Laurence Class   \n",
              "1           1  Mr. Valle's Winter Break Packets (Cornell/Hamp...   \n",
              "2           2                                 Hours of Operation   \n",
              "3           3                                Character Education   \n",
              "4           4  CMIT Students Connecting with Students Around ...   \n",
              "\n",
              "                                                body              signature  \\\n",
              "0  Because of the upcoming holiday, we will be re...       Jaslynn Laurence   \n",
              "1  All my Cornell, Hampton, and Princeton student...          Mr. Sam Valle   \n",
              "2  Parents/Guardians,    We will gladly assist yo...              Ms. Ellis   \n",
              "3  CMIT South scholars will continue to work on v...  Ch.Ed. Team  Room 163   \n",
              "4  A couple of classes have had the opportunity t...        Srta. Dickerson   \n",
              "\n",
              "     submissiontime       category  \n",
              "0  11/18/15 9:26 AM  ANNOUNCEMENTS  \n",
              "1  12/16/15 9:26 PM  ANNOUNCEMENTS  \n",
              "2  11/18/15 3:30 PM  ANNOUNCEMENTS  \n",
              "3  11/15/15 4:49 PM  ANNOUNCEMENTS  \n",
              "4  11/16/15 5:21 AM  ANNOUNCEMENTS  "
            ],
            "text/html": [
              "\n",
              "  <div id=\"df-72f6ebca-75a9-4ec3-9d1c-eed231057abf\">\n",
              "    <div class=\"colab-df-container\">\n",
              "      <div>\n",
              "<style scoped>\n",
              "    .dataframe tbody tr th:only-of-type {\n",
              "        vertical-align: middle;\n",
              "    }\n",
              "\n",
              "    .dataframe tbody tr th {\n",
              "        vertical-align: top;\n",
              "    }\n",
              "\n",
              "    .dataframe thead th {\n",
              "        text-align: right;\n",
              "    }\n",
              "</style>\n",
              "<table border=\"1\" class=\"dataframe\">\n",
              "  <thead>\n",
              "    <tr style=\"text-align: right;\">\n",
              "      <th></th>\n",
              "      <th>Unnamed: 0</th>\n",
              "      <th>title</th>\n",
              "      <th>body</th>\n",
              "      <th>signature</th>\n",
              "      <th>submissiontime</th>\n",
              "      <th>category</th>\n",
              "    </tr>\n",
              "  </thead>\n",
              "  <tbody>\n",
              "    <tr>\n",
              "      <th>0</th>\n",
              "      <td>0</td>\n",
              "      <td>Mrs. Laurence Class</td>\n",
              "      <td>Because of the upcoming holiday, we will be re...</td>\n",
              "      <td>Jaslynn Laurence</td>\n",
              "      <td>11/18/15 9:26 AM</td>\n",
              "      <td>ANNOUNCEMENTS</td>\n",
              "    </tr>\n",
              "    <tr>\n",
              "      <th>1</th>\n",
              "      <td>1</td>\n",
              "      <td>Mr. Valle's Winter Break Packets (Cornell/Hamp...</td>\n",
              "      <td>All my Cornell, Hampton, and Princeton student...</td>\n",
              "      <td>Mr. Sam Valle</td>\n",
              "      <td>12/16/15 9:26 PM</td>\n",
              "      <td>ANNOUNCEMENTS</td>\n",
              "    </tr>\n",
              "    <tr>\n",
              "      <th>2</th>\n",
              "      <td>2</td>\n",
              "      <td>Hours of Operation</td>\n",
              "      <td>Parents/Guardians,    We will gladly assist yo...</td>\n",
              "      <td>Ms. Ellis</td>\n",
              "      <td>11/18/15 3:30 PM</td>\n",
              "      <td>ANNOUNCEMENTS</td>\n",
              "    </tr>\n",
              "    <tr>\n",
              "      <th>3</th>\n",
              "      <td>3</td>\n",
              "      <td>Character Education</td>\n",
              "      <td>CMIT South scholars will continue to work on v...</td>\n",
              "      <td>Ch.Ed. Team  Room 163</td>\n",
              "      <td>11/15/15 4:49 PM</td>\n",
              "      <td>ANNOUNCEMENTS</td>\n",
              "    </tr>\n",
              "    <tr>\n",
              "      <th>4</th>\n",
              "      <td>4</td>\n",
              "      <td>CMIT Students Connecting with Students Around ...</td>\n",
              "      <td>A couple of classes have had the opportunity t...</td>\n",
              "      <td>Srta. Dickerson</td>\n",
              "      <td>11/16/15 5:21 AM</td>\n",
              "      <td>ANNOUNCEMENTS</td>\n",
              "    </tr>\n",
              "  </tbody>\n",
              "</table>\n",
              "</div>\n",
              "      <button class=\"colab-df-convert\" onclick=\"convertToInteractive('df-72f6ebca-75a9-4ec3-9d1c-eed231057abf')\"\n",
              "              title=\"Convert this dataframe to an interactive table.\"\n",
              "              style=\"display:none;\">\n",
              "        \n",
              "  <svg xmlns=\"http://www.w3.org/2000/svg\" height=\"24px\"viewBox=\"0 0 24 24\"\n",
              "       width=\"24px\">\n",
              "    <path d=\"M0 0h24v24H0V0z\" fill=\"none\"/>\n",
              "    <path d=\"M18.56 5.44l.94 2.06.94-2.06 2.06-.94-2.06-.94-.94-2.06-.94 2.06-2.06.94zm-11 1L8.5 8.5l.94-2.06 2.06-.94-2.06-.94L8.5 2.5l-.94 2.06-2.06.94zm10 10l.94 2.06.94-2.06 2.06-.94-2.06-.94-.94-2.06-.94 2.06-2.06.94z\"/><path d=\"M17.41 7.96l-1.37-1.37c-.4-.4-.92-.59-1.43-.59-.52 0-1.04.2-1.43.59L10.3 9.45l-7.72 7.72c-.78.78-.78 2.05 0 2.83L4 21.41c.39.39.9.59 1.41.59.51 0 1.02-.2 1.41-.59l7.78-7.78 2.81-2.81c.8-.78.8-2.07 0-2.86zM5.41 20L4 18.59l7.72-7.72 1.47 1.35L5.41 20z\"/>\n",
              "  </svg>\n",
              "      </button>\n",
              "      \n",
              "  <style>\n",
              "    .colab-df-container {\n",
              "      display:flex;\n",
              "      flex-wrap:wrap;\n",
              "      gap: 12px;\n",
              "    }\n",
              "\n",
              "    .colab-df-convert {\n",
              "      background-color: #E8F0FE;\n",
              "      border: none;\n",
              "      border-radius: 50%;\n",
              "      cursor: pointer;\n",
              "      display: none;\n",
              "      fill: #1967D2;\n",
              "      height: 32px;\n",
              "      padding: 0 0 0 0;\n",
              "      width: 32px;\n",
              "    }\n",
              "\n",
              "    .colab-df-convert:hover {\n",
              "      background-color: #E2EBFA;\n",
              "      box-shadow: 0px 1px 2px rgba(60, 64, 67, 0.3), 0px 1px 3px 1px rgba(60, 64, 67, 0.15);\n",
              "      fill: #174EA6;\n",
              "    }\n",
              "\n",
              "    [theme=dark] .colab-df-convert {\n",
              "      background-color: #3B4455;\n",
              "      fill: #D2E3FC;\n",
              "    }\n",
              "\n",
              "    [theme=dark] .colab-df-convert:hover {\n",
              "      background-color: #434B5C;\n",
              "      box-shadow: 0px 1px 3px 1px rgba(0, 0, 0, 0.15);\n",
              "      filter: drop-shadow(0px 1px 2px rgba(0, 0, 0, 0.3));\n",
              "      fill: #FFFFFF;\n",
              "    }\n",
              "  </style>\n",
              "\n",
              "      <script>\n",
              "        const buttonEl =\n",
              "          document.querySelector('#df-72f6ebca-75a9-4ec3-9d1c-eed231057abf button.colab-df-convert');\n",
              "        buttonEl.style.display =\n",
              "          google.colab.kernel.accessAllowed ? 'block' : 'none';\n",
              "\n",
              "        async function convertToInteractive(key) {\n",
              "          const element = document.querySelector('#df-72f6ebca-75a9-4ec3-9d1c-eed231057abf');\n",
              "          const dataTable =\n",
              "            await google.colab.kernel.invokeFunction('convertToInteractive',\n",
              "                                                     [key], {});\n",
              "          if (!dataTable) return;\n",
              "\n",
              "          const docLinkHtml = 'Like what you see? Visit the ' +\n",
              "            '<a target=\"_blank\" href=https://colab.research.google.com/notebooks/data_table.ipynb>data table notebook</a>'\n",
              "            + ' to learn more about interactive tables.';\n",
              "          element.innerHTML = '';\n",
              "          dataTable['output_type'] = 'display_data';\n",
              "          await google.colab.output.renderOutput(dataTable, element);\n",
              "          const docLink = document.createElement('div');\n",
              "          docLink.innerHTML = docLinkHtml;\n",
              "          element.appendChild(docLink);\n",
              "        }\n",
              "      </script>\n",
              "    </div>\n",
              "  </div>\n",
              "  "
            ]
          },
          "metadata": {},
          "execution_count": 100
        }
      ]
    },
    {
      "cell_type": "code",
      "source": [
        "news.info()"
      ],
      "metadata": {
        "colab": {
          "base_uri": "https://localhost:8080/"
        },
        "id": "yZGEIw_J-Ov_",
        "outputId": "a93e172d-7a3b-44a5-908b-521022936f54"
      },
      "id": "yZGEIw_J-Ov_",
      "execution_count": 101,
      "outputs": [
        {
          "output_type": "stream",
          "name": "stdout",
          "text": [
            "<class 'pandas.core.frame.DataFrame'>\n",
            "RangeIndex: 19607 entries, 0 to 19606\n",
            "Data columns (total 6 columns):\n",
            " #   Column          Non-Null Count  Dtype \n",
            "---  ------          --------------  ----- \n",
            " 0   Unnamed: 0      19607 non-null  int64 \n",
            " 1   title           19597 non-null  object\n",
            " 2   body            19604 non-null  object\n",
            " 3   signature       19207 non-null  object\n",
            " 4   submissiontime  19607 non-null  object\n",
            " 5   category        19607 non-null  object\n",
            "dtypes: int64(1), object(5)\n",
            "memory usage: 919.2+ KB\n"
          ]
        }
      ]
    },
    {
      "cell_type": "markdown",
      "source": [
        "# EDA "
      ],
      "metadata": {
        "id": "AAFcGW85kMCh"
      },
      "id": "AAFcGW85kMCh"
    },
    {
      "cell_type": "code",
      "source": [
        "news.isnull().sum()"
      ],
      "metadata": {
        "colab": {
          "base_uri": "https://localhost:8080/"
        },
        "id": "M9Eu6EOR-R68",
        "outputId": "11851be5-e51d-4184-c034-a89f634020f7"
      },
      "id": "M9Eu6EOR-R68",
      "execution_count": 102,
      "outputs": [
        {
          "output_type": "execute_result",
          "data": {
            "text/plain": [
              "Unnamed: 0          0\n",
              "title              10\n",
              "body                3\n",
              "signature         400\n",
              "submissiontime      0\n",
              "category            0\n",
              "dtype: int64"
            ]
          },
          "metadata": {},
          "execution_count": 102
        }
      ]
    },
    {
      "cell_type": "code",
      "source": [
        "#Replacing null values with NA\n",
        "news = news.fillna(\"NA\")"
      ],
      "metadata": {
        "id": "ab_A5w-PAtMB"
      },
      "id": "ab_A5w-PAtMB",
      "execution_count": 103,
      "outputs": []
    },
    {
      "cell_type": "code",
      "source": [
        "#After replacing null values, data looks like\n",
        "news.isnull().sum()"
      ],
      "metadata": {
        "colab": {
          "base_uri": "https://localhost:8080/"
        },
        "id": "5gIXHeM5AwCU",
        "outputId": "bc97abe6-9442-4763-cda1-ab9b335d2605"
      },
      "id": "5gIXHeM5AwCU",
      "execution_count": 104,
      "outputs": [
        {
          "output_type": "execute_result",
          "data": {
            "text/plain": [
              "Unnamed: 0        0\n",
              "title             0\n",
              "body              0\n",
              "signature         0\n",
              "submissiontime    0\n",
              "category          0\n",
              "dtype: int64"
            ]
          },
          "metadata": {},
          "execution_count": 104
        }
      ]
    },
    {
      "cell_type": "code",
      "source": [
        "plt.figure(figsize=(20, 8))\n",
        "sns.histplot(news['category'])"
      ],
      "metadata": {
        "colab": {
          "base_uri": "https://localhost:8080/",
          "height": 548
        },
        "id": "uHPwa1Q5-bs6",
        "outputId": "38f8ebc5-e839-4faf-bd7f-6aa834f2d757"
      },
      "id": "uHPwa1Q5-bs6",
      "execution_count": 105,
      "outputs": [
        {
          "output_type": "execute_result",
          "data": {
            "text/plain": [
              "<Axes: xlabel='category', ylabel='Count'>"
            ]
          },
          "metadata": {},
          "execution_count": 105
        },
        {
          "output_type": "display_data",
          "data": {
            "text/plain": [
              "<Figure size 2000x800 with 1 Axes>"
            ],
            "image/png": "[encoded data removed]"
          },
          "metadata": {}
        }
      ]
    },
    {
      "cell_type": "code",
      "source": [
        "news.describe()"
      ],
      "metadata": {
        "colab": {
          "base_uri": "https://localhost:8080/",
          "height": 300
        },
        "id": "tGYPymTz7Uek",
        "outputId": "70e386b9-8dc3-417e-b071-fe602cc2061b"
      },
      "id": "tGYPymTz7Uek",
      "execution_count": 106,
      "outputs": [
        {
          "output_type": "execute_result",
          "data": {
            "text/plain": [
              "       Unnamed: 0\n",
              "count  19607.0000\n",
              "mean    9803.0000\n",
              "std     5660.1977\n",
              "min        0.0000\n",
              "25%     4901.5000\n",
              "50%     9803.0000\n",
              "75%    14704.5000\n",
              "max    19606.0000"
            ],
            "text/html": [
              "\n",
              "  <div id=\"df-05fdeb69-c814-4ff0-aef6-1f313c292344\">\n",
              "    <div class=\"colab-df-container\">\n",
              "      <div>\n",
              "<style scoped>\n",
              "    .dataframe tbody tr th:only-of-type {\n",
              "        vertical-align: middle;\n",
              "    }\n",
              "\n",
              "    .dataframe tbody tr th {\n",
              "        vertical-align: top;\n",
              "    }\n",
              "\n",
              "    .dataframe thead th {\n",
              "        text-align: right;\n",
              "    }\n",
              "</style>\n",
              "<table border=\"1\" class=\"dataframe\">\n",
              "  <thead>\n",
              "    <tr style=\"text-align: right;\">\n",
              "      <th></th>\n",
              "      <th>Unnamed: 0</th>\n",
              "    </tr>\n",
              "  </thead>\n",
              "  <tbody>\n",
              "    <tr>\n",
              "      <th>count</th>\n",
              "      <td>19607.0000</td>\n",
              "    </tr>\n",
              "    <tr>\n",
              "      <th>mean</th>\n",
              "      <td>9803.0000</td>\n",
              "    </tr>\n",
              "    <tr>\n",
              "      <th>std</th>\n",
              "      <td>5660.1977</td>\n",
              "    </tr>\n",
              "    <tr>\n",
              "      <th>min</th>\n",
              "      <td>0.0000</td>\n",
              "    </tr>\n",
              "    <tr>\n",
              "      <th>25%</th>\n",
              "      <td>4901.5000</td>\n",
              "    </tr>\n",
              "    <tr>\n",
              "      <th>50%</th>\n",
              "      <td>9803.0000</td>\n",
              "    </tr>\n",
              "    <tr>\n",
              "      <th>75%</th>\n",
              "      <td>14704.5000</td>\n",
              "    </tr>\n",
              "    <tr>\n",
              "      <th>max</th>\n",
              "      <td>19606.0000</td>\n",
              "    </tr>\n",
              "  </tbody>\n",
              "</table>\n",
              "</div>\n",
              "      <button class=\"colab-df-convert\" onclick=\"convertToInteractive('df-05fdeb69-c814-4ff0-aef6-1f313c292344')\"\n",
              "              title=\"Convert this dataframe to an interactive table.\"\n",
              "              style=\"display:none;\">\n",
              "        \n",
              "  <svg xmlns=\"http://www.w3.org/2000/svg\" height=\"24px\"viewBox=\"0 0 24 24\"\n",
              "       width=\"24px\">\n",
              "    <path d=\"M0 0h24v24H0V0z\" fill=\"none\"/>\n",
              "    <path d=\"M18.56 5.44l.94 2.06.94-2.06 2.06-.94-2.06-.94-.94-2.06-.94 2.06-2.06.94zm-11 1L8.5 8.5l.94-2.06 2.06-.94-2.06-.94L8.5 2.5l-.94 2.06-2.06.94zm10 10l.94 2.06.94-2.06 2.06-.94-2.06-.94-.94-2.06-.94 2.06-2.06.94z\"/><path d=\"M17.41 7.96l-1.37-1.37c-.4-.4-.92-.59-1.43-.59-.52 0-1.04.2-1.43.59L10.3 9.45l-7.72 7.72c-.78.78-.78 2.05 0 2.83L4 21.41c.39.39.9.59 1.41.59.51 0 1.02-.2 1.41-.59l7.78-7.78 2.81-2.81c.8-.78.8-2.07 0-2.86zM5.41 20L4 18.59l7.72-7.72 1.47 1.35L5.41 20z\"/>\n",
              "  </svg>\n",
              "      </button>\n",
              "      \n",
              "  <style>\n",
              "    .colab-df-container {\n",
              "      display:flex;\n",
              "      flex-wrap:wrap;\n",
              "      gap: 12px;\n",
              "    }\n",
              "\n",
              "    .colab-df-convert {\n",
              "      background-color: #E8F0FE;\n",
              "      border: none;\n",
              "      border-radius: 50%;\n",
              "      cursor: pointer;\n",
              "      display: none;\n",
              "      fill: #1967D2;\n",
              "      height: 32px;\n",
              "      padding: 0 0 0 0;\n",
              "      width: 32px;\n",
              "    }\n",
              "\n",
              "    .colab-df-convert:hover {\n",
              "      background-color: #E2EBFA;\n",
              "      box-shadow: 0px 1px 2px rgba(60, 64, 67, 0.3), 0px 1px 3px 1px rgba(60, 64, 67, 0.15);\n",
              "      fill: #174EA6;\n",
              "    }\n",
              "\n",
              "    [theme=dark] .colab-df-convert {\n",
              "      background-color: #3B4455;\n",
              "      fill: #D2E3FC;\n",
              "    }\n",
              "\n",
              "    [theme=dark] .colab-df-convert:hover {\n",
              "      background-color: #434B5C;\n",
              "      box-shadow: 0px 1px 3px 1px rgba(0, 0, 0, 0.15);\n",
              "      filter: drop-shadow(0px 1px 2px rgba(0, 0, 0, 0.3));\n",
              "      fill: #FFFFFF;\n",
              "    }\n",
              "  </style>\n",
              "\n",
              "      <script>\n",
              "        const buttonEl =\n",
              "          document.querySelector('#df-05fdeb69-c814-4ff0-aef6-1f313c292344 button.colab-df-convert');\n",
              "        buttonEl.style.display =\n",
              "          google.colab.kernel.accessAllowed ? 'block' : 'none';\n",
              "\n",
              "        async function convertToInteractive(key) {\n",
              "          const element = document.querySelector('#df-05fdeb69-c814-4ff0-aef6-1f313c292344');\n",
              "          const dataTable =\n",
              "            await google.colab.kernel.invokeFunction('convertToInteractive',\n",
              "                                                     [key], {});\n",
              "          if (!dataTable) return;\n",
              "\n",
              "          const docLinkHtml = 'Like what you see? Visit the ' +\n",
              "            '<a target=\"_blank\" href=https://colab.research.google.com/notebooks/data_table.ipynb>data table notebook</a>'\n",
              "            + ' to learn more about interactive tables.';\n",
              "          element.innerHTML = '';\n",
              "          dataTable['output_type'] = 'display_data';\n",
              "          await google.colab.output.renderOutput(dataTable, element);\n",
              "          const docLink = document.createElement('div');\n",
              "          docLink.innerHTML = docLinkHtml;\n",
              "          element.appendChild(docLink);\n",
              "        }\n",
              "      </script>\n",
              "    </div>\n",
              "  </div>\n",
              "  "
            ]
          },
          "metadata": {},
          "execution_count": 106
        }
      ]
    },
    {
      "cell_type": "code",
      "source": [
        "news.shape"
      ],
      "metadata": {
        "colab": {
          "base_uri": "https://localhost:8080/"
        },
        "id": "iFKgburyWoys",
        "outputId": "54fd66cd-a8fb-4bff-f8a4-37186090fcc3"
      },
      "id": "iFKgburyWoys",
      "execution_count": 107,
      "outputs": [
        {
          "output_type": "execute_result",
          "data": {
            "text/plain": [
              "(19607, 6)"
            ]
          },
          "metadata": {},
          "execution_count": 107
        }
      ]
    },
    {
      "cell_type": "code",
      "source": [
        "news['category'].value_counts()"
      ],
      "metadata": {
        "colab": {
          "base_uri": "https://localhost:8080/"
        },
        "id": "XQve13nDWt2a",
        "outputId": "8c001367-6beb-4172-b9e4-33d152d848e1"
      },
      "id": "XQve13nDWt2a",
      "execution_count": 110,
      "outputs": [
        {
          "output_type": "execute_result",
          "data": {
            "text/plain": [
              "ANNOUNCEMENTS        10240\n",
              "BREAKING NEWS         3649\n",
              "UPCOMING EVENTS       3055\n",
              "PTO                   1507\n",
              "IMPORTANT NEWS         452\n",
              "CLUBS                  363\n",
              "ATHLETICS              170\n",
              "DONATIONS NEEDED        63\n",
              "FIELD TRIPS             53\n",
              "VOLUNTEERS NEEDED       27\n",
              "ACHIEVEMENTS            25\n",
              "STUDENT THOUGHTS         3\n",
              "Name: category, dtype: int64"
            ]
          },
          "metadata": {},
          "execution_count": 110
        }
      ]
    },
    {
      "cell_type": "code",
      "source": [
        "import matplotlib.pyplot as plt\n",
        "# count the number of occurrences of each category\n",
        "category_counts = news['category'].value_counts()\n",
        "\n",
        "# create a bar plot of the category counts\n",
        "ax = category_counts.plot(kind='bar')\n",
        "\n",
        "# set the title and axis labels\n",
        "ax.set_title('Newsletter Categories')\n",
        "ax.set_xlabel('Category')\n",
        "ax.set_ylabel('Count')\n",
        "\n",
        "# display the count of each category above the corresponding bar\n",
        "for i, v in enumerate(category_counts):\n",
        "    ax.text(i, v+10, str(v), ha='center')\n",
        "\n",
        "# display the plot\n",
        "plt.show()"
      ],
      "metadata": {
        "colab": {
          "base_uri": "https://localhost:8080/",
          "height": 612
        },
        "id": "QBQmyr5GqMua",
        "outputId": "1072f295-51bc-4707-ba3a-d69c1a5a5804"
      },
      "id": "QBQmyr5GqMua",
      "execution_count": 111,
      "outputs": [
        {
          "output_type": "display_data",
          "data": {
            "text/plain": [
              "<Figure size 640x480 with 1 Axes>"
            ],
            "image/png": "[encoded data removed]"
          },
          "metadata": {}
        }
      ]
    },
    {
      "cell_type": "code",
      "execution_count": 112,
      "id": "ea690067",
      "metadata": {
        "id": "ea690067"
      },
      "outputs": [],
      "source": [
        "news['text'] = news['title'] + ' ' + news['body']\n",
        "news.drop(['title', 'body', 'signature', 'submissiontime'], axis=1, inplace=True)\n",
        "news.dropna(inplace=True)"
      ]
    },
    {
      "cell_type": "markdown",
      "source": [
        "The code provided performs data preprocessing on a DataFrame named 'news' that contains columns titled 'title', 'body', 'signature', and 'submissiontime'. The code first combines the text from the 'title' and 'body' columns into a new column named 'text'. The code then drops the 'title', 'body', 'signature', and 'submissiontime' columns and removes any rows containing missing values. The purpose of this code is to transform the data into a more usable format for analysis or modeling. By combining the 'title' and 'body' columns into a new 'text' column, the text data can be analyzed more easily. Removing unnecessary columns and rows with missing data can also help to simplify and streamline the dataset for further analysis."
      ],
      "metadata": {
        "id": "ylSa7GfERZ2o"
      },
      "id": "ylSa7GfERZ2o"
    },
    {
      "cell_type": "markdown",
      "source": [
        "# Data Preprocessing"
      ],
      "metadata": {
        "id": "fpFPCZh5mWS6"
      },
      "id": "fpFPCZh5mWS6"
    },
    {
      "cell_type": "code",
      "source": [
        "#Tokenization\n",
        "from nltk.tokenize import TreebankWordTokenizer\n",
        "\n",
        "tokenizer = TreebankWordTokenizer()\n",
        "news['text'] = news['text'].apply(tokenizer.tokenize)\n",
        "print('Tokenization complete.')\n"
      ],
      "metadata": {
        "colab": {
          "base_uri": "https://localhost:8080/"
        },
        "id": "eseZ1m42W0-O",
        "outputId": "b442814e-318a-4edb-db0b-6cb0dc675f4f"
      },
      "id": "eseZ1m42W0-O",
      "execution_count": 65,
      "outputs": [
        {
          "output_type": "stream",
          "name": "stdout",
          "text": [
            "Tokenization complete.\n"
          ]
        }
      ]
    },
    {
      "cell_type": "markdown",
      "source": [
        "This code is performing tokenization on the \"text\" column of the \"news\" dataframe. The TreebankWordTokenizer from the nltk.tokenize module is used to tokenize the sentences in the text column. The tokenizer breaks down the text into individual words or tokens, considering punctuations as separate tokens as well. The tokens are then saved in the \"text\" column of the \"news\" dataframe. Finally, a message is printed to indicate that the tokenization process is complete."
      ],
      "metadata": {
        "id": "KnGO_-cwhWp3"
      },
      "id": "KnGO_-cwhWp3"
    },
    {
      "cell_type": "code",
      "source": [
        "#Lemmatization\n",
        "import nltk\n",
        "nltk.download('wordnet')\n",
        "nltk.download('punkt')\n",
        "lemmatizer = nltk.stem.wordnet.WordNetLemmatizer()\n",
        "news['text_lemmatized'] = news['text'].apply(lambda x: ' '.join([lemmatizer.lemmatize(word) for word in nltk.word_tokenize(str(x))]))"
      ],
      "metadata": {
        "colab": {
          "base_uri": "https://localhost:8080/"
        },
        "id": "MUjAoHIob5YZ",
        "outputId": "4b02c7c5-2cf7-4433-f20d-19f4959b8f4d"
      },
      "id": "MUjAoHIob5YZ",
      "execution_count": 66,
      "outputs": [
        {
          "output_type": "stream",
          "name": "stderr",
          "text": [
            "[nltk_data] Downloading package wordnet to /root/nltk_data...\n",
            "[nltk_data]   Package wordnet is already up-to-date!\n",
            "[nltk_data] Downloading package punkt to /root/nltk_data...\n",
            "[nltk_data]   Package punkt is already up-to-date!\n"
          ]
        }
      ]
    },
    {
      "cell_type": "markdown",
      "source": [
        "The process of reducing the different forms of a word to one single form, for example, reducing \"builds,\" \"building,\" or \"built\" to the lemma \"build\" is called lemmatization.\n",
        "\n",
        "The given code uses the nltk library to perform lemmatization on the text data in the 'text' column of the 'news' DataFrame.\n",
        "\n",
        "Firstly, it downloads the necessary resources for word lemmatization. Next, a WordNetLemmatizer object is created to find the base form of each word in the text data.\n",
        "\n",
        "The code applies the lemmatization process to each row of the 'text' column of the 'news' DataFrame by using the apply function. Inside the apply function, a lambda function is used to apply the lemmatizer to each word in the text data. The words are tokenized using the nltk.word_tokenize function and a list comprehension is used to apply the lemmatizer to each word. Finally, the lemmatized words are joined together into a string separated by a space and stored in a new column called 'text_lemmatized' in the 'news' DataFrame.\n",
        "\n",
        "In summary, this code performs lemmatization on text data in the 'news' DataFrame to standardize the text and enhance the accuracy of text analysis or modeling."
      ],
      "metadata": {
        "id": "-0AJ_M3zieS7"
      },
      "id": "-0AJ_M3zieS7"
    },
    {
      "cell_type": "code",
      "source": [
        "news.to_csv('transformed_data.csv', index=False)"
      ],
      "metadata": {
        "id": "suBiBOK9Rltc"
      },
      "id": "suBiBOK9Rltc",
      "execution_count": 67,
      "outputs": []
    },
    {
      "cell_type": "code",
      "source": [
        "news.head(10)"
      ],
      "metadata": {
        "colab": {
          "base_uri": "https://localhost:8080/",
          "height": 363
        },
        "id": "_1GjS_Jiuo5b",
        "outputId": "c6ec69fa-d75b-46ff-fcf5-8fcc3e0ef979"
      },
      "id": "_1GjS_Jiuo5b",
      "execution_count": 68,
      "outputs": [
        {
          "output_type": "execute_result",
          "data": {
            "text/plain": [
              "   Unnamed: 0         category  \\\n",
              "0           0    ANNOUNCEMENTS   \n",
              "1           1    ANNOUNCEMENTS   \n",
              "2           2    ANNOUNCEMENTS   \n",
              "3           3    ANNOUNCEMENTS   \n",
              "4           4    ANNOUNCEMENTS   \n",
              "5           5    ANNOUNCEMENTS   \n",
              "6           6  UPCOMING EVENTS   \n",
              "7           7    ANNOUNCEMENTS   \n",
              "8           8    ANNOUNCEMENTS   \n",
              "9           9    ANNOUNCEMENTS   \n",
              "\n",
              "                                                text  \\\n",
              "0  [Mrs., Laurence, Class, Because, of, the, upco...   \n",
              "1  [Mr., Valle, 's, Winter, Break, Packets, (, Co...   \n",
              "2  [Hours, of, Operation, Parents/Guardians, ,, W...   \n",
              "3  [Character, Education, CMIT, South, scholars, ...   \n",
              "4  [CMIT, Students, Connecting, with, Students, A...   \n",
              "5  [Math, 6, Happenings, !, This, past, week, ,, ...   \n",
              "6  [SGA, Events, &, Parent, Volunteers, Needed, !...   \n",
              "7  [Veterans, Day, Drive, and, Assembly, I, am, p...   \n",
              "8  [Ms., Morani, 's, Science, Class, Students, re...   \n",
              "9  [STEM, Fair, Research, Paper, Feedback, and, F...   \n",
              "\n",
              "                                     text_lemmatized  \n",
              "0  [ 'Mrs . ' , 'Laurence ' , 'Class ' , 'Because...  \n",
              "1  [ 'Mr . ' , 'Valle ' , `` 's '' , 'Winter ' , ...  \n",
              "2  [ 'Hours ' , 'of ' , 'Operation ' , 'Parents/G...  \n",
              "3  [ 'Character ' , 'Education ' , 'CMIT ' , 'Sou...  \n",
              "4  [ 'CMIT ' , 'Students ' , 'Connecting ' , 'wit...  \n",
              "5  [ 'Math ' , ' 6 ' , 'Happenings ' , ' ! ' , 'T...  \n",
              "6  [ 'SGA ' , 'Events ' , ' & ' , 'Parent ' , 'Vo...  \n",
              "7  [ 'Veterans ' , 'Day ' , 'Drive ' , 'and ' , '...  \n",
              "8  [ 'Ms . ' , 'Morani ' , `` 's '' , 'Science ' ...  \n",
              "9  [ 'STEM ' , 'Fair ' , 'Research ' , 'Paper ' ,...  "
            ],
            "text/html": [
              "\n",
              "  <div id=\"df-95f03639-211b-4e99-8ee2-cdf722f203ce\">\n",
              "    <div class=\"colab-df-container\">\n",
              "      <div>\n",
              "<style scoped>\n",
              "    .dataframe tbody tr th:only-of-type {\n",
              "        vertical-align: middle;\n",
              "    }\n",
              "\n",
              "    .dataframe tbody tr th {\n",
              "        vertical-align: top;\n",
              "    }\n",
              "\n",
              "    .dataframe thead th {\n",
              "        text-align: right;\n",
              "    }\n",
              "</style>\n",
              "<table border=\"1\" class=\"dataframe\">\n",
              "  <thead>\n",
              "    <tr style=\"text-align: right;\">\n",
              "      <th></th>\n",
              "      <th>Unnamed: 0</th>\n",
              "      <th>category</th>\n",
              "      <th>text</th>\n",
              "      <th>text_lemmatized</th>\n",
              "    </tr>\n",
              "  </thead>\n",
              "  <tbody>\n",
              "    <tr>\n",
              "      <th>0</th>\n",
              "      <td>0</td>\n",
              "      <td>ANNOUNCEMENTS</td>\n",
              "      <td>[Mrs., Laurence, Class, Because, of, the, upco...</td>\n",
              "      <td>[ 'Mrs . ' , 'Laurence ' , 'Class ' , 'Because...</td>\n",
              "    </tr>\n",
              "    <tr>\n",
              "      <th>1</th>\n",
              "      <td>1</td>\n",
              "      <td>ANNOUNCEMENTS</td>\n",
              "      <td>[Mr., Valle, 's, Winter, Break, Packets, (, Co...</td>\n",
              "      <td>[ 'Mr . ' , 'Valle ' , `` 's '' , 'Winter ' , ...</td>\n",
              "    </tr>\n",
              "    <tr>\n",
              "      <th>2</th>\n",
              "      <td>2</td>\n",
              "      <td>ANNOUNCEMENTS</td>\n",
              "      <td>[Hours, of, Operation, Parents/Guardians, ,, W...</td>\n",
              "      <td>[ 'Hours ' , 'of ' , 'Operation ' , 'Parents/G...</td>\n",
              "    </tr>\n",
              "    <tr>\n",
              "      <th>3</th>\n",
              "      <td>3</td>\n",
              "      <td>ANNOUNCEMENTS</td>\n",
              "      <td>[Character, Education, CMIT, South, scholars, ...</td>\n",
              "      <td>[ 'Character ' , 'Education ' , 'CMIT ' , 'Sou...</td>\n",
              "    </tr>\n",
              "    <tr>\n",
              "      <th>4</th>\n",
              "      <td>4</td>\n",
              "      <td>ANNOUNCEMENTS</td>\n",
              "      <td>[CMIT, Students, Connecting, with, Students, A...</td>\n",
              "      <td>[ 'CMIT ' , 'Students ' , 'Connecting ' , 'wit...</td>\n",
              "    </tr>\n",
              "    <tr>\n",
              "      <th>5</th>\n",
              "      <td>5</td>\n",
              "      <td>ANNOUNCEMENTS</td>\n",
              "      <td>[Math, 6, Happenings, !, This, past, week, ,, ...</td>\n",
              "      <td>[ 'Math ' , ' 6 ' , 'Happenings ' , ' ! ' , 'T...</td>\n",
              "    </tr>\n",
              "    <tr>\n",
              "      <th>6</th>\n",
              "      <td>6</td>\n",
              "      <td>UPCOMING EVENTS</td>\n",
              "      <td>[SGA, Events, &amp;, Parent, Volunteers, Needed, !...</td>\n",
              "      <td>[ 'SGA ' , 'Events ' , ' &amp; ' , 'Parent ' , 'Vo...</td>\n",
              "    </tr>\n",
              "    <tr>\n",
              "      <th>7</th>\n",
              "      <td>7</td>\n",
              "      <td>ANNOUNCEMENTS</td>\n",
              "      <td>[Veterans, Day, Drive, and, Assembly, I, am, p...</td>\n",
              "      <td>[ 'Veterans ' , 'Day ' , 'Drive ' , 'and ' , '...</td>\n",
              "    </tr>\n",
              "    <tr>\n",
              "      <th>8</th>\n",
              "      <td>8</td>\n",
              "      <td>ANNOUNCEMENTS</td>\n",
              "      <td>[Ms., Morani, 's, Science, Class, Students, re...</td>\n",
              "      <td>[ 'Ms . ' , 'Morani ' , `` 's '' , 'Science ' ...</td>\n",
              "    </tr>\n",
              "    <tr>\n",
              "      <th>9</th>\n",
              "      <td>9</td>\n",
              "      <td>ANNOUNCEMENTS</td>\n",
              "      <td>[STEM, Fair, Research, Paper, Feedback, and, F...</td>\n",
              "      <td>[ 'STEM ' , 'Fair ' , 'Research ' , 'Paper ' ,...</td>\n",
              "    </tr>\n",
              "  </tbody>\n",
              "</table>\n",
              "</div>\n",
              "      <button class=\"colab-df-convert\" onclick=\"convertToInteractive('df-95f03639-211b-4e99-8ee2-cdf722f203ce')\"\n",
              "              title=\"Convert this dataframe to an interactive table.\"\n",
              "              style=\"display:none;\">\n",
              "        \n",
              "  <svg xmlns=\"http://www.w3.org/2000/svg\" height=\"24px\"viewBox=\"0 0 24 24\"\n",
              "       width=\"24px\">\n",
              "    <path d=\"M0 0h24v24H0V0z\" fill=\"none\"/>\n",
              "    <path d=\"M18.56 5.44l.94 2.06.94-2.06 2.06-.94-2.06-.94-.94-2.06-.94 2.06-2.06.94zm-11 1L8.5 8.5l.94-2.06 2.06-.94-2.06-.94L8.5 2.5l-.94 2.06-2.06.94zm10 10l.94 2.06.94-2.06 2.06-.94-2.06-.94-.94-2.06-.94 2.06-2.06.94z\"/><path d=\"M17.41 7.96l-1.37-1.37c-.4-.4-.92-.59-1.43-.59-.52 0-1.04.2-1.43.59L10.3 9.45l-7.72 7.72c-.78.78-.78 2.05 0 2.83L4 21.41c.39.39.9.59 1.41.59.51 0 1.02-.2 1.41-.59l7.78-7.78 2.81-2.81c.8-.78.8-2.07 0-2.86zM5.41 20L4 18.59l7.72-7.72 1.47 1.35L5.41 20z\"/>\n",
              "  </svg>\n",
              "      </button>\n",
              "      \n",
              "  <style>\n",
              "    .colab-df-container {\n",
              "      display:flex;\n",
              "      flex-wrap:wrap;\n",
              "      gap: 12px;\n",
              "    }\n",
              "\n",
              "    .colab-df-convert {\n",
              "      background-color: #E8F0FE;\n",
              "      border: none;\n",
              "      border-radius: 50%;\n",
              "      cursor: pointer;\n",
              "      display: none;\n",
              "      fill: #1967D2;\n",
              "      height: 32px;\n",
              "      padding: 0 0 0 0;\n",
              "      width: 32px;\n",
              "    }\n",
              "\n",
              "    .colab-df-convert:hover {\n",
              "      background-color: #E2EBFA;\n",
              "      box-shadow: 0px 1px 2px rgba(60, 64, 67, 0.3), 0px 1px 3px 1px rgba(60, 64, 67, 0.15);\n",
              "      fill: #174EA6;\n",
              "    }\n",
              "\n",
              "    [theme=dark] .colab-df-convert {\n",
              "      background-color: #3B4455;\n",
              "      fill: #D2E3FC;\n",
              "    }\n",
              "\n",
              "    [theme=dark] .colab-df-convert:hover {\n",
              "      background-color: #434B5C;\n",
              "      box-shadow: 0px 1px 3px 1px rgba(0, 0, 0, 0.15);\n",
              "      filter: drop-shadow(0px 1px 2px rgba(0, 0, 0, 0.3));\n",
              "      fill: #FFFFFF;\n",
              "    }\n",
              "  </style>\n",
              "\n",
              "      <script>\n",
              "        const buttonEl =\n",
              "          document.querySelector('#df-95f03639-211b-4e99-8ee2-cdf722f203ce button.colab-df-convert');\n",
              "        buttonEl.style.display =\n",
              "          google.colab.kernel.accessAllowed ? 'block' : 'none';\n",
              "\n",
              "        async function convertToInteractive(key) {\n",
              "          const element = document.querySelector('#df-95f03639-211b-4e99-8ee2-cdf722f203ce');\n",
              "          const dataTable =\n",
              "            await google.colab.kernel.invokeFunction('convertToInteractive',\n",
              "                                                     [key], {});\n",
              "          if (!dataTable) return;\n",
              "\n",
              "          const docLinkHtml = 'Like what you see? Visit the ' +\n",
              "            '<a target=\"_blank\" href=https://colab.research.google.com/notebooks/data_table.ipynb>data table notebook</a>'\n",
              "            + ' to learn more about interactive tables.';\n",
              "          element.innerHTML = '';\n",
              "          dataTable['output_type'] = 'display_data';\n",
              "          await google.colab.output.renderOutput(dataTable, element);\n",
              "          const docLink = document.createElement('div');\n",
              "          docLink.innerHTML = docLinkHtml;\n",
              "          element.appendChild(docLink);\n",
              "        }\n",
              "      </script>\n",
              "    </div>\n",
              "  </div>\n",
              "  "
            ]
          },
          "metadata": {},
          "execution_count": 68
        }
      ]
    },
    {
      "cell_type": "markdown",
      "source": [
        "#Building a ML Model"
      ],
      "metadata": {
        "id": "DNkfGWEpxInO"
      },
      "id": "DNkfGWEpxInO"
    },
    {
      "cell_type": "code",
      "execution_count": 71,
      "id": "ee0576d5",
      "metadata": {
        "id": "ee0576d5"
      },
      "outputs": [],
      "source": [
        "# Split the data into train and test sets\n",
        "X_train, X_test, y_train, y_test = train_test_split(news['text_lemmatized'], news['category'], test_size=0.2, random_state=42)"
      ]
    },
    {
      "cell_type": "markdown",
      "source": [
        "The given code splits the news DataFrame into two sets - one for training and the other for testing. This is done to be able to train a machine learning model and evaluate its performance on new, unseen data. The code uses the train_test_split() function from the scikit-learn library, which randomly splits the data into training and testing sets. The size of the testing set is specified as 20% of the total data, and a random seed is set to ensure that the split is reproducible. The resulting training and testing sets are assigned to four variables, namely X_train, X_test, y_train, and y_test, where X_train and X_test are the input features (i.e., the text data), and y_train and y_test are the corresponding target labels. By splitting the data in this way, we can train a machine learning model on a subset of the data and then evaluate its ability to generalize to new, unseen data."
      ],
      "metadata": {
        "id": "NnFlltpJSSqU"
      },
      "id": "NnFlltpJSSqU"
    },
    {
      "cell_type": "code",
      "execution_count": 72,
      "id": "ad8d77d8",
      "metadata": {
        "id": "ad8d77d8"
      },
      "outputs": [],
      "source": [
        "# Feature extraction\n",
        "vector = TfidfVectorizer(stop_words='english', lowercase=True)\n",
        "X_train_vectors = vector.fit_transform(X_train)\n",
        "X_test_vectors = vector.transform(X_test)"
      ]
    },
    {
      "cell_type": "markdown",
      "source": [
        "The TfidfVectorizer is a tool in scikit-learn library that converts a group of raw text documents into a matrix of features using the TF-IDF weighting scheme. This method removes common English words and converts all text to lowercase before analyzing. The 'fit_transform()' method is used to fit the vectorizer to the training data and transform the training data into a matrix of features. The resulting matrix is then assigned to 'X_train_vectors'. The 'transform()' method is used to transform the testing data into a matrix of features using the same vocabulary as the training data. The resulting matrix is assigned to 'X_test_vectors'. These feature matrices can be used for training and testing machine learning models. The features are represented in a sparse matrix where each row represents a document and each column represents a feature. The values in the matrix represent the importance of that feature for that particular document, which is determined by the TF-IDF weighting scheme."
      ],
      "metadata": {
        "id": "92_GDfzqS28w"
      },
      "id": "92_GDfzqS28w"
    },
    {
      "cell_type": "markdown",
      "source": [
        "# Logistic Regression Model\n"
      ],
      "metadata": {
        "id": "aXhRp83Phwbk"
      },
      "id": "aXhRp83Phwbk"
    },
    {
      "cell_type": "code",
      "execution_count": 73,
      "id": "4891c80b",
      "metadata": {
        "colab": {
          "base_uri": "https://localhost:8080/",
          "height": 75
        },
        "id": "4891c80b",
        "outputId": "f99d25ce-9bb4-4dfd-934d-f29db2b5b9f4"
      },
      "outputs": [
        {
          "output_type": "execute_result",
          "data": {
            "text/plain": [
              "LogisticRegression(max_iter=15000)"
            ],
            "text/html": [
              "<style>#sk-container-id-1 {color: black;background-color: white;}#sk-container-id-1 pre{padding: 0;}#sk-container-id-1 div.sk-toggleable {background-color: white;}#sk-container-id-1 label.sk-toggleable__label {cursor: pointer;display: block;width: 100%;margin-bottom: 0;padding: 0.3em;box-sizing: border-box;text-align: center;}#sk-container-id-1 label.sk-toggleable__label-arrow:before {content: \"▸\";float: left;margin-right: 0.25em;color: #696969;}#sk-container-id-1 label.sk-toggleable__label-arrow:hover:before {color: black;}#sk-container-id-1 div.sk-estimator:hover label.sk-toggleable__label-arrow:before {color: black;}#sk-container-id-1 div.sk-toggleable__content {max-height: 0;max-width: 0;overflow: hidden;text-align: left;background-color: #f0f8ff;}#sk-container-id-1 div.sk-toggleable__content pre {margin: 0.2em;color: black;border-radius: 0.25em;background-color: #f0f8ff;}#sk-container-id-1 input.sk-toggleable__control:checked~div.sk-toggleable__content {max-height: 200px;max-width: 100%;overflow: auto;}#sk-container-id-1 input.sk-toggleable__control:checked~label.sk-toggleable__label-arrow:before {content: \"▾\";}#sk-container-id-1 div.sk-estimator input.sk-toggleable__control:checked~label.sk-toggleable__label {background-color: #d4ebff;}#sk-container-id-1 div.sk-label input.sk-toggleable__control:checked~label.sk-toggleable__label {background-color: #d4ebff;}#sk-container-id-1 input.sk-hidden--visually {border: 0;clip: rect(1px 1px 1px 1px);clip: rect(1px, 1px, 1px, 1px);height: 1px;margin: -1px;overflow: hidden;padding: 0;position: absolute;width: 1px;}#sk-container-id-1 div.sk-estimator {font-family: monospace;background-color: #f0f8ff;border: 1px dotted black;border-radius: 0.25em;box-sizing: border-box;margin-bottom: 0.5em;}#sk-container-id-1 div.sk-estimator:hover {background-color: #d4ebff;}#sk-container-id-1 div.sk-parallel-item::after {content: \"\";width: 100%;border-bottom: 1px solid gray;flex-grow: 1;}#sk-container-id-1 div.sk-label:hover label.sk-toggleable__label {background-color: #d4ebff;}#sk-container-id-1 div.sk-serial::before {content: \"\";position: absolute;border-left: 1px solid gray;box-sizing: border-box;top: 0;bottom: 0;left: 50%;z-index: 0;}#sk-container-id-1 div.sk-serial {display: flex;flex-direction: column;align-items: center;background-color: white;padding-right: 0.2em;padding-left: 0.2em;position: relative;}#sk-container-id-1 div.sk-item {position: relative;z-index: 1;}#sk-container-id-1 div.sk-parallel {display: flex;align-items: stretch;justify-content: center;background-color: white;position: relative;}#sk-container-id-1 div.sk-item::before, #sk-container-id-1 div.sk-parallel-item::before {content: \"\";position: absolute;border-left: 1px solid gray;box-sizing: border-box;top: 0;bottom: 0;left: 50%;z-index: -1;}#sk-container-id-1 div.sk-parallel-item {display: flex;flex-direction: column;z-index: 1;position: relative;background-color: white;}#sk-container-id-1 div.sk-parallel-item:first-child::after {align-self: flex-end;width: 50%;}#sk-container-id-1 div.sk-parallel-item:last-child::after {align-self: flex-start;width: 50%;}#sk-container-id-1 div.sk-parallel-item:only-child::after {width: 0;}#sk-container-id-1 div.sk-dashed-wrapped {border: 1px dashed gray;margin: 0 0.4em 0.5em 0.4em;box-sizing: border-box;padding-bottom: 0.4em;background-color: white;}#sk-container-id-1 div.sk-label label {font-family: monospace;font-weight: bold;display: inline-block;line-height: 1.2em;}#sk-container-id-1 div.sk-label-container {text-align: center;}#sk-container-id-1 div.sk-container {/* jupyter's `normalize.less` sets `[hidden] { display: none; }` but bootstrap.min.css set `[hidden] { display: none !important; }` so we also need the `!important` here to be able to override the default hidden behavior on the sphinx rendered scikit-learn.org. See: https://github.com/scikit-learn/scikit-learn/issues/21755 */display: inline-block !important;position: relative;}#sk-container-id-1 div.sk-text-repr-fallback {display: none;}</style><div id=\"sk-container-id-1\" class=\"sk-top-container\"><div class=\"sk-text-repr-fallback\"><pre>LogisticRegression(max_iter=15000)</pre><b>In a Jupyter environment, please rerun this cell to show the HTML representation or trust the notebook. <br />On GitHub, the HTML representation is unable to render, please try loading this page with nbviewer.org.</b></div><div class=\"sk-container\" hidden><div class=\"sk-item\"><div class=\"sk-estimator sk-toggleable\"><input class=\"sk-toggleable__control sk-hidden--visually\" id=\"sk-estimator-id-1\" type=\"checkbox\" checked><label for=\"sk-estimator-id-1\" class=\"sk-toggleable__label sk-toggleable__label-arrow\">LogisticRegression</label><div class=\"sk-toggleable__content\"><pre>LogisticRegression(max_iter=15000)</pre></div></div></div></div></div>"
            ]
          },
          "metadata": {},
          "execution_count": 73
        }
      ],
      "source": [
        "# Train a logistic regression classifier\n",
        "classifier = LogisticRegression(max_iter=15000)\n",
        "classifier.fit(X_train_vectors, y_train)"
      ]
    },
    {
      "cell_type": "markdown",
      "source": [
        "LogisticRegression is a class from scikit-learn that implements logistic regression, a popular classification algorithm used for binary and multi-class classification problems.\n",
        "\n",
        "max_iter=10000 specifies the maximum number of iterations for the solver to converge. The default value is 100, but in this case, we set it to 10,000 to ensure that the solver will converge for more complex datasets.\n",
        "\n",
        "fit() is a method of the LogisticRegression class that trains the logistic regression classifier on the training data and labels.\n",
        "\n",
        "X_train_vectors is the input training data, which is a sparse matrix of TF-IDF features extracted from the text data.\n",
        "\n",
        "y_train is the target training data, which is a series of labels corresponding to each document in the training data.\n",
        "\n",
        "The resulting classifier is a trained logistic regression model that can be used to make predictions on new text data. The model has learned to classify documents based on the TF-IDF features extracted from the text data and the labels provided during training."
      ],
      "metadata": {
        "id": "OVGyPbHLTUWe"
      },
      "id": "OVGyPbHLTUWe"
    },
    {
      "cell_type": "code",
      "execution_count": 74,
      "id": "69930f50",
      "metadata": {
        "id": "69930f50"
      },
      "outputs": [],
      "source": [
        "# Evaluate the classifier\n",
        "y_train_pred = classifier.predict(X_train_vectors)\n",
        "y_test_pred = classifier.predict(X_test_vectors)\n",
        "\n",
        "train_accuracy = accuracy_score(y_train, y_train_pred)\n",
        "train_precision, train_recall, train_fscore, _ = classification_report(y_train, y_train_pred, output_dict=True)['macro avg'].values()\n",
        "\n",
        "test_accuracy = accuracy_score(y_test, y_test_pred)\n",
        "test_precision, test_recall, test_fscore, _ = classification_report(y_test, y_test_pred, output_dict=True)['macro avg'].values()"
      ]
    },
    {
      "cell_type": "markdown",
      "source": [
        "predict() is a method of the LogisticRegression class that predicts the labels for the input data using the trained model.\n",
        "\n",
        "y_train_pred is a series of predicted labels for the training data, based on the TF-IDF features extracted from the text data and the learned parameters of the logistic regression model.\n",
        "\n",
        "y_test_pred is a series of predicted labels for the testing data, based on the same learned parameters.\n",
        "\n",
        "evaluation metrics provide insight into the performance of the logistic regression classifier on the training and testing data. train_accuracy and test_accuracy measure the overall accuracy of the classifier, while train_precision, train_recall, train_fscore, test_precision, test_recall, and test_fscore provide information about how well the classifier is performing for each class in the classification task."
      ],
      "metadata": {
        "id": "-RWnwZ-NToAd"
      },
      "id": "-RWnwZ-NToAd"
    },
    {
      "cell_type": "code",
      "execution_count": 75,
      "id": "ccf899b8",
      "metadata": {
        "scrolled": true,
        "colab": {
          "base_uri": "https://localhost:8080/"
        },
        "id": "ccf899b8",
        "outputId": "98e118e0-9df3-4245-9d0e-373df2efd7d9"
      },
      "outputs": [
        {
          "output_type": "stream",
          "name": "stdout",
          "text": [
            "Train Accuracy: 79.26%\n",
            "Train Precision: 66.14%\n",
            "Train Recall: 36.69%\n",
            "Train F1 Score: 42.30%\n",
            "\n",
            "\n",
            "Test Accuracy: 70.04%\n",
            "Test Precision: 49.85%\n",
            "Test Recall: 26.20%\n",
            "Test F1 Score: 30.16%\n",
            "\n"
          ]
        }
      ],
      "source": [
        "print(\"Train Accuracy: {:.2f}%\".format(train_accuracy*100))\n",
        "print(\"Train Precision: {:.2f}%\".format(train_precision*100))\n",
        "print(\"Train Recall: {:.2f}%\".format(train_recall*100))\n",
        "print(\"Train F1 Score: {:.2f}%\\n\".format(train_fscore*100))\n",
        "print(\"\\nTest Accuracy: {:.2f}%\".format(test_accuracy*100))\n",
        "print(\"Test Precision: {:.2f}%\".format(test_precision*100))\n",
        "print(\"Test Recall: {:.2f}%\".format(test_recall*100))\n",
        "print(\"Test F1 Score: {:.2f}%\\n\".format(test_fscore*100))"
      ]
    },
    {
      "cell_type": "markdown",
      "source": [
        "#Prediction"
      ],
      "metadata": {
        "id": "vlaaKYLAxfug"
      },
      "id": "vlaaKYLAxfug"
    },
    {
      "cell_type": "code",
      "execution_count": 76,
      "id": "58158ef7",
      "metadata": {
        "id": "58158ef7",
        "outputId": "9cfaefef-3724-4689-ebb1-6330c235b9d6",
        "colab": {
          "base_uri": "https://localhost:8080/"
        }
      },
      "outputs": [
        {
          "output_type": "stream",
          "name": "stdout",
          "text": [
            "Predicted category: ANNOUNCEMENTS\n"
          ]
        }
      ],
      "source": [
        "# Predict the category of new text data\n",
        "new_text = \"Because of the upcoming holiday, we will be reviewing the first Thanksgiving that was between the Pilgrims and the Native Americans in colonial America. This lesson will help students recognized the significance and purpose of this day in America. Have a Happy Thanksgiving. \"\n",
        "from nltk.stem import WordNetLemmatizer\n",
        "lemmatizer = WordNetLemmatizer()\n",
        "text = \"Because of the upcoming holiday, we will be reviewing the first Thanksgiving that was between the Pilgrims and the Native Americans in colonial America. This lesson will help students recognized the significance and purpose of this day in America. Have a Happy Thanksgiving.\"\n",
        "# Tokenize the text\n",
        "tokens = nltk.word_tokenize(text)\n",
        "# Lemmatize each word using WordNetLemmatizer\n",
        "lemmatized_tokens = [lemmatizer.lemmatize(token) for token in tokens]\n",
        "# Join the lemmatized tokens back into a string\n",
        "new_text = ' '.join(lemmatized_tokens)\n",
        "new_text_vector = vector.transform([new_text])\n",
        "new_category = classifier.predict(new_text_vector)[0]\n",
        "print('Predicted category:', new_category)"
      ]
    },
    {
      "cell_type": "markdown",
      "source": [
        "# Random Forest Model"
      ],
      "metadata": {
        "id": "ZgPQk70Fhk6u"
      },
      "id": "ZgPQk70Fhk6u"
    },
    {
      "cell_type": "code",
      "source": [
        "from sklearn.ensemble import RandomForestClassifier\n",
        "rf = RandomForestClassifier(random_state=0)\n",
        "rf.fit(X_train_vectors, y_train)\n",
        "\n",
        "rf_y_train_pred = rf.predict(X_train_vectors)\n",
        "rf_y_test_pred = rf.predict(X_test_vectors)\n",
        "\n",
        "rf_train_accuracy = accuracy_score(y_train, rf_y_train_pred)\n",
        "train_precision, train_recall, train_fscore, _ = classification_report(y_train, rf_y_train_pred, output_dict=True)['macro avg'].values()\n",
        "\n",
        "test_accuracy = accuracy_score(y_test, rf_y_test_pred)\n",
        "test_precision, test_recall, test_fscore, _ = classification_report(y_test, rf_y_test_pred, output_dict=True)['macro avg'].values()\n"
      ],
      "metadata": {
        "id": "kP58xSj-d4Bp"
      },
      "id": "kP58xSj-d4Bp",
      "execution_count": 86,
      "outputs": []
    },
    {
      "cell_type": "code",
      "source": [
        "print(\"Train Accuracy: {:.2f}%\".format(rf_train_accuracy*100))\n",
        "print(\"Train Precision: {:.2f}%\".format(train_precision*100))\n",
        "print(\"Train Recall: {:.2f}%\".format(train_recall*100))\n",
        "print(\"Train F1 Score: {:.2f}%\\n\".format(train_fscore*100))\n",
        "print(\"\\nTest Accuracy: {:.2f}%\".format(test_accuracy*100))\n",
        "print(\"Test Precision: {:.2f}%\".format(test_precision*100))\n",
        "print(\"Test Recall: {:.2f}%\".format(test_recall*100))\n",
        "print(\"Test F1 Score: {:.2f}%\\n\".format(test_fscore*100))"
      ],
      "metadata": {
        "colab": {
          "base_uri": "https://localhost:8080/"
        },
        "id": "1AE4-OhofzeM",
        "outputId": "a392deba-7322-4a8d-cfb6-f753f78c36cf"
      },
      "id": "1AE4-OhofzeM",
      "execution_count": 87,
      "outputs": [
        {
          "output_type": "stream",
          "name": "stdout",
          "text": [
            "Train Accuracy: 98.48%\n",
            "Train Precision: 98.71%\n",
            "Train Recall: 98.28%\n",
            "Train F1 Score: 98.48%\n",
            "\n",
            "\n",
            "Test Accuracy: 70.96%\n",
            "Test Precision: 58.11%\n",
            "Test Recall: 33.02%\n",
            "Test F1 Score: 39.02%\n",
            "\n"
          ]
        }
      ]
    },
    {
      "cell_type": "markdown",
      "source": [
        "The output indicates that the logistic regression model has an overall accuracy of 79.68% on the training data and 68.85% on the test data. The precision values for both the training and test data are moderate at 66.21% and 55.78%, respectively. The recall values are low, indicating that the model is not performing well in correctly identifying true positives. Overall, the model needs improvement, and further tuning or feature engineering may be required to improve its performance."
      ],
      "metadata": {
        "id": "0QHIi7DIUHr5"
      },
      "id": "0QHIi7DIUHr5"
    },
    {
      "cell_type": "markdown",
      "source": [
        "Random forest model accuracy is good when compare to logistic regression model."
      ],
      "metadata": {
        "id": "jxJt6tAWnWl0"
      },
      "id": "jxJt6tAWnWl0"
    },
    {
      "cell_type": "code",
      "source": [],
      "metadata": {
        "id": "VDOsFpuPQR6u"
      },
      "id": "VDOsFpuPQR6u",
      "execution_count": null,
      "outputs": []
    }
  ],
  "metadata": {
    "kernelspec": {
      "display_name": "Python 3 (ipykernel)",
      "language": "python",
      "name": "python3"
    },
    "language_info": {
      "codemirror_mode": {
        "name": "ipython",
        "version": 3
      },
      "file_extension": ".py",
      "mimetype": "text/x-python",
      "name": "python",
      "nbconvert_exporter": "python",
      "pygments_lexer": "ipython3",
      "version": "3.9.13"
    },
    "colab": {
      "provenance": []
    }
  },
  "nbformat": 4,
  "nbformat_minor": 5
}