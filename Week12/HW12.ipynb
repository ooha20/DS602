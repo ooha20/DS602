{
  "nbformat": 4,
  "nbformat_minor": 0,
  "metadata": {
    "colab": {
      "provenance": []
    },
    "kernelspec": {
      "name": "python3",
      "display_name": "Python 3"
    },
    "language_info": {
      "name": "python"
    }
  },
  "cells": [
    {
      "cell_type": "markdown",
      "source": [
        "\n",
        "# Homework 12\n",
        "\n",
        "https://scikit-learn.org/0.15/modules/scaling_strategies.html#incremental-learning\n",
        "\n",
        "Implement a mini batch functionality to train a regressor.\n",
        "\n",
        "(Optional) If anyone want to do this in a pipeline can do this: https://koaning.github.io/tokenwiser/api/pipeline.html\n",
        "Save model, load the model again and test it on X_test Do NOT commit the pickle file"
      ],
      "metadata": {
        "id": "hup_560vnNfa"
      }
    },
    {
      "cell_type": "code",
      "source": [
        "import pandas as pd\n",
        "import numpy as np\n",
        "import matplotlib.pyplot as plt\n",
        "import warnings\n",
        "\n",
        "# Ignore all warnings\n",
        "warnings.filterwarnings(\"ignore\")"
      ],
      "metadata": {
        "id": "b06WIATpnP_1"
      },
      "execution_count": 1,
      "outputs": []
    },
    {
      "cell_type": "code",
      "source": [
        "def test_df():\n",
        "    df = pd.read_csv('https://raw.githubusercontent.com/msaricaumbc/DS_data/master/ds602/car_prices/car_prices.csv', low_memory=False)\n",
        "\n",
        "    df = df.sample(5000, random_state=100).reset_index(drop=True)\n",
        "    \n",
        "    y = df['sellingprice']\n",
        "    df.drop('sellingprice', axis=1, inplace=True)\n",
        "    X = df\n",
        "    \n",
        "    return X,y\n",
        "\n",
        "def partial_df():\n",
        "    df = pd.read_csv('https://raw.githubusercontent.com/msaricaumbc/DS_data/master/ds602/car_prices/car_prices.csv', low_memory=False)\n",
        "   \n",
        "    while(True):\n",
        "        yield df.sample(100).reset_index(drop=True)\n",
        "        \n",
        "gen = partial_df()"
      ],
      "metadata": {
        "id": "umVFn9Ofnp_p"
      },
      "execution_count": 2,
      "outputs": []
    },
    {
      "cell_type": "code",
      "source": [
        "X_test, y_test = test_df()"
      ],
      "metadata": {
        "id": "THf4059qnuKM"
      },
      "execution_count": 3,
      "outputs": []
    },
    {
      "cell_type": "code",
      "source": [
        "# each time you call this you will get a new slice of the dataframe.\n",
        "next(gen)"
      ],
      "metadata": {
        "colab": {
          "base_uri": "https://localhost:8080/",
          "height": 814
        },
        "id": "BvQ6AZtIoM3-",
        "outputId": "b5b34e5d-1926-43a7-c73c-9470f3863af4"
      },
      "execution_count": 4,
      "outputs": [
        {
          "output_type": "execute_result",
          "data": {
            "text/plain": [
              "    year       make         model         trim         body transmission  \\\n",
              "0   2006      Mazda    MX-5 Miata         Base  Convertible       manual   \n",
              "1   2012   Infiniti       G Sedan  G37 Journey      g sedan    automatic   \n",
              "2   2014        Kia        Optima           LX        Sedan    automatic   \n",
              "3   2013       Ford      Explorer      Limited          SUV    automatic   \n",
              "4   2009  Chevrolet  Tahoe Hybrid         Base          SUV          NaN   \n",
              "..   ...        ...           ...          ...          ...          ...   \n",
              "95  2013        BMW      1 Series         128i  Convertible    automatic   \n",
              "96  2005      Buick      LaCrosse          CXL        Sedan    automatic   \n",
              "97  2011      Dodge       Journey   Mainstreet          suv    automatic   \n",
              "98  2001        BMW      7 Series         740i        Sedan    automatic   \n",
              "99  2006        Kia       Spectra     Spectra5        wagon    automatic   \n",
              "\n",
              "                  vin state condition  odometer   color interior  \\\n",
              "0   jm1nc25f960109815    tx       1.7   61473.0    gray    black   \n",
              "1   jn1cv6ap9cm626482    ga       4.1   31550.0    gray     gray   \n",
              "2   5xxgm4a75eg340269    nv       4.8   15878.0  silver      tan   \n",
              "3   1fm5k8f81dgc72657    co       3.8   52992.0    gray    black   \n",
              "4   1gnfk135x9r161179    nj       2.9  166770.0   black    black   \n",
              "..                ...   ...       ...       ...     ...      ...   \n",
              "95  wbaul7c59dvm83843    ca       3.9   15025.0   black    black   \n",
              "96  2g4wd532051196585    ga       2.3  152322.0  silver    black   \n",
              "97  3d4pg1fg2bt521265    ca       4.3   47093.0   white    black   \n",
              "98  wbagg83421dn83962    ca       3.4  154484.0    gray     gray   \n",
              "99  knafe161565363601    ga         2  109707.0   black     gray   \n",
              "\n",
              "                                    seller    mmr  sellingprice  \\\n",
              "0                          td auto finance   8225          1600   \n",
              "1                       nissan infiniti lt  18600         18400   \n",
              "2                  kia motors america, inc  14750         14900   \n",
              "3                    ars/avis budget group  26000         25900   \n",
              "4                pine belt enterprises inc  15250         11500   \n",
              "..                                     ...    ...           ...   \n",
              "95  financial services remarketing (lease)  24900         25500   \n",
              "96             wells fargo dealer services   3350          2600   \n",
              "97               american road leasing inc  12100         12250   \n",
              "98                              auto depot   2575          1800   \n",
              "99                 riverside chevrolet inc   2050          3200   \n",
              "\n",
              "                                   saledate  \n",
              "0   Wed May 06 2015 03:00:00 GMT-0700 (PDT)  \n",
              "1   Tue Jun 16 2015 02:30:00 GMT-0700 (PDT)  \n",
              "2   Fri Jun 05 2015 05:00:00 GMT-0700 (PDT)  \n",
              "3   Wed Feb 18 2015 03:00:00 GMT-0800 (PST)  \n",
              "4   Wed Jan 21 2015 01:30:00 GMT-0800 (PST)  \n",
              "..                                      ...  \n",
              "95  Thu Feb 26 2015 04:30:00 GMT-0800 (PST)  \n",
              "96  Thu Jan 29 2015 02:00:00 GMT-0800 (PST)  \n",
              "97  Wed May 27 2015 05:15:00 GMT-0700 (PDT)  \n",
              "98  Thu Feb 05 2015 04:00:00 GMT-0800 (PST)  \n",
              "99  Tue Jun 09 2015 05:30:00 GMT-0700 (PDT)  \n",
              "\n",
              "[100 rows x 16 columns]"
            ],
            "text/html": [
              "\n",
              "  <div id=\"df-c8ef3ee3-9c46-4b2c-b499-ce2486e3794c\">\n",
              "    <div class=\"colab-df-container\">\n",
              "      <div>\n",
              "<style scoped>\n",
              "    .dataframe tbody tr th:only-of-type {\n",
              "        vertical-align: middle;\n",
              "    }\n",
              "\n",
              "    .dataframe tbody tr th {\n",
              "        vertical-align: top;\n",
              "    }\n",
              "\n",
              "    .dataframe thead th {\n",
              "        text-align: right;\n",
              "    }\n",
              "</style>\n",
              "<table border=\"1\" class=\"dataframe\">\n",
              "  <thead>\n",
              "    <tr style=\"text-align: right;\">\n",
              "      <th></th>\n",
              "      <th>year</th>\n",
              "      <th>make</th>\n",
              "      <th>model</th>\n",
              "      <th>trim</th>\n",
              "      <th>body</th>\n",
              "      <th>transmission</th>\n",
              "      <th>vin</th>\n",
              "      <th>state</th>\n",
              "      <th>condition</th>\n",
              "      <th>odometer</th>\n",
              "      <th>color</th>\n",
              "      <th>interior</th>\n",
              "      <th>seller</th>\n",
              "      <th>mmr</th>\n",
              "      <th>sellingprice</th>\n",
              "      <th>saledate</th>\n",
              "    </tr>\n",
              "  </thead>\n",
              "  <tbody>\n",
              "    <tr>\n",
              "      <th>0</th>\n",
              "      <td>2006</td>\n",
              "      <td>Mazda</td>\n",
              "      <td>MX-5 Miata</td>\n",
              "      <td>Base</td>\n",
              "      <td>Convertible</td>\n",
              "      <td>manual</td>\n",
              "      <td>jm1nc25f960109815</td>\n",
              "      <td>tx</td>\n",
              "      <td>1.7</td>\n",
              "      <td>61473.0</td>\n",
              "      <td>gray</td>\n",
              "      <td>black</td>\n",
              "      <td>td auto finance</td>\n",
              "      <td>8225</td>\n",
              "      <td>1600</td>\n",
              "      <td>Wed May 06 2015 03:00:00 GMT-0700 (PDT)</td>\n",
              "    </tr>\n",
              "    <tr>\n",
              "      <th>1</th>\n",
              "      <td>2012</td>\n",
              "      <td>Infiniti</td>\n",
              "      <td>G Sedan</td>\n",
              "      <td>G37 Journey</td>\n",
              "      <td>g sedan</td>\n",
              "      <td>automatic</td>\n",
              "      <td>jn1cv6ap9cm626482</td>\n",
              "      <td>ga</td>\n",
              "      <td>4.1</td>\n",
              "      <td>31550.0</td>\n",
              "      <td>gray</td>\n",
              "      <td>gray</td>\n",
              "      <td>nissan infiniti lt</td>\n",
              "      <td>18600</td>\n",
              "      <td>18400</td>\n",
              "      <td>Tue Jun 16 2015 02:30:00 GMT-0700 (PDT)</td>\n",
              "    </tr>\n",
              "    <tr>\n",
              "      <th>2</th>\n",
              "      <td>2014</td>\n",
              "      <td>Kia</td>\n",
              "      <td>Optima</td>\n",
              "      <td>LX</td>\n",
              "      <td>Sedan</td>\n",
              "      <td>automatic</td>\n",
              "      <td>5xxgm4a75eg340269</td>\n",
              "      <td>nv</td>\n",
              "      <td>4.8</td>\n",
              "      <td>15878.0</td>\n",
              "      <td>silver</td>\n",
              "      <td>tan</td>\n",
              "      <td>kia motors america, inc</td>\n",
              "      <td>14750</td>\n",
              "      <td>14900</td>\n",
              "      <td>Fri Jun 05 2015 05:00:00 GMT-0700 (PDT)</td>\n",
              "    </tr>\n",
              "    <tr>\n",
              "      <th>3</th>\n",
              "      <td>2013</td>\n",
              "      <td>Ford</td>\n",
              "      <td>Explorer</td>\n",
              "      <td>Limited</td>\n",
              "      <td>SUV</td>\n",
              "      <td>automatic</td>\n",
              "      <td>1fm5k8f81dgc72657</td>\n",
              "      <td>co</td>\n",
              "      <td>3.8</td>\n",
              "      <td>52992.0</td>\n",
              "      <td>gray</td>\n",
              "      <td>black</td>\n",
              "      <td>ars/avis budget group</td>\n",
              "      <td>26000</td>\n",
              "      <td>25900</td>\n",
              "      <td>Wed Feb 18 2015 03:00:00 GMT-0800 (PST)</td>\n",
              "    </tr>\n",
              "    <tr>\n",
              "      <th>4</th>\n",
              "      <td>2009</td>\n",
              "      <td>Chevrolet</td>\n",
              "      <td>Tahoe Hybrid</td>\n",
              "      <td>Base</td>\n",
              "      <td>SUV</td>\n",
              "      <td>NaN</td>\n",
              "      <td>1gnfk135x9r161179</td>\n",
              "      <td>nj</td>\n",
              "      <td>2.9</td>\n",
              "      <td>166770.0</td>\n",
              "      <td>black</td>\n",
              "      <td>black</td>\n",
              "      <td>pine belt enterprises inc</td>\n",
              "      <td>15250</td>\n",
              "      <td>11500</td>\n",
              "      <td>Wed Jan 21 2015 01:30:00 GMT-0800 (PST)</td>\n",
              "    </tr>\n",
              "    <tr>\n",
              "      <th>...</th>\n",
              "      <td>...</td>\n",
              "      <td>...</td>\n",
              "      <td>...</td>\n",
              "      <td>...</td>\n",
              "      <td>...</td>\n",
              "      <td>...</td>\n",
              "      <td>...</td>\n",
              "      <td>...</td>\n",
              "      <td>...</td>\n",
              "      <td>...</td>\n",
              "      <td>...</td>\n",
              "      <td>...</td>\n",
              "      <td>...</td>\n",
              "      <td>...</td>\n",
              "      <td>...</td>\n",
              "      <td>...</td>\n",
              "    </tr>\n",
              "    <tr>\n",
              "      <th>95</th>\n",
              "      <td>2013</td>\n",
              "      <td>BMW</td>\n",
              "      <td>1 Series</td>\n",
              "      <td>128i</td>\n",
              "      <td>Convertible</td>\n",
              "      <td>automatic</td>\n",
              "      <td>wbaul7c59dvm83843</td>\n",
              "      <td>ca</td>\n",
              "      <td>3.9</td>\n",
              "      <td>15025.0</td>\n",
              "      <td>black</td>\n",
              "      <td>black</td>\n",
              "      <td>financial services remarketing (lease)</td>\n",
              "      <td>24900</td>\n",
              "      <td>25500</td>\n",
              "      <td>Thu Feb 26 2015 04:30:00 GMT-0800 (PST)</td>\n",
              "    </tr>\n",
              "    <tr>\n",
              "      <th>96</th>\n",
              "      <td>2005</td>\n",
              "      <td>Buick</td>\n",
              "      <td>LaCrosse</td>\n",
              "      <td>CXL</td>\n",
              "      <td>Sedan</td>\n",
              "      <td>automatic</td>\n",
              "      <td>2g4wd532051196585</td>\n",
              "      <td>ga</td>\n",
              "      <td>2.3</td>\n",
              "      <td>152322.0</td>\n",
              "      <td>silver</td>\n",
              "      <td>black</td>\n",
              "      <td>wells fargo dealer services</td>\n",
              "      <td>3350</td>\n",
              "      <td>2600</td>\n",
              "      <td>Thu Jan 29 2015 02:00:00 GMT-0800 (PST)</td>\n",
              "    </tr>\n",
              "    <tr>\n",
              "      <th>97</th>\n",
              "      <td>2011</td>\n",
              "      <td>Dodge</td>\n",
              "      <td>Journey</td>\n",
              "      <td>Mainstreet</td>\n",
              "      <td>suv</td>\n",
              "      <td>automatic</td>\n",
              "      <td>3d4pg1fg2bt521265</td>\n",
              "      <td>ca</td>\n",
              "      <td>4.3</td>\n",
              "      <td>47093.0</td>\n",
              "      <td>white</td>\n",
              "      <td>black</td>\n",
              "      <td>american road leasing inc</td>\n",
              "      <td>12100</td>\n",
              "      <td>12250</td>\n",
              "      <td>Wed May 27 2015 05:15:00 GMT-0700 (PDT)</td>\n",
              "    </tr>\n",
              "    <tr>\n",
              "      <th>98</th>\n",
              "      <td>2001</td>\n",
              "      <td>BMW</td>\n",
              "      <td>7 Series</td>\n",
              "      <td>740i</td>\n",
              "      <td>Sedan</td>\n",
              "      <td>automatic</td>\n",
              "      <td>wbagg83421dn83962</td>\n",
              "      <td>ca</td>\n",
              "      <td>3.4</td>\n",
              "      <td>154484.0</td>\n",
              "      <td>gray</td>\n",
              "      <td>gray</td>\n",
              "      <td>auto depot</td>\n",
              "      <td>2575</td>\n",
              "      <td>1800</td>\n",
              "      <td>Thu Feb 05 2015 04:00:00 GMT-0800 (PST)</td>\n",
              "    </tr>\n",
              "    <tr>\n",
              "      <th>99</th>\n",
              "      <td>2006</td>\n",
              "      <td>Kia</td>\n",
              "      <td>Spectra</td>\n",
              "      <td>Spectra5</td>\n",
              "      <td>wagon</td>\n",
              "      <td>automatic</td>\n",
              "      <td>knafe161565363601</td>\n",
              "      <td>ga</td>\n",
              "      <td>2</td>\n",
              "      <td>109707.0</td>\n",
              "      <td>black</td>\n",
              "      <td>gray</td>\n",
              "      <td>riverside chevrolet inc</td>\n",
              "      <td>2050</td>\n",
              "      <td>3200</td>\n",
              "      <td>Tue Jun 09 2015 05:30:00 GMT-0700 (PDT)</td>\n",
              "    </tr>\n",
              "  </tbody>\n",
              "</table>\n",
              "<p>100 rows × 16 columns</p>\n",
              "</div>\n",
              "      <button class=\"colab-df-convert\" onclick=\"convertToInteractive('df-c8ef3ee3-9c46-4b2c-b499-ce2486e3794c')\"\n",
              "              title=\"Convert this dataframe to an interactive table.\"\n",
              "              style=\"display:none;\">\n",
              "        \n",
              "  <svg xmlns=\"http://www.w3.org/2000/svg\" height=\"24px\"viewBox=\"0 0 24 24\"\n",
              "       width=\"24px\">\n",
              "    <path d=\"M0 0h24v24H0V0z\" fill=\"none\"/>\n",
              "    <path d=\"M18.56 5.44l.94 2.06.94-2.06 2.06-.94-2.06-.94-.94-2.06-.94 2.06-2.06.94zm-11 1L8.5 8.5l.94-2.06 2.06-.94-2.06-.94L8.5 2.5l-.94 2.06-2.06.94zm10 10l.94 2.06.94-2.06 2.06-.94-2.06-.94-.94-2.06-.94 2.06-2.06.94z\"/><path d=\"M17.41 7.96l-1.37-1.37c-.4-.4-.92-.59-1.43-.59-.52 0-1.04.2-1.43.59L10.3 9.45l-7.72 7.72c-.78.78-.78 2.05 0 2.83L4 21.41c.39.39.9.59 1.41.59.51 0 1.02-.2 1.41-.59l7.78-7.78 2.81-2.81c.8-.78.8-2.07 0-2.86zM5.41 20L4 18.59l7.72-7.72 1.47 1.35L5.41 20z\"/>\n",
              "  </svg>\n",
              "      </button>\n",
              "      \n",
              "  <style>\n",
              "    .colab-df-container {\n",
              "      display:flex;\n",
              "      flex-wrap:wrap;\n",
              "      gap: 12px;\n",
              "    }\n",
              "\n",
              "    .colab-df-convert {\n",
              "      background-color: #E8F0FE;\n",
              "      border: none;\n",
              "      border-radius: 50%;\n",
              "      cursor: pointer;\n",
              "      display: none;\n",
              "      fill: #1967D2;\n",
              "      height: 32px;\n",
              "      padding: 0 0 0 0;\n",
              "      width: 32px;\n",
              "    }\n",
              "\n",
              "    .colab-df-convert:hover {\n",
              "      background-color: #E2EBFA;\n",
              "      box-shadow: 0px 1px 2px rgba(60, 64, 67, 0.3), 0px 1px 3px 1px rgba(60, 64, 67, 0.15);\n",
              "      fill: #174EA6;\n",
              "    }\n",
              "\n",
              "    [theme=dark] .colab-df-convert {\n",
              "      background-color: #3B4455;\n",
              "      fill: #D2E3FC;\n",
              "    }\n",
              "\n",
              "    [theme=dark] .colab-df-convert:hover {\n",
              "      background-color: #434B5C;\n",
              "      box-shadow: 0px 1px 3px 1px rgba(0, 0, 0, 0.15);\n",
              "      filter: drop-shadow(0px 1px 2px rgba(0, 0, 0, 0.3));\n",
              "      fill: #FFFFFF;\n",
              "    }\n",
              "  </style>\n",
              "\n",
              "      <script>\n",
              "        const buttonEl =\n",
              "          document.querySelector('#df-c8ef3ee3-9c46-4b2c-b499-ce2486e3794c button.colab-df-convert');\n",
              "        buttonEl.style.display =\n",
              "          google.colab.kernel.accessAllowed ? 'block' : 'none';\n",
              "\n",
              "        async function convertToInteractive(key) {\n",
              "          const element = document.querySelector('#df-c8ef3ee3-9c46-4b2c-b499-ce2486e3794c');\n",
              "          const dataTable =\n",
              "            await google.colab.kernel.invokeFunction('convertToInteractive',\n",
              "                                                     [key], {});\n",
              "          if (!dataTable) return;\n",
              "\n",
              "          const docLinkHtml = 'Like what you see? Visit the ' +\n",
              "            '<a target=\"_blank\" href=https://colab.research.google.com/notebooks/data_table.ipynb>data table notebook</a>'\n",
              "            + ' to learn more about interactive tables.';\n",
              "          element.innerHTML = '';\n",
              "          dataTable['output_type'] = 'display_data';\n",
              "          await google.colab.output.renderOutput(dataTable, element);\n",
              "          const docLink = document.createElement('div');\n",
              "          docLink.innerHTML = docLinkHtml;\n",
              "          element.appendChild(docLink);\n",
              "        }\n",
              "      </script>\n",
              "    </div>\n",
              "  </div>\n",
              "  "
            ]
          },
          "metadata": {},
          "execution_count": 4
        }
      ]
    },
    {
      "cell_type": "markdown",
      "source": [
        "Importing Libraries"
      ],
      "metadata": {
        "id": "5gx3uFP-z_bN"
      }
    },
    {
      "cell_type": "code",
      "source": [
        "from sklearn.linear_model import SGDRegressor\n",
        "from sklearn.linear_model import PassiveAggressiveRegressor\n",
        "from sklearn.pipeline import Pipeline\n",
        "from sklearn.impute import SimpleImputer\n",
        "from sklearn.preprocessing import StandardScaler, OneHotEncoder\n",
        "from sklearn.compose import ColumnTransformer"
      ],
      "metadata": {
        "id": "Wk4h3obuoPb6"
      },
      "execution_count": 5,
      "outputs": []
    },
    {
      "cell_type": "markdown",
      "source": [
        "spliting features into numerical and categorical"
      ],
      "metadata": {
        "id": "IxbayoGW0OKo"
      }
    },
    {
      "cell_type": "code",
      "source": [
        "num_features = list(X_test.select_dtypes(include='number').columns)\n",
        "cat_features = list(X_test.select_dtypes(include=['object', 'category']).columns)\n",
        "print(num_features)\n",
        "print(cat_features)"
      ],
      "metadata": {
        "colab": {
          "base_uri": "https://localhost:8080/"
        },
        "id": "TkL6tBRro1CX",
        "outputId": "0ede862b-e9ae-4a3b-c7ca-cce1cfa8f46a"
      },
      "execution_count": 6,
      "outputs": [
        {
          "output_type": "stream",
          "name": "stdout",
          "text": [
            "['year', 'odometer']\n",
            "['make', 'model', 'trim', 'body', 'transmission', 'vin', 'state', 'condition', 'color', 'interior', 'seller', 'mmr', 'saledate']\n"
          ]
        }
      ]
    },
    {
      "cell_type": "markdown",
      "source": [
        "creating pipeline for numerical features "
      ],
      "metadata": {
        "id": "WCY0XsQB0SlQ"
      }
    },
    {
      "cell_type": "code",
      "source": [
        "from sklearn.pipeline import Pipeline\n",
        "from sklearn.impute import SimpleImputer\n",
        "from sklearn.preprocessing import StandardScaler\n",
        "\n",
        "numerical_pipeline = Pipeline([\n",
        "    ('imputer', SimpleImputer(strategy='median')),\n",
        "    ('scaler', StandardScaler())\n",
        "])"
      ],
      "metadata": {
        "id": "lPjGpghqptDn"
      },
      "execution_count": 7,
      "outputs": []
    },
    {
      "cell_type": "markdown",
      "source": [
        "\n",
        "creating pipeline for categorical features "
      ],
      "metadata": {
        "id": "JXaBYIUv0Zs0"
      }
    },
    {
      "cell_type": "code",
      "source": [
        "from sklearn.preprocessing import OneHotEncoder\n",
        "\n",
        "categorical_pipeline = Pipeline([\n",
        "    ('simpleimputer', SimpleImputer(strategy='most_frequent')),\n",
        "    ('onehotencoder', OneHotEncoder(drop='if_binary', handle_unknown='ignore'))\n",
        "])"
      ],
      "metadata": {
        "id": "ib8C2v4kpvDK"
      },
      "execution_count": 8,
      "outputs": []
    },
    {
      "cell_type": "markdown",
      "source": [
        "combining categorical and numerical pipelines"
      ],
      "metadata": {
        "id": "IpXBRaNO0emT"
      }
    },
    {
      "cell_type": "code",
      "source": [
        "from sklearn.compose import ColumnTransformer\n",
        "\n",
        "preprocessing_pipeline = ColumnTransformer([\n",
        "    ('num', numerical_pipeline, num_features),\n",
        "    ('cat', categorical_pipeline, cat_features)\n",
        "])\n",
        "\n",
        "\n",
        "preprocessing_pipeline.fit(X_test)"
      ],
      "metadata": {
        "colab": {
          "base_uri": "https://localhost:8080/",
          "height": 151
        },
        "id": "tPIJviGjp1Nb",
        "outputId": "44194428-d629-4f5a-9a2e-24b49e3f5427"
      },
      "execution_count": 9,
      "outputs": [
        {
          "output_type": "execute_result",
          "data": {
            "text/plain": [
              "ColumnTransformer(transformers=[('num',\n",
              "                                 Pipeline(steps=[('imputer',\n",
              "                                                  SimpleImputer(strategy='median')),\n",
              "                                                 ('scaler', StandardScaler())]),\n",
              "                                 ['year', 'odometer']),\n",
              "                                ('cat',\n",
              "                                 Pipeline(steps=[('simpleimputer',\n",
              "                                                  SimpleImputer(strategy='most_frequent')),\n",
              "                                                 ('onehotencoder',\n",
              "                                                  OneHotEncoder(drop='if_binary',\n",
              "                                                                handle_unknown='ignore'))]),\n",
              "                                 ['make', 'model', 'trim', 'body',\n",
              "                                  'transmission', 'vin', 'state', 'condition',\n",
              "                                  'color', 'interior', 'seller', 'mmr',\n",
              "                                  'saledate'])])"
            ],
            "text/html": [
              "<style>#sk-container-id-1 {color: black;background-color: white;}#sk-container-id-1 pre{padding: 0;}#sk-container-id-1 div.sk-toggleable {background-color: white;}#sk-container-id-1 label.sk-toggleable__label {cursor: pointer;display: block;width: 100%;margin-bottom: 0;padding: 0.3em;box-sizing: border-box;text-align: center;}#sk-container-id-1 label.sk-toggleable__label-arrow:before {content: \"▸\";float: left;margin-right: 0.25em;color: #696969;}#sk-container-id-1 label.sk-toggleable__label-arrow:hover:before {color: black;}#sk-container-id-1 div.sk-estimator:hover label.sk-toggleable__label-arrow:before {color: black;}#sk-container-id-1 div.sk-toggleable__content {max-height: 0;max-width: 0;overflow: hidden;text-align: left;background-color: #f0f8ff;}#sk-container-id-1 div.sk-toggleable__content pre {margin: 0.2em;color: black;border-radius: 0.25em;background-color: #f0f8ff;}#sk-container-id-1 input.sk-toggleable__control:checked~div.sk-toggleable__content {max-height: 200px;max-width: 100%;overflow: auto;}#sk-container-id-1 input.sk-toggleable__control:checked~label.sk-toggleable__label-arrow:before {content: \"▾\";}#sk-container-id-1 div.sk-estimator input.sk-toggleable__control:checked~label.sk-toggleable__label {background-color: #d4ebff;}#sk-container-id-1 div.sk-label input.sk-toggleable__control:checked~label.sk-toggleable__label {background-color: #d4ebff;}#sk-container-id-1 input.sk-hidden--visually {border: 0;clip: rect(1px 1px 1px 1px);clip: rect(1px, 1px, 1px, 1px);height: 1px;margin: -1px;overflow: hidden;padding: 0;position: absolute;width: 1px;}#sk-container-id-1 div.sk-estimator {font-family: monospace;background-color: #f0f8ff;border: 1px dotted black;border-radius: 0.25em;box-sizing: border-box;margin-bottom: 0.5em;}#sk-container-id-1 div.sk-estimator:hover {background-color: #d4ebff;}#sk-container-id-1 div.sk-parallel-item::after {content: \"\";width: 100%;border-bottom: 1px solid gray;flex-grow: 1;}#sk-container-id-1 div.sk-label:hover label.sk-toggleable__label {background-color: #d4ebff;}#sk-container-id-1 div.sk-serial::before {content: \"\";position: absolute;border-left: 1px solid gray;box-sizing: border-box;top: 0;bottom: 0;left: 50%;z-index: 0;}#sk-container-id-1 div.sk-serial {display: flex;flex-direction: column;align-items: center;background-color: white;padding-right: 0.2em;padding-left: 0.2em;position: relative;}#sk-container-id-1 div.sk-item {position: relative;z-index: 1;}#sk-container-id-1 div.sk-parallel {display: flex;align-items: stretch;justify-content: center;background-color: white;position: relative;}#sk-container-id-1 div.sk-item::before, #sk-container-id-1 div.sk-parallel-item::before {content: \"\";position: absolute;border-left: 1px solid gray;box-sizing: border-box;top: 0;bottom: 0;left: 50%;z-index: -1;}#sk-container-id-1 div.sk-parallel-item {display: flex;flex-direction: column;z-index: 1;position: relative;background-color: white;}#sk-container-id-1 div.sk-parallel-item:first-child::after {align-self: flex-end;width: 50%;}#sk-container-id-1 div.sk-parallel-item:last-child::after {align-self: flex-start;width: 50%;}#sk-container-id-1 div.sk-parallel-item:only-child::after {width: 0;}#sk-container-id-1 div.sk-dashed-wrapped {border: 1px dashed gray;margin: 0 0.4em 0.5em 0.4em;box-sizing: border-box;padding-bottom: 0.4em;background-color: white;}#sk-container-id-1 div.sk-label label {font-family: monospace;font-weight: bold;display: inline-block;line-height: 1.2em;}#sk-container-id-1 div.sk-label-container {text-align: center;}#sk-container-id-1 div.sk-container {/* jupyter's `normalize.less` sets `[hidden] { display: none; }` but bootstrap.min.css set `[hidden] { display: none !important; }` so we also need the `!important` here to be able to override the default hidden behavior on the sphinx rendered scikit-learn.org. See: https://github.com/scikit-learn/scikit-learn/issues/21755 */display: inline-block !important;position: relative;}#sk-container-id-1 div.sk-text-repr-fallback {display: none;}</style><div id=\"sk-container-id-1\" class=\"sk-top-container\"><div class=\"sk-text-repr-fallback\"><pre>ColumnTransformer(transformers=[(&#x27;num&#x27;,\n",
              "                                 Pipeline(steps=[(&#x27;imputer&#x27;,\n",
              "                                                  SimpleImputer(strategy=&#x27;median&#x27;)),\n",
              "                                                 (&#x27;scaler&#x27;, StandardScaler())]),\n",
              "                                 [&#x27;year&#x27;, &#x27;odometer&#x27;]),\n",
              "                                (&#x27;cat&#x27;,\n",
              "                                 Pipeline(steps=[(&#x27;simpleimputer&#x27;,\n",
              "                                                  SimpleImputer(strategy=&#x27;most_frequent&#x27;)),\n",
              "                                                 (&#x27;onehotencoder&#x27;,\n",
              "                                                  OneHotEncoder(drop=&#x27;if_binary&#x27;,\n",
              "                                                                handle_unknown=&#x27;ignore&#x27;))]),\n",
              "                                 [&#x27;make&#x27;, &#x27;model&#x27;, &#x27;trim&#x27;, &#x27;body&#x27;,\n",
              "                                  &#x27;transmission&#x27;, &#x27;vin&#x27;, &#x27;state&#x27;, &#x27;condition&#x27;,\n",
              "                                  &#x27;color&#x27;, &#x27;interior&#x27;, &#x27;seller&#x27;, &#x27;mmr&#x27;,\n",
              "                                  &#x27;saledate&#x27;])])</pre><b>In a Jupyter environment, please rerun this cell to show the HTML representation or trust the notebook. <br />On GitHub, the HTML representation is unable to render, please try loading this page with nbviewer.org.</b></div><div class=\"sk-container\" hidden><div class=\"sk-item sk-dashed-wrapped\"><div class=\"sk-label-container\"><div class=\"sk-label sk-toggleable\"><input class=\"sk-toggleable__control sk-hidden--visually\" id=\"sk-estimator-id-1\" type=\"checkbox\" ><label for=\"sk-estimator-id-1\" class=\"sk-toggleable__label sk-toggleable__label-arrow\">ColumnTransformer</label><div class=\"sk-toggleable__content\"><pre>ColumnTransformer(transformers=[(&#x27;num&#x27;,\n",
              "                                 Pipeline(steps=[(&#x27;imputer&#x27;,\n",
              "                                                  SimpleImputer(strategy=&#x27;median&#x27;)),\n",
              "                                                 (&#x27;scaler&#x27;, StandardScaler())]),\n",
              "                                 [&#x27;year&#x27;, &#x27;odometer&#x27;]),\n",
              "                                (&#x27;cat&#x27;,\n",
              "                                 Pipeline(steps=[(&#x27;simpleimputer&#x27;,\n",
              "                                                  SimpleImputer(strategy=&#x27;most_frequent&#x27;)),\n",
              "                                                 (&#x27;onehotencoder&#x27;,\n",
              "                                                  OneHotEncoder(drop=&#x27;if_binary&#x27;,\n",
              "                                                                handle_unknown=&#x27;ignore&#x27;))]),\n",
              "                                 [&#x27;make&#x27;, &#x27;model&#x27;, &#x27;trim&#x27;, &#x27;body&#x27;,\n",
              "                                  &#x27;transmission&#x27;, &#x27;vin&#x27;, &#x27;state&#x27;, &#x27;condition&#x27;,\n",
              "                                  &#x27;color&#x27;, &#x27;interior&#x27;, &#x27;seller&#x27;, &#x27;mmr&#x27;,\n",
              "                                  &#x27;saledate&#x27;])])</pre></div></div></div><div class=\"sk-parallel\"><div class=\"sk-parallel-item\"><div class=\"sk-item\"><div class=\"sk-label-container\"><div class=\"sk-label sk-toggleable\"><input class=\"sk-toggleable__control sk-hidden--visually\" id=\"sk-estimator-id-2\" type=\"checkbox\" ><label for=\"sk-estimator-id-2\" class=\"sk-toggleable__label sk-toggleable__label-arrow\">num</label><div class=\"sk-toggleable__content\"><pre>[&#x27;year&#x27;, &#x27;odometer&#x27;]</pre></div></div></div><div class=\"sk-serial\"><div class=\"sk-item\"><div class=\"sk-serial\"><div class=\"sk-item\"><div class=\"sk-estimator sk-toggleable\"><input class=\"sk-toggleable__control sk-hidden--visually\" id=\"sk-estimator-id-3\" type=\"checkbox\" ><label for=\"sk-estimator-id-3\" class=\"sk-toggleable__label sk-toggleable__label-arrow\">SimpleImputer</label><div class=\"sk-toggleable__content\"><pre>SimpleImputer(strategy=&#x27;median&#x27;)</pre></div></div></div><div class=\"sk-item\"><div class=\"sk-estimator sk-toggleable\"><input class=\"sk-toggleable__control sk-hidden--visually\" id=\"sk-estimator-id-4\" type=\"checkbox\" ><label for=\"sk-estimator-id-4\" class=\"sk-toggleable__label sk-toggleable__label-arrow\">StandardScaler</label><div class=\"sk-toggleable__content\"><pre>StandardScaler()</pre></div></div></div></div></div></div></div></div><div class=\"sk-parallel-item\"><div class=\"sk-item\"><div class=\"sk-label-container\"><div class=\"sk-label sk-toggleable\"><input class=\"sk-toggleable__control sk-hidden--visually\" id=\"sk-estimator-id-5\" type=\"checkbox\" ><label for=\"sk-estimator-id-5\" class=\"sk-toggleable__label sk-toggleable__label-arrow\">cat</label><div class=\"sk-toggleable__content\"><pre>[&#x27;make&#x27;, &#x27;model&#x27;, &#x27;trim&#x27;, &#x27;body&#x27;, &#x27;transmission&#x27;, &#x27;vin&#x27;, &#x27;state&#x27;, &#x27;condition&#x27;, &#x27;color&#x27;, &#x27;interior&#x27;, &#x27;seller&#x27;, &#x27;mmr&#x27;, &#x27;saledate&#x27;]</pre></div></div></div><div class=\"sk-serial\"><div class=\"sk-item\"><div class=\"sk-serial\"><div class=\"sk-item\"><div class=\"sk-estimator sk-toggleable\"><input class=\"sk-toggleable__control sk-hidden--visually\" id=\"sk-estimator-id-6\" type=\"checkbox\" ><label for=\"sk-estimator-id-6\" class=\"sk-toggleable__label sk-toggleable__label-arrow\">SimpleImputer</label><div class=\"sk-toggleable__content\"><pre>SimpleImputer(strategy=&#x27;most_frequent&#x27;)</pre></div></div></div><div class=\"sk-item\"><div class=\"sk-estimator sk-toggleable\"><input class=\"sk-toggleable__control sk-hidden--visually\" id=\"sk-estimator-id-7\" type=\"checkbox\" ><label for=\"sk-estimator-id-7\" class=\"sk-toggleable__label sk-toggleable__label-arrow\">OneHotEncoder</label><div class=\"sk-toggleable__content\"><pre>OneHotEncoder(drop=&#x27;if_binary&#x27;, handle_unknown=&#x27;ignore&#x27;)</pre></div></div></div></div></div></div></div></div></div></div></div></div>"
            ]
          },
          "metadata": {},
          "execution_count": 9
        }
      ]
    },
    {
      "cell_type": "markdown",
      "source": [
        "Usage of SGDRegressor"
      ],
      "metadata": {
        "id": "DXGFl7dF0hUL"
      }
    },
    {
      "cell_type": "code",
      "source": [
        "regressor_batch_SGD = SGDRegressor(loss='squared_error', random_state=42)"
      ],
      "metadata": {
        "id": "qIDh3reEqyO9"
      },
      "execution_count": 13,
      "outputs": []
    },
    {
      "cell_type": "markdown",
      "source": [
        "Taken range of bathes is 55 and n as 100"
      ],
      "metadata": {
        "id": "qXwfEP8C0ym2"
      }
    },
    {
      "cell_type": "code",
      "source": [
        "batches = 55\n",
        "n = 100\n",
        "for i in range(n):\n",
        "    for batch_index in range(batches):\n",
        "        batch_df = next(gen)\n",
        "        X_batch = batch_df.drop('sellingprice', axis=1)\n",
        "        Y_batch = batch_df['sellingprice']\n",
        "\n",
        "        X_batch_preprocessor = preprocessing_pipeline.transform(X_batch)\n",
        "\n",
        "        regressor_batch_SGD.partial_fit(X_batch_preprocessor, Y_batch)\n"
      ],
      "metadata": {
        "id": "zcvgt73rq2ib"
      },
      "execution_count": 15,
      "outputs": []
    },
    {
      "cell_type": "code",
      "source": [
        "import joblib\n",
        "\n",
        "joblib.dump(regressor_batch_SGD, 'regressor.joblib')\n",
        "regressor = joblib.load('regressor.joblib')\n",
        "X_test_processed = preprocessing_pipeline.transform(X_test)\n",
        "y_pred = regressor.predict(X_test_processed)\n",
        "print(y_pred)"
      ],
      "metadata": {
        "colab": {
          "base_uri": "https://localhost:8080/"
        },
        "id": "KUNVKSi5xwa6",
        "outputId": "f0ab10e6-fd66-4009-b011-54aedd9a7ce0"
      },
      "execution_count": 17,
      "outputs": [
        {
          "output_type": "stream",
          "name": "stdout",
          "text": [
            "[13115.33167042 19981.69595055 15543.23862733 ... 19884.03166698\n",
            " 19456.81048427 15901.33297277]\n"
          ]
        }
      ]
    },
    {
      "cell_type": "markdown",
      "source": [
        "Trained regressor model using joblib.dump(regressor_batch_SGD, 'regressor.joblib').\n",
        "Load the saved model into a variable using regressor = joblib.load('regressor.joblib').\n",
        "Preprocess the test data using a preprocessing pipeline or preprocessor object, assuming it is named preprocessing_pipeline. Apply the transformation to the test data with X_test_processed = preprocessing_pipeline.transform(X_test).\n",
        "Use the loaded model to make predictions on the preprocessed test data: y_pred = regressor.predict(X_test_processed).\n",
        "Print the predicted values using print(y_pred)"
      ],
      "metadata": {
        "id": "ta8aW9oY2i1e"
      }
    },
    {
      "cell_type": "markdown",
      "source": [
        "Printing the score"
      ],
      "metadata": {
        "id": "2x2bGwm90vCo"
      }
    },
    {
      "cell_type": "code",
      "source": [
        "# Score\n",
        "score = regressor.score(X_test_processed, y_test)\n",
        "print(\"Model score:\", score)"
      ],
      "metadata": {
        "colab": {
          "base_uri": "https://localhost:8080/"
        },
        "id": "8hSo8ExCybJo",
        "outputId": "7c2e805e-cd52-4af1-9538-0253549d5f8e"
      },
      "execution_count": 18,
      "outputs": [
        {
          "output_type": "stream",
          "name": "stdout",
          "text": [
            "Model score: 0.8132016757774726\n"
          ]
        }
      ]
    },
    {
      "cell_type": "markdown",
      "source": [
        "Accuracy of model is 81% with the use of SGDRegressor."
      ],
      "metadata": {
        "id": "hLqxWdqz1SYS"
      }
    }
  ]
}