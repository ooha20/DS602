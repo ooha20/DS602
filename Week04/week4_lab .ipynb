{
 "cells": [
  {
   "cell_type": "markdown",
   "id": "7aa198df",
   "metadata": {
    "id": "7aa198df"
   },
   "source": [
    "# Week4 - Lab\n",
    "\n",
    "Take a look at this toy dataset. Perform the following operations\n",
    "* Train-test split\n",
    "* Train a linear regression model\n",
    "* Evaluate/create residual plots\n",
    "* Explain findings"
   ]
  },
  {
   "cell_type": "code",
   "execution_count": 2,
   "id": "6c836d17",
   "metadata": {
    "id": "6c836d17"
   },
   "outputs": [],
   "source": [
    "import pandas as pd\n",
    "import numpy as np\n",
    "import matplotlib.pyplot as plt\n",
    "import random\n",
    "\n",
    "data1 = pd.read_csv('https://raw.githubusercontent.com/msaricaumbc/DS_data/master/ds602/regression/lab4_1.csv')\n",
    "data2 = pd.read_csv('https://raw.githubusercontent.com/msaricaumbc/DS_data/master/ds602/regression/lab4_2.csv')"
   ]
  },
  {
   "cell_type": "code",
   "execution_count": 7,
   "id": "66c1f0a6",
   "metadata": {},
   "outputs": [
    {
     "data": {
      "text/html": [
       "<div>\n",
       "<style scoped>\n",
       "    .dataframe tbody tr th:only-of-type {\n",
       "        vertical-align: middle;\n",
       "    }\n",
       "\n",
       "    .dataframe tbody tr th {\n",
       "        vertical-align: top;\n",
       "    }\n",
       "\n",
       "    .dataframe thead th {\n",
       "        text-align: right;\n",
       "    }\n",
       "</style>\n",
       "<table border=\"1\" class=\"dataframe\">\n",
       "  <thead>\n",
       "    <tr style=\"text-align: right;\">\n",
       "      <th></th>\n",
       "      <th>Unnamed: 0</th>\n",
       "      <th>X</th>\n",
       "      <th>y</th>\n",
       "    </tr>\n",
       "  </thead>\n",
       "  <tbody>\n",
       "    <tr>\n",
       "      <th>0</th>\n",
       "      <td>0</td>\n",
       "      <td>50</td>\n",
       "      <td>147</td>\n",
       "    </tr>\n",
       "    <tr>\n",
       "      <th>1</th>\n",
       "      <td>1</td>\n",
       "      <td>82</td>\n",
       "      <td>246</td>\n",
       "    </tr>\n",
       "    <tr>\n",
       "      <th>2</th>\n",
       "      <td>2</td>\n",
       "      <td>66</td>\n",
       "      <td>207</td>\n",
       "    </tr>\n",
       "    <tr>\n",
       "      <th>3</th>\n",
       "      <td>3</td>\n",
       "      <td>35</td>\n",
       "      <td>105</td>\n",
       "    </tr>\n",
       "    <tr>\n",
       "      <th>4</th>\n",
       "      <td>4</td>\n",
       "      <td>81</td>\n",
       "      <td>240</td>\n",
       "    </tr>\n",
       "    <tr>\n",
       "      <th>...</th>\n",
       "      <td>...</td>\n",
       "      <td>...</td>\n",
       "      <td>...</td>\n",
       "    </tr>\n",
       "    <tr>\n",
       "      <th>95</th>\n",
       "      <td>95</td>\n",
       "      <td>98</td>\n",
       "      <td>285</td>\n",
       "    </tr>\n",
       "    <tr>\n",
       "      <th>96</th>\n",
       "      <td>96</td>\n",
       "      <td>9</td>\n",
       "      <td>18</td>\n",
       "    </tr>\n",
       "    <tr>\n",
       "      <th>97</th>\n",
       "      <td>97</td>\n",
       "      <td>56</td>\n",
       "      <td>174</td>\n",
       "    </tr>\n",
       "    <tr>\n",
       "      <th>98</th>\n",
       "      <td>98</td>\n",
       "      <td>50</td>\n",
       "      <td>159</td>\n",
       "    </tr>\n",
       "    <tr>\n",
       "      <th>99</th>\n",
       "      <td>99</td>\n",
       "      <td>53</td>\n",
       "      <td>147</td>\n",
       "    </tr>\n",
       "  </tbody>\n",
       "</table>\n",
       "<p>100 rows × 3 columns</p>\n",
       "</div>"
      ],
      "text/plain": [
       "    Unnamed: 0   X    y\n",
       "0            0  50  147\n",
       "1            1  82  246\n",
       "2            2  66  207\n",
       "3            3  35  105\n",
       "4            4  81  240\n",
       "..         ...  ..  ...\n",
       "95          95  98  285\n",
       "96          96   9   18\n",
       "97          97  56  174\n",
       "98          98  50  159\n",
       "99          99  53  147\n",
       "\n",
       "[100 rows x 3 columns]"
      ]
     },
     "execution_count": 7,
     "metadata": {},
     "output_type": "execute_result"
    }
   ],
   "source": [
    "data1"
   ]
  },
  {
   "cell_type": "code",
   "execution_count": 8,
   "id": "50ec3df1",
   "metadata": {},
   "outputs": [
    {
     "data": {
      "text/html": [
       "<div>\n",
       "<style scoped>\n",
       "    .dataframe tbody tr th:only-of-type {\n",
       "        vertical-align: middle;\n",
       "    }\n",
       "\n",
       "    .dataframe tbody tr th {\n",
       "        vertical-align: top;\n",
       "    }\n",
       "\n",
       "    .dataframe thead th {\n",
       "        text-align: right;\n",
       "    }\n",
       "</style>\n",
       "<table border=\"1\" class=\"dataframe\">\n",
       "  <thead>\n",
       "    <tr style=\"text-align: right;\">\n",
       "      <th></th>\n",
       "      <th>Unnamed: 0</th>\n",
       "      <th>X1</th>\n",
       "      <th>X2</th>\n",
       "      <th>y</th>\n",
       "    </tr>\n",
       "  </thead>\n",
       "  <tbody>\n",
       "    <tr>\n",
       "      <th>0</th>\n",
       "      <td>0</td>\n",
       "      <td>50</td>\n",
       "      <td>B</td>\n",
       "      <td>2510</td>\n",
       "    </tr>\n",
       "    <tr>\n",
       "      <th>1</th>\n",
       "      <td>1</td>\n",
       "      <td>82</td>\n",
       "      <td>B</td>\n",
       "      <td>6738</td>\n",
       "    </tr>\n",
       "    <tr>\n",
       "      <th>2</th>\n",
       "      <td>2</td>\n",
       "      <td>66</td>\n",
       "      <td>B</td>\n",
       "      <td>4355</td>\n",
       "    </tr>\n",
       "    <tr>\n",
       "      <th>3</th>\n",
       "      <td>3</td>\n",
       "      <td>35</td>\n",
       "      <td>A</td>\n",
       "      <td>2225</td>\n",
       "    </tr>\n",
       "    <tr>\n",
       "      <th>4</th>\n",
       "      <td>4</td>\n",
       "      <td>81</td>\n",
       "      <td>A</td>\n",
       "      <td>7560</td>\n",
       "    </tr>\n",
       "    <tr>\n",
       "      <th>...</th>\n",
       "      <td>...</td>\n",
       "      <td>...</td>\n",
       "      <td>...</td>\n",
       "      <td>...</td>\n",
       "    </tr>\n",
       "    <tr>\n",
       "      <th>95</th>\n",
       "      <td>95</td>\n",
       "      <td>98</td>\n",
       "      <td>B</td>\n",
       "      <td>9615</td>\n",
       "    </tr>\n",
       "    <tr>\n",
       "      <th>96</th>\n",
       "      <td>96</td>\n",
       "      <td>9</td>\n",
       "      <td>A</td>\n",
       "      <td>1066</td>\n",
       "    </tr>\n",
       "    <tr>\n",
       "      <th>97</th>\n",
       "      <td>97</td>\n",
       "      <td>56</td>\n",
       "      <td>A</td>\n",
       "      <td>4139</td>\n",
       "    </tr>\n",
       "    <tr>\n",
       "      <th>98</th>\n",
       "      <td>98</td>\n",
       "      <td>50</td>\n",
       "      <td>B</td>\n",
       "      <td>2502</td>\n",
       "    </tr>\n",
       "    <tr>\n",
       "      <th>99</th>\n",
       "      <td>99</td>\n",
       "      <td>53</td>\n",
       "      <td>A</td>\n",
       "      <td>3815</td>\n",
       "    </tr>\n",
       "  </tbody>\n",
       "</table>\n",
       "<p>100 rows × 4 columns</p>\n",
       "</div>"
      ],
      "text/plain": [
       "    Unnamed: 0  X1 X2     y\n",
       "0            0  50  B  2510\n",
       "1            1  82  B  6738\n",
       "2            2  66  B  4355\n",
       "3            3  35  A  2225\n",
       "4            4  81  A  7560\n",
       "..         ...  .. ..   ...\n",
       "95          95  98  B  9615\n",
       "96          96   9  A  1066\n",
       "97          97  56  A  4139\n",
       "98          98  50  B  2502\n",
       "99          99  53  A  3815\n",
       "\n",
       "[100 rows x 4 columns]"
      ]
     },
     "execution_count": 8,
     "metadata": {},
     "output_type": "execute_result"
    }
   ],
   "source": [
    "data2"
   ]
  },
  {
   "cell_type": "markdown",
   "id": "f1b3676b",
   "metadata": {},
   "source": [
    "# Train-test split"
   ]
  },
  {
   "cell_type": "code",
   "execution_count": 19,
   "id": "436d6c1f",
   "metadata": {
    "id": "436d6c1f"
   },
   "outputs": [
    {
     "name": "stdout",
     "output_type": "stream",
     "text": [
      "     X\n",
      "55  16\n",
      "88  88\n",
      "26   5\n",
      "42  33\n",
      "69  67\n",
      "..  ..\n",
      "60  58\n",
      "71  62\n",
      "14   1\n",
      "92  89\n",
      "51  11\n",
      "\n",
      "[80 rows x 1 columns]      X\n",
      "83  90\n",
      "53  31\n",
      "70  20\n",
      "45   7\n",
      "44  84\n",
      "39   5\n",
      "22   9\n",
      "80  80\n",
      "10  41\n",
      "0   50\n",
      "18  42\n",
      "30  52\n",
      "73  15\n",
      "33  52\n",
      "90   7\n",
      "4   81\n",
      "76  24\n",
      "77  54\n",
      "12  32\n",
      "31  51 55     54\n",
      "88    267\n",
      "26     12\n",
      "42     90\n",
      "69    186\n",
      "     ... \n",
      "60    165\n",
      "71    192\n",
      "14     -3\n",
      "92    267\n",
      "51     33\n",
      "Name: y, Length: 80, dtype: int64 83    276\n",
      "53     99\n",
      "70     48\n",
      "45     12\n",
      "44    243\n",
      "39      3\n",
      "22     39\n",
      "80    234\n",
      "10    114\n",
      "0     147\n",
      "18    138\n",
      "30    144\n",
      "73     51\n",
      "33    168\n",
      "90     18\n",
      "4     240\n",
      "76     75\n",
      "77    147\n",
      "12     81\n",
      "31    150\n",
      "Name: y, dtype: int64\n"
     ]
    }
   ],
   "source": [
    "from sklearn.model_selection import train_test_split\n",
    "\n",
    "X_train, X_test, y_train, y_test = train_test_split(data1[['X']], data1['y'], test_size=0.2, random_state=42)\n",
    "\n",
    "print(X_train, X_test, y_train, y_test)\n"
   ]
  },
  {
   "cell_type": "code",
   "execution_count": 20,
   "id": "2ca41922",
   "metadata": {},
   "outputs": [
    {
     "name": "stdout",
     "output_type": "stream",
     "text": [
      "    X1\n",
      "55  16\n",
      "88  88\n",
      "26   5\n",
      "42  33\n",
      "69  67\n",
      "..  ..\n",
      "60  58\n",
      "71  62\n",
      "14   1\n",
      "92  89\n",
      "51  11\n",
      "\n",
      "[80 rows x 1 columns]     X1\n",
      "83  90\n",
      "53  31\n",
      "70  20\n",
      "45   7\n",
      "44  84\n",
      "39   5\n",
      "22   9\n",
      "80  80\n",
      "10  41\n",
      "0   50\n",
      "18  42\n",
      "30  52\n",
      "73  15\n",
      "33  52\n",
      "90   7\n",
      "4   81\n",
      "76  24\n",
      "77  54\n",
      "12  32\n",
      "31  51 55     268\n",
      "88    7741\n",
      "26    1035\n",
      "42    1092\n",
      "69    4487\n",
      "      ... \n",
      "60    3357\n",
      "71    4842\n",
      "14     989\n",
      "92    7935\n",
      "51    1121\n",
      "Name: y, Length: 80, dtype: int64 83    9113\n",
      "53     972\n",
      "70     406\n",
      "45    1047\n",
      "44    8069\n",
      "39    1030\n",
      "22      91\n",
      "80    6401\n",
      "10    2688\n",
      "0     2510\n",
      "18    1762\n",
      "30    2703\n",
      "73    1217\n",
      "33    2711\n",
      "90    1060\n",
      "4     7560\n",
      "76    1587\n",
      "77    2920\n",
      "12    1021\n",
      "31    3599\n",
      "Name: y, dtype: int64\n"
     ]
    }
   ],
   "source": [
    "from sklearn.model_selection import train_test_split\n",
    "\n",
    "X_train, X_test, y_train, y_test = train_test_split(data2[['X1']], data2['y'], test_size=0.2, random_state=42)\n",
    "\n",
    "print(X_train, X_test, y_train, y_test)"
   ]
  },
  {
   "cell_type": "markdown",
   "id": "dd795aaa",
   "metadata": {},
   "source": [
    "# Train a linear regression model\n"
   ]
  },
  {
   "cell_type": "code",
   "execution_count": 21,
   "id": "4b6709fd",
   "metadata": {},
   "outputs": [
    {
     "name": "stdout",
     "output_type": "stream",
     "text": [
      "[93.01499954]\n"
     ]
    }
   ],
   "source": [
    "from sklearn.linear_model import LinearRegression\n",
    "\n",
    "model = LinearRegression()\n",
    "model.fit(X_train, y_train)\n",
    "print(model.coef_)\n"
   ]
  },
  {
   "cell_type": "markdown",
   "id": "13f050bb",
   "metadata": {},
   "source": [
    "# Evaluate/create residual plots"
   ]
  },
  {
   "cell_type": "code",
   "execution_count": 22,
   "id": "f3962be6",
   "metadata": {},
   "outputs": [
    {
     "data": {
      "image/png": "[encoded data removed]",
      "text/plain": [
       "<Figure size 432x288 with 1 Axes>"
      ]
     },
     "metadata": {
      "needs_background": "light"
     },
     "output_type": "display_data"
    }
   ],
   "source": [
    "y_pred = lr.predict(X_test)\n",
    "residuals = y_test - y_pred\n",
    "\n",
    "plt.scatter(X_test, residuals)\n",
    "plt.xlabel('Input')\n",
    "plt.ylabel('Residuals')\n",
    "plt.title('Residual plot of Xlabel and Ylabel')\n",
    "plt.show()"
   ]
  },
  {
   "cell_type": "markdown",
   "id": "3e8b77c3",
   "metadata": {},
   "source": [
    "# Explain findings"
   ]
  },
  {
   "cell_type": "markdown",
   "id": "39b4771a",
   "metadata": {},
   "source": [
    "Insights from trained models and residual plots give insight into relationships between input and output variables. The residual plot should show a random distribution of residuals around zero, indicating that the model is making unbiased predictions.\n",
    "\n",
    "If the residual plot shows a clear pattern or trend (such as a curved shape or rising/falling residuals), this indicates that the model is not capturing all the relevant information in the data Indicates possible overfitting. In this case, you should either gather more data to better the model's performance or modify the model's parameters (such as adding a polynomial term or regularization).\n",
    "\n",
    "In conclusion, by carrying out the aforementioned stages, you can train and test a linear regression model on the supplied data to learn more about the relationship between the input and output variables."
   ]
  },
  {
   "cell_type": "markdown",
   "id": "dfe9c959",
   "metadata": {},
   "source": [
    "References:"
   ]
  },
  {
   "cell_type": "markdown",
   "id": "2ba0f5e8",
   "metadata": {},
   "source": [
    "https://www.freecodecamp.org/news/how-to-build-and-train-linear-and-logistic-regression-ml-models-in-python/"
   ]
  },
  {
   "cell_type": "code",
   "execution_count": null,
   "id": "b94f276b",
   "metadata": {},
   "outputs": [],
   "source": []
  }
 ],
 "metadata": {
  "colab": {
   "provenance": []
  },
  "kernelspec": {
   "display_name": "Python 3 (ipykernel)",
   "language": "python",
   "name": "python3"
  },
  "language_info": {
   "codemirror_mode": {
    "name": "ipython",
    "version": 3
   },
   "file_extension": ".py",
   "mimetype": "text/x-python",
   "name": "python",
   "nbconvert_exporter": "python",
   "pygments_lexer": "ipython3",
   "version": "3.9.12"
  },
  "toc": {
   "base_numbering": 1,
   "nav_menu": {},
   "number_sections": false,
   "sideBar": true,
   "skip_h1_title": false,
   "title_cell": "Table of Contents",
   "title_sidebar": "Contents",
   "toc_cell": false,
   "toc_position": {},
   "toc_section_display": true,
   "toc_window_display": false
  }
 },
 "nbformat": 4,
 "nbformat_minor": 5
}
