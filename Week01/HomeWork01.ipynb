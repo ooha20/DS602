{
 "cells": [
  {
   "cell_type": "markdown",
   "id": "50276363",
   "metadata": {},
   "source": [
    "# Homework\n",
    "\n",
    "Data documentation: https://tidyr.tidyverse.org/reference/who.html\n",
    "\n",
    "Directions: Answer the three questions below. Create as many code/markdown blocks necessary to answer the questions."
   ]
  },
  {
   "cell_type": "code",
   "execution_count": 159,
   "id": "441b71c6",
   "metadata": {},
   "outputs": [],
   "source": [
    "import pandas as pd\n",
    "import numpy as np\n",
    "import matplotlib.pyplot as plt\n",
    "%matplotlib inline\n",
    "import seaborn as sns\n",
    "\n",
    "df = pd.read_csv('https://raw.githubusercontent.com/msaricaumbc/DS_data/master/ds602/who.csv')"
   ]
  },
  {
   "cell_type": "code",
   "execution_count": 160,
   "id": "74dd46e6",
   "metadata": {},
   "outputs": [
    {
     "data": {
      "text/html": [
       "<div>\n",
       "<style scoped>\n",
       "    .dataframe tbody tr th:only-of-type {\n",
       "        vertical-align: middle;\n",
       "    }\n",
       "\n",
       "    .dataframe tbody tr th {\n",
       "        vertical-align: top;\n",
       "    }\n",
       "\n",
       "    .dataframe thead th {\n",
       "        text-align: right;\n",
       "    }\n",
       "</style>\n",
       "<table border=\"1\" class=\"dataframe\">\n",
       "  <thead>\n",
       "    <tr style=\"text-align: right;\">\n",
       "      <th></th>\n",
       "      <th>country</th>\n",
       "      <th>iso2</th>\n",
       "      <th>iso3</th>\n",
       "      <th>year</th>\n",
       "      <th>new_sp_m014</th>\n",
       "      <th>new_sp_m1524</th>\n",
       "      <th>new_sp_m2534</th>\n",
       "      <th>new_sp_m3544</th>\n",
       "      <th>new_sp_m4554</th>\n",
       "      <th>new_sp_m5564</th>\n",
       "      <th>...</th>\n",
       "      <th>newrel_m4554</th>\n",
       "      <th>newrel_m5564</th>\n",
       "      <th>newrel_m65</th>\n",
       "      <th>newrel_f014</th>\n",
       "      <th>newrel_f1524</th>\n",
       "      <th>newrel_f2534</th>\n",
       "      <th>newrel_f3544</th>\n",
       "      <th>newrel_f4554</th>\n",
       "      <th>newrel_f5564</th>\n",
       "      <th>newrel_f65</th>\n",
       "    </tr>\n",
       "  </thead>\n",
       "  <tbody>\n",
       "    <tr>\n",
       "      <th>0</th>\n",
       "      <td>Afghanistan</td>\n",
       "      <td>AF</td>\n",
       "      <td>AFG</td>\n",
       "      <td>1980</td>\n",
       "      <td>NaN</td>\n",
       "      <td>NaN</td>\n",
       "      <td>NaN</td>\n",
       "      <td>NaN</td>\n",
       "      <td>NaN</td>\n",
       "      <td>NaN</td>\n",
       "      <td>...</td>\n",
       "      <td>NaN</td>\n",
       "      <td>NaN</td>\n",
       "      <td>NaN</td>\n",
       "      <td>NaN</td>\n",
       "      <td>NaN</td>\n",
       "      <td>NaN</td>\n",
       "      <td>NaN</td>\n",
       "      <td>NaN</td>\n",
       "      <td>NaN</td>\n",
       "      <td>NaN</td>\n",
       "    </tr>\n",
       "    <tr>\n",
       "      <th>1</th>\n",
       "      <td>Afghanistan</td>\n",
       "      <td>AF</td>\n",
       "      <td>AFG</td>\n",
       "      <td>1981</td>\n",
       "      <td>NaN</td>\n",
       "      <td>NaN</td>\n",
       "      <td>NaN</td>\n",
       "      <td>NaN</td>\n",
       "      <td>NaN</td>\n",
       "      <td>NaN</td>\n",
       "      <td>...</td>\n",
       "      <td>NaN</td>\n",
       "      <td>NaN</td>\n",
       "      <td>NaN</td>\n",
       "      <td>NaN</td>\n",
       "      <td>NaN</td>\n",
       "      <td>NaN</td>\n",
       "      <td>NaN</td>\n",
       "      <td>NaN</td>\n",
       "      <td>NaN</td>\n",
       "      <td>NaN</td>\n",
       "    </tr>\n",
       "    <tr>\n",
       "      <th>2</th>\n",
       "      <td>Afghanistan</td>\n",
       "      <td>AF</td>\n",
       "      <td>AFG</td>\n",
       "      <td>1982</td>\n",
       "      <td>NaN</td>\n",
       "      <td>NaN</td>\n",
       "      <td>NaN</td>\n",
       "      <td>NaN</td>\n",
       "      <td>NaN</td>\n",
       "      <td>NaN</td>\n",
       "      <td>...</td>\n",
       "      <td>NaN</td>\n",
       "      <td>NaN</td>\n",
       "      <td>NaN</td>\n",
       "      <td>NaN</td>\n",
       "      <td>NaN</td>\n",
       "      <td>NaN</td>\n",
       "      <td>NaN</td>\n",
       "      <td>NaN</td>\n",
       "      <td>NaN</td>\n",
       "      <td>NaN</td>\n",
       "    </tr>\n",
       "    <tr>\n",
       "      <th>3</th>\n",
       "      <td>Afghanistan</td>\n",
       "      <td>AF</td>\n",
       "      <td>AFG</td>\n",
       "      <td>1983</td>\n",
       "      <td>NaN</td>\n",
       "      <td>NaN</td>\n",
       "      <td>NaN</td>\n",
       "      <td>NaN</td>\n",
       "      <td>NaN</td>\n",
       "      <td>NaN</td>\n",
       "      <td>...</td>\n",
       "      <td>NaN</td>\n",
       "      <td>NaN</td>\n",
       "      <td>NaN</td>\n",
       "      <td>NaN</td>\n",
       "      <td>NaN</td>\n",
       "      <td>NaN</td>\n",
       "      <td>NaN</td>\n",
       "      <td>NaN</td>\n",
       "      <td>NaN</td>\n",
       "      <td>NaN</td>\n",
       "    </tr>\n",
       "    <tr>\n",
       "      <th>4</th>\n",
       "      <td>Afghanistan</td>\n",
       "      <td>AF</td>\n",
       "      <td>AFG</td>\n",
       "      <td>1984</td>\n",
       "      <td>NaN</td>\n",
       "      <td>NaN</td>\n",
       "      <td>NaN</td>\n",
       "      <td>NaN</td>\n",
       "      <td>NaN</td>\n",
       "      <td>NaN</td>\n",
       "      <td>...</td>\n",
       "      <td>NaN</td>\n",
       "      <td>NaN</td>\n",
       "      <td>NaN</td>\n",
       "      <td>NaN</td>\n",
       "      <td>NaN</td>\n",
       "      <td>NaN</td>\n",
       "      <td>NaN</td>\n",
       "      <td>NaN</td>\n",
       "      <td>NaN</td>\n",
       "      <td>NaN</td>\n",
       "    </tr>\n",
       "  </tbody>\n",
       "</table>\n",
       "<p>5 rows × 60 columns</p>\n",
       "</div>"
      ],
      "text/plain": [
       "       country iso2 iso3  year  new_sp_m014  new_sp_m1524  new_sp_m2534  \\\n",
       "0  Afghanistan   AF  AFG  1980          NaN           NaN           NaN   \n",
       "1  Afghanistan   AF  AFG  1981          NaN           NaN           NaN   \n",
       "2  Afghanistan   AF  AFG  1982          NaN           NaN           NaN   \n",
       "3  Afghanistan   AF  AFG  1983          NaN           NaN           NaN   \n",
       "4  Afghanistan   AF  AFG  1984          NaN           NaN           NaN   \n",
       "\n",
       "   new_sp_m3544  new_sp_m4554  new_sp_m5564  ...  newrel_m4554  newrel_m5564  \\\n",
       "0           NaN           NaN           NaN  ...           NaN           NaN   \n",
       "1           NaN           NaN           NaN  ...           NaN           NaN   \n",
       "2           NaN           NaN           NaN  ...           NaN           NaN   \n",
       "3           NaN           NaN           NaN  ...           NaN           NaN   \n",
       "4           NaN           NaN           NaN  ...           NaN           NaN   \n",
       "\n",
       "   newrel_m65  newrel_f014  newrel_f1524  newrel_f2534  newrel_f3544  \\\n",
       "0         NaN          NaN           NaN           NaN           NaN   \n",
       "1         NaN          NaN           NaN           NaN           NaN   \n",
       "2         NaN          NaN           NaN           NaN           NaN   \n",
       "3         NaN          NaN           NaN           NaN           NaN   \n",
       "4         NaN          NaN           NaN           NaN           NaN   \n",
       "\n",
       "   newrel_f4554  newrel_f5564  newrel_f65  \n",
       "0           NaN           NaN         NaN  \n",
       "1           NaN           NaN         NaN  \n",
       "2           NaN           NaN         NaN  \n",
       "3           NaN           NaN         NaN  \n",
       "4           NaN           NaN         NaN  \n",
       "\n",
       "[5 rows x 60 columns]"
      ]
     },
     "execution_count": 160,
     "metadata": {},
     "output_type": "execute_result"
    }
   ],
   "source": [
    "df.head()"
   ]
  },
  {
   "cell_type": "code",
   "execution_count": 161,
   "id": "fa9ec7ed",
   "metadata": {},
   "outputs": [
    {
     "name": "stdout",
     "output_type": "stream",
     "text": [
      "<class 'pandas.core.frame.DataFrame'>\n",
      "RangeIndex: 7240 entries, 0 to 7239\n",
      "Data columns (total 58 columns):\n",
      " #   Column        Non-Null Count  Dtype  \n",
      "---  ------        --------------  -----  \n",
      " 0   country       7240 non-null   object \n",
      " 1   year          7240 non-null   int64  \n",
      " 2   new_sp_m014   3173 non-null   float64\n",
      " 3   new_sp_m1524  3209 non-null   float64\n",
      " 4   new_sp_m2534  3206 non-null   float64\n",
      " 5   new_sp_m3544  3219 non-null   float64\n",
      " 6   new_sp_m4554  3223 non-null   float64\n",
      " 7   new_sp_m5564  3218 non-null   float64\n",
      " 8   new_sp_m65    3209 non-null   float64\n",
      " 9   new_sp_f014   3174 non-null   float64\n",
      " 10  new_sp_f1524  3194 non-null   float64\n",
      " 11  new_sp_f2534  3200 non-null   float64\n",
      " 12  new_sp_f3544  3199 non-null   float64\n",
      " 13  new_sp_f4554  3204 non-null   float64\n",
      " 14  new_sp_f5564  3195 non-null   float64\n",
      " 15  new_sp_f65    3197 non-null   float64\n",
      " 16  new_sn_m014   1045 non-null   float64\n",
      " 17  new_sn_m1524  1030 non-null   float64\n",
      " 18  new_sn_m2534  1022 non-null   float64\n",
      " 19  new_sn_m3544  1025 non-null   float64\n",
      " 20  new_sn_m4554  1027 non-null   float64\n",
      " 21  new_sn_m5564  1021 non-null   float64\n",
      " 22  new_sn_m65    1020 non-null   float64\n",
      " 23  new_sn_f014   1040 non-null   float64\n",
      " 24  new_sn_f1524  1022 non-null   float64\n",
      " 25  new_sn_f2534  1016 non-null   float64\n",
      " 26  new_sn_f3544  1020 non-null   float64\n",
      " 27  new_sn_f4554  1018 non-null   float64\n",
      " 28  new_sn_f5564  1017 non-null   float64\n",
      " 29  new_sn_f65    1019 non-null   float64\n",
      " 30  new_ep_m014   1038 non-null   float64\n",
      " 31  new_ep_m1524  1026 non-null   float64\n",
      " 32  new_ep_m2534  1020 non-null   float64\n",
      " 33  new_ep_m3544  1024 non-null   float64\n",
      " 34  new_ep_m4554  1020 non-null   float64\n",
      " 35  new_ep_m5564  1015 non-null   float64\n",
      " 36  new_ep_m65    1018 non-null   float64\n",
      " 37  new_ep_f014   1032 non-null   float64\n",
      " 38  new_ep_f1524  1021 non-null   float64\n",
      " 39  new_ep_f2534  1021 non-null   float64\n",
      " 40  new_ep_f3544  1021 non-null   float64\n",
      " 41  new_ep_f4554  1017 non-null   float64\n",
      " 42  new_ep_f5564  1017 non-null   float64\n",
      " 43  new_ep_f65    1014 non-null   float64\n",
      " 44  newrel_m014   190 non-null    float64\n",
      " 45  newrel_m1524  182 non-null    float64\n",
      " 46  newrel_m2534  183 non-null    float64\n",
      " 47  newrel_m3544  184 non-null    float64\n",
      " 48  newrel_m4554  184 non-null    float64\n",
      " 49  newrel_m5564  185 non-null    float64\n",
      " 50  newrel_m65    182 non-null    float64\n",
      " 51  newrel_f014   190 non-null    float64\n",
      " 52  newrel_f1524  184 non-null    float64\n",
      " 53  newrel_f2534  182 non-null    float64\n",
      " 54  newrel_f3544  183 non-null    float64\n",
      " 55  newrel_f4554  183 non-null    float64\n",
      " 56  newrel_f5564  183 non-null    float64\n",
      " 57  newrel_f65    185 non-null    float64\n",
      "dtypes: float64(56), int64(1), object(1)\n",
      "memory usage: 3.2+ MB\n"
     ]
    }
   ],
   "source": [
    "df = df.drop(columns=['iso2', 'iso3'])\n",
    "df.info()"
   ]
  },
  {
   "cell_type": "code",
   "execution_count": 162,
   "id": "37b8d439",
   "metadata": {},
   "outputs": [
    {
     "data": {
      "text/plain": [
       "(7240, 58)"
      ]
     },
     "execution_count": 162,
     "metadata": {},
     "output_type": "execute_result"
    }
   ],
   "source": [
    "df.shape"
   ]
  },
  {
   "cell_type": "markdown",
   "id": "c83d9780",
   "metadata": {},
   "source": [
    "# Question 1. We need to know what's included in this data.\n",
    "\n",
    "* How many countries are present?\n",
    "\n",
    "* What's the timespan of the data?\n",
    "\n",
    "* Does each country have a row for every year present?\n",
    "\n",
    "* Which countries are missing years?\n",
    "\n",
    "* How many rows have at least 1 non-null values across the columns 3-57?"
   ]
  },
  {
   "cell_type": "code",
   "execution_count": 163,
   "id": "36797b52",
   "metadata": {},
   "outputs": [],
   "source": [
    "unique_countries = df.country.nunique()"
   ]
  },
  {
   "cell_type": "markdown",
   "id": "8475fd30",
   "metadata": {},
   "source": [
    "The above code gives the different country names in the country column"
   ]
  },
  {
   "cell_type": "code",
   "execution_count": 164,
   "id": "e4371302",
   "metadata": {},
   "outputs": [
    {
     "data": {
      "text/plain": [
       "219"
      ]
     },
     "execution_count": 164,
     "metadata": {},
     "output_type": "execute_result"
    }
   ],
   "source": [
    "unique_countries"
   ]
  },
  {
   "cell_type": "markdown",
   "id": "18ecd1a8",
   "metadata": {},
   "source": [
    "There are 219 different countries in the data"
   ]
  },
  {
   "cell_type": "code",
   "execution_count": 165,
   "id": "a226bbe1",
   "metadata": {},
   "outputs": [
    {
     "name": "stdout",
     "output_type": "stream",
     "text": [
      "The timespan is: 34\n"
     ]
    }
   ],
   "source": [
    "timespan = df['year'].max() - df['year'].min() + 1\n",
    "print(\"The timespan is:\", timespan)"
   ]
  },
  {
   "cell_type": "markdown",
   "id": "bb7f377c",
   "metadata": {},
   "source": [
    "timespan is the year which the data is started and the year ended. therefore time span is 34 years"
   ]
  },
  {
   "cell_type": "code",
   "execution_count": null,
   "id": "1dd77aaa",
   "metadata": {},
   "outputs": [],
   "source": []
  },
  {
   "cell_type": "code",
   "execution_count": 166,
   "id": "e530fec3",
   "metadata": {},
   "outputs": [
    {
     "data": {
      "text/plain": [
       "Afghanistan                          34\n",
       "Netherlands                          34\n",
       "New Zealand                          34\n",
       "Nicaragua                            34\n",
       "Niger                                34\n",
       "                                     ..\n",
       "Serbia                                9\n",
       "Curacao                               4\n",
       "Bonaire, Saint Eustatius and Saba     4\n",
       "Sint Maarten (Dutch part)             4\n",
       "South Sudan                           3\n",
       "Name: country, Length: 219, dtype: int64"
      ]
     },
     "execution_count": 166,
     "metadata": {},
     "output_type": "execute_result"
    }
   ],
   "source": [
    "df['country'].value_counts()"
   ]
  },
  {
   "cell_type": "markdown",
   "id": "d7b90b21",
   "metadata": {},
   "source": [
    "from above output we know that time span is 34 years but few countries have count less than 34 . So, there are countries missing years in the rows."
   ]
  },
  {
   "cell_type": "code",
   "execution_count": 167,
   "id": "998841a0",
   "metadata": {},
   "outputs": [],
   "source": [
    "years = df.groupby(by='year')['country'].unique().reset_index()"
   ]
  },
  {
   "cell_type": "code",
   "execution_count": 168,
   "id": "7a3522ac",
   "metadata": {},
   "outputs": [],
   "source": [
    "c=dict()\n",
    "for index, row in years.iterrows():\n",
    "    for i in row[\"country\"] :\n",
    "        if i in c.keys() :\n",
    "            c[i] = c[i] + 1\n",
    "        else :\n",
    "            c[i] = 1 "
   ]
  },
  {
   "cell_type": "markdown",
   "id": "37a33971",
   "metadata": {},
   "source": [
    "The above code creates a dictionary named c which stores the frequency of each country."
   ]
  },
  {
   "cell_type": "code",
   "execution_count": 169,
   "id": "11d7c4f1",
   "metadata": {},
   "outputs": [],
   "source": [
    "years1 = pd.DataFrame.from_dict(c.items())\n",
    "years1.columns = ['Country', 'Count']"
   ]
  },
  {
   "cell_type": "code",
   "execution_count": 170,
   "id": "1f7690af",
   "metadata": {},
   "outputs": [
    {
     "data": {
      "text/html": [
       "<div>\n",
       "<style scoped>\n",
       "    .dataframe tbody tr th:only-of-type {\n",
       "        vertical-align: middle;\n",
       "    }\n",
       "\n",
       "    .dataframe tbody tr th {\n",
       "        vertical-align: top;\n",
       "    }\n",
       "\n",
       "    .dataframe thead th {\n",
       "        text-align: right;\n",
       "    }\n",
       "</style>\n",
       "<table border=\"1\" class=\"dataframe\">\n",
       "  <thead>\n",
       "    <tr style=\"text-align: right;\">\n",
       "      <th></th>\n",
       "      <th>Country</th>\n",
       "      <th>Count</th>\n",
       "    </tr>\n",
       "  </thead>\n",
       "  <tbody>\n",
       "    <tr>\n",
       "      <th>132</th>\n",
       "      <td>Netherlands Antilles</td>\n",
       "      <td>30</td>\n",
       "    </tr>\n",
       "    <tr>\n",
       "      <th>166</th>\n",
       "      <td>Serbia &amp; Montenegro</td>\n",
       "      <td>25</td>\n",
       "    </tr>\n",
       "    <tr>\n",
       "      <th>212</th>\n",
       "      <td>Timor-Leste</td>\n",
       "      <td>12</td>\n",
       "    </tr>\n",
       "    <tr>\n",
       "      <th>213</th>\n",
       "      <td>Montenegro</td>\n",
       "      <td>9</td>\n",
       "    </tr>\n",
       "    <tr>\n",
       "      <th>214</th>\n",
       "      <td>Serbia</td>\n",
       "      <td>9</td>\n",
       "    </tr>\n",
       "    <tr>\n",
       "      <th>215</th>\n",
       "      <td>Bonaire, Saint Eustatius and Saba</td>\n",
       "      <td>4</td>\n",
       "    </tr>\n",
       "    <tr>\n",
       "      <th>216</th>\n",
       "      <td>Curacao</td>\n",
       "      <td>4</td>\n",
       "    </tr>\n",
       "    <tr>\n",
       "      <th>217</th>\n",
       "      <td>Sint Maarten (Dutch part)</td>\n",
       "      <td>4</td>\n",
       "    </tr>\n",
       "    <tr>\n",
       "      <th>218</th>\n",
       "      <td>South Sudan</td>\n",
       "      <td>3</td>\n",
       "    </tr>\n",
       "  </tbody>\n",
       "</table>\n",
       "</div>"
      ],
      "text/plain": [
       "                               Country  Count\n",
       "132               Netherlands Antilles     30\n",
       "166                Serbia & Montenegro     25\n",
       "212                        Timor-Leste     12\n",
       "213                         Montenegro      9\n",
       "214                             Serbia      9\n",
       "215  Bonaire, Saint Eustatius and Saba      4\n",
       "216                            Curacao      4\n",
       "217          Sint Maarten (Dutch part)      4\n",
       "218                        South Sudan      3"
      ]
     },
     "execution_count": 170,
     "metadata": {},
     "output_type": "execute_result"
    }
   ],
   "source": [
    "years1[years1['Count'] < timespan]"
   ]
  },
  {
   "cell_type": "markdown",
   "id": "d6eaa7c2",
   "metadata": {},
   "source": [
    "Here if the dataframe of years1 which has column count has some countries less than timespan i.e 34 years then those countries are missing some years.\n",
    "There are 9 countries which has missing years."
   ]
  },
  {
   "cell_type": "code",
   "execution_count": 171,
   "id": "aa9e682b",
   "metadata": {},
   "outputs": [
    {
     "data": {
      "text/plain": [
       "(3484, 55)"
      ]
     },
     "execution_count": 171,
     "metadata": {},
     "output_type": "execute_result"
    }
   ],
   "source": [
    "df1=df.iloc[:,3:58].dropna(thresh = 1)\n",
    "df1.shape"
   ]
  },
  {
   "cell_type": "code",
   "execution_count": 172,
   "id": "995f01b6",
   "metadata": {},
   "outputs": [
    {
     "data": {
      "text/plain": [
       "0"
      ]
     },
     "execution_count": 172,
     "metadata": {},
     "output_type": "execute_result"
    }
   ],
   "source": [
    "len(df.iloc[:,3:58].dropna())"
   ]
  },
  {
   "cell_type": "markdown",
   "id": "2dc2a141",
   "metadata": {},
   "source": [
    "Deleting the null valued rown will give the non-null valued rows. From above output there are 3484 number of non-null rows."
   ]
  },
  {
   "cell_type": "markdown",
   "id": "8c21b186",
   "metadata": {},
   "source": [
    "# Question 2: Wide data isn't usually helpful.\n",
    "\n",
    "Convert this to a long format with the following columns:\n",
    "\n",
    "1. country\n",
    "\n",
    "2. year\n",
    "\n",
    "3. diagnosis method: mapping should be:\n",
    "\n",
    "   {'newsp':'Pulmonary Smear (+)'\n",
    "  \n",
    "   ,'newsn':'Pulmonary Smear (-)'\n",
    "  \n",
    "   ,'newep':'Extrapulmonary'\n",
    "  \n",
    "   ,'newrel':'Relapse'} \n",
    "   \n",
    "  \n",
    "4. gender: male or female.\n",
    "\n",
    "5. age: lower_age - higher_age, e.g., 0-14\n",
    "\n",
    "6. number of cases\n",
    "\n",
    "Note: You can use replace (https://pandas.pydata.org/docs/reference/api/pandas.DataFrame.replace.html)"
   ]
  },
  {
   "cell_type": "code",
   "execution_count": 173,
   "id": "fd696355",
   "metadata": {},
   "outputs": [],
   "source": [
    "df.columns = df.columns.str.replace('new_sp', 'Pulmonary Smear (+)')\n",
    "df.columns = df.columns.str.replace('new_sn', 'Pulmonary Smear (-)')\n",
    "df.columns = df.columns.str.replace('new_ep', 'Extrapulmonary')\n",
    "df.columns = df.columns.str.replace('newrel', 'Relapse')"
   ]
  },
  {
   "cell_type": "markdown",
   "id": "58d49b21",
   "metadata": {},
   "source": [
    "By using the reference link , replaced or renamed the columns with required words as given in the question."
   ]
  },
  {
   "cell_type": "code",
   "execution_count": 174,
   "id": "64dc5c8d",
   "metadata": {},
   "outputs": [],
   "source": [
    "LongFormat  = df.melt(id_vars = ['year','country'],var_name = 'diagnosis_method', value_name = 'number of cases')"
   ]
  },
  {
   "cell_type": "code",
   "execution_count": 175,
   "id": "d6b556d2",
   "metadata": {},
   "outputs": [],
   "source": [
    "LongFormat['gender'] = ['Male' if x.split('_')[1][0] == 'm' else 'Female' for x in LongFormat['diagnosis_method']]"
   ]
  },
  {
   "cell_type": "markdown",
   "id": "0b25975c",
   "metadata": {},
   "source": [
    "By observing the data set we can define the gender by starting letter that is m or n . We use split function to know the particular position to decide the data or row belongs to male or female."
   ]
  },
  {
   "cell_type": "code",
   "execution_count": 178,
   "id": "f1722146",
   "metadata": {},
   "outputs": [],
   "source": [
    "for i in range(0,len(LongFormat.axes[0])) :\n",
    "    a = LongFormat['diagnosis_method'][i].split('_')[1];\n",
    "    if(len(a) == 4) :\n",
    "        calculatedAge = a[1] + ' - ' + a[2:]\n",
    "    elif(len(a) == 5) :\n",
    "        calculatedAge = a[1:3] + ' - ' + a[3:]\n",
    "    else :\n",
    "        calculatedAge = a[1:] + ' +'\n",
    "    LongFormat.loc[i,'Age'] = calculatedAge\n",
    "            "
   ]
  },
  {
   "cell_type": "markdown",
   "id": "e69f4373",
   "metadata": {},
   "source": [
    "Using for loop we categorise the age by using again split method and creating Age factor for each data or row."
   ]
  },
  {
   "cell_type": "code",
   "execution_count": 179,
   "id": "43591ab8",
   "metadata": {},
   "outputs": [],
   "source": [
    "LongFormat['diagnosis_method'] = [x.split('_')[0] for x in LongFormat['diagnosis_method']]"
   ]
  },
  {
   "cell_type": "code",
   "execution_count": 180,
   "id": "7a31afbf",
   "metadata": {},
   "outputs": [
    {
     "data": {
      "text/html": [
       "<div>\n",
       "<style scoped>\n",
       "    .dataframe tbody tr th:only-of-type {\n",
       "        vertical-align: middle;\n",
       "    }\n",
       "\n",
       "    .dataframe tbody tr th {\n",
       "        vertical-align: top;\n",
       "    }\n",
       "\n",
       "    .dataframe thead th {\n",
       "        text-align: right;\n",
       "    }\n",
       "</style>\n",
       "<table border=\"1\" class=\"dataframe\">\n",
       "  <thead>\n",
       "    <tr style=\"text-align: right;\">\n",
       "      <th></th>\n",
       "      <th>year</th>\n",
       "      <th>country</th>\n",
       "      <th>diagnosis_method</th>\n",
       "      <th>number of cases</th>\n",
       "      <th>gender</th>\n",
       "      <th>Age</th>\n",
       "    </tr>\n",
       "  </thead>\n",
       "  <tbody>\n",
       "    <tr>\n",
       "      <th>0</th>\n",
       "      <td>1980</td>\n",
       "      <td>Afghanistan</td>\n",
       "      <td>Pulmonary Smear (+)</td>\n",
       "      <td>NaN</td>\n",
       "      <td>Male</td>\n",
       "      <td>0 - 14</td>\n",
       "    </tr>\n",
       "    <tr>\n",
       "      <th>1</th>\n",
       "      <td>1981</td>\n",
       "      <td>Afghanistan</td>\n",
       "      <td>Pulmonary Smear (+)</td>\n",
       "      <td>NaN</td>\n",
       "      <td>Male</td>\n",
       "      <td>0 - 14</td>\n",
       "    </tr>\n",
       "    <tr>\n",
       "      <th>2</th>\n",
       "      <td>1982</td>\n",
       "      <td>Afghanistan</td>\n",
       "      <td>Pulmonary Smear (+)</td>\n",
       "      <td>NaN</td>\n",
       "      <td>Male</td>\n",
       "      <td>0 - 14</td>\n",
       "    </tr>\n",
       "    <tr>\n",
       "      <th>3</th>\n",
       "      <td>1983</td>\n",
       "      <td>Afghanistan</td>\n",
       "      <td>Pulmonary Smear (+)</td>\n",
       "      <td>NaN</td>\n",
       "      <td>Male</td>\n",
       "      <td>0 - 14</td>\n",
       "    </tr>\n",
       "    <tr>\n",
       "      <th>4</th>\n",
       "      <td>1984</td>\n",
       "      <td>Afghanistan</td>\n",
       "      <td>Pulmonary Smear (+)</td>\n",
       "      <td>NaN</td>\n",
       "      <td>Male</td>\n",
       "      <td>0 - 14</td>\n",
       "    </tr>\n",
       "  </tbody>\n",
       "</table>\n",
       "</div>"
      ],
      "text/plain": [
       "   year      country     diagnosis_method  number of cases gender     Age\n",
       "0  1980  Afghanistan  Pulmonary Smear (+)              NaN   Male  0 - 14\n",
       "1  1981  Afghanistan  Pulmonary Smear (+)              NaN   Male  0 - 14\n",
       "2  1982  Afghanistan  Pulmonary Smear (+)              NaN   Male  0 - 14\n",
       "3  1983  Afghanistan  Pulmonary Smear (+)              NaN   Male  0 - 14\n",
       "4  1984  Afghanistan  Pulmonary Smear (+)              NaN   Male  0 - 14"
      ]
     },
     "execution_count": 180,
     "metadata": {},
     "output_type": "execute_result"
    }
   ],
   "source": [
    "LongFormat.head()"
   ]
  },
  {
   "cell_type": "markdown",
   "id": "2276e0b4",
   "metadata": {},
   "source": [
    "# Question 3: Create a graph that shows when countries started to report TB cases"
   ]
  },
  {
   "cell_type": "code",
   "execution_count": 181,
   "id": "4451e0d7",
   "metadata": {},
   "outputs": [],
   "source": [
    "LongFormat = LongFormat[~LongFormat['number of cases'].isna()]\n",
    "LongFormat = LongFormat[LongFormat['number of cases'] > 0]"
   ]
  },
  {
   "cell_type": "markdown",
   "id": "e383ec04",
   "metadata": {},
   "source": [
    "Here to visualize we only take the number of cases which are least excluding 0 and null or unknown values because , we have to know the year when the countries started reporting the TB cases.In that case it is not possible if we consider the 0 or unknown valued years."
   ]
  },
  {
   "cell_type": "code",
   "execution_count": 182,
   "id": "f127ff4a",
   "metadata": {},
   "outputs": [],
   "source": [
    "TB_cases = LongFormat.groupby(by='country')['year'].min().reset_index()"
   ]
  },
  {
   "cell_type": "code",
   "execution_count": 183,
   "id": "7ddf8e0e",
   "metadata": {},
   "outputs": [
    {
     "data": {
      "text/plain": [
       "1995    130\n",
       "1996     31\n",
       "1997     17\n",
       "1999     10\n",
       "1998      6\n",
       "2000      4\n",
       "2002      3\n",
       "2011      2\n",
       "1980      2\n",
       "2003      2\n",
       "2010      2\n",
       "1994      2\n",
       "2005      2\n",
       "2006      1\n",
       "2001      1\n",
       "2009      1\n",
       "2004      1\n",
       "Name: year, dtype: int64"
      ]
     },
     "execution_count": 183,
     "metadata": {},
     "output_type": "execute_result"
    }
   ],
   "source": [
    "TB_cases['year'].value_counts()"
   ]
  },
  {
   "cell_type": "code",
   "execution_count": 184,
   "id": "80bd4401",
   "metadata": {},
   "outputs": [
    {
     "data": {
      "image/png": "[encoded data removed]",
      "text/plain": [
       "<Figure size 720x1080 with 1 Axes>"
      ]
     },
     "metadata": {
      "needs_background": "light"
     },
     "output_type": "display_data"
    }
   ],
   "source": [
    "plt.figure(figsize=(10,15))\n",
    "ax = sns.barplot(x=TB_cases['year'], y=TB_cases[:25]['country'])\n",
    "plt.title(\"TB CASES\")\n",
    "ax.tick_params(axis='x', rotation=90)\n",
    "plt.show()"
   ]
  },
  {
   "cell_type": "markdown",
   "id": "39c8ff93",
   "metadata": {},
   "source": [
    "The above is the visualization on the year when does the countries started reporting the cases."
   ]
  },
  {
   "cell_type": "markdown",
   "id": "6fc21ebe",
   "metadata": {},
   "source": [
    "References:\n",
    "https://www.geeksforgeeks.org/bar-plot-in-matplotlib/\n",
    "\n",
    "https://www.digitalocean.com/community/tutorials/pandas-melt-unmelt-pivot-function"
   ]
  },
  {
   "cell_type": "code",
   "execution_count": null,
   "id": "7e0ae173",
   "metadata": {},
   "outputs": [],
   "source": []
  }
 ],
 "metadata": {
  "kernelspec": {
   "display_name": "Python 3 (ipykernel)",
   "language": "python",
   "name": "python3"
  },
  "language_info": {
   "codemirror_mode": {
    "name": "ipython",
    "version": 3
   },
   "file_extension": ".py",
   "mimetype": "text/x-python",
   "name": "python",
   "nbconvert_exporter": "python",
   "pygments_lexer": "ipython3",
   "version": "3.9.12"
  }
 },
 "nbformat": 4,
 "nbformat_minor": 5
}
