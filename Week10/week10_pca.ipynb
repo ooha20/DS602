{
  "cells": [
    {
      "cell_type": "markdown",
      "metadata": {
        "id": "hYGr9ptvqxlE"
      },
      "source": [
        "# Week 10 - PCA and Dimension Reduction Homework\n",
        "Execute the below code and answer the following questions. __Do NOT commit the csv file!__"
      ]
    },
    {
      "cell_type": "code",
      "execution_count": 1,
      "metadata": {
        "id": "CuDxX2bbqxlI"
      },
      "outputs": [],
      "source": [
        "import pandas as pd\n",
        "import numpy as np\n",
        "import matplotlib.pyplot as plt\n",
        "%matplotlib inline\n",
        "from sklearn.datasets import make_classification\n",
        "\n",
        "def generate_data():\n",
        "    x, y = make_classification(n_samples=1500, \n",
        "                            n_features = 20,\n",
        "                            n_informative = 8,\n",
        "                            n_redundant = 5,\n",
        "                            n_repeated = 1, \n",
        "                            n_classes = 3,\n",
        "                            weights = (0.5, 0.25, 0.25),\n",
        "                            random_state = 120\n",
        "                            )\n",
        "    colNames = ['var'+str(x) for x in range(20)]\n",
        "    colNames.append('target')\n",
        "\n",
        "    df = pd.DataFrame(np.concatenate((x,y.reshape(-1,1)), axis=1), columns=colNames)\n",
        "    df.to_csv('pca-dataset.csv', index=False)\n",
        "    \n",
        "generate_data()"
      ]
    },
    {
      "cell_type": "code",
      "execution_count": 2,
      "metadata": {
        "colab": {
          "base_uri": "https://localhost:8080/",
          "height": 300
        },
        "id": "Vry3EAt4qxlK",
        "outputId": "ba4bf543-d153-460a-dd4b-283af4a148fa"
      },
      "outputs": [
        {
          "output_type": "execute_result",
          "data": {
            "text/plain": [
              "       var0      var1      var2      var3      var4      var5      var6  \\\n",
              "0 -2.882513 -3.272465 -2.520732 -1.987174 -2.073689 -3.272465 -1.237969   \n",
              "1  0.775242 -1.015994  0.005137  0.057274  0.590205 -1.015994  1.350954   \n",
              "2 -0.876376  0.220453  3.114224 -1.640025  1.180348  0.220453  0.465102   \n",
              "3 -2.550342 -1.968144  0.077681 -1.887719  1.864445 -1.968144 -0.527958   \n",
              "4 -0.454974  1.293300  0.112201 -0.589989 -1.674321  1.293300  0.487302   \n",
              "\n",
              "       var7      var8      var9  ...     var11     var12     var13     var14  \\\n",
              "0  1.690547 -0.211314 -5.753190  ... -0.574979 -1.916275 -5.994075 -3.349615   \n",
              "1 -1.493037 -0.862391 -1.986047  ...  0.523760  0.399579  0.088600  0.718606   \n",
              "2  0.222511  0.880455  2.922315  ... -0.370516  3.585262 -2.168162  2.693429   \n",
              "3 -0.201467 -0.532649  2.287445  ... -0.041341  2.383582 -0.417253  1.305379   \n",
              "4  1.776318  0.702520 -1.024127  ... -0.452869 -0.667306  0.345364 -3.920591   \n",
              "\n",
              "      var15     var16     var17     var18     var19  target  \n",
              "0 -0.846193  2.491347  1.360958 -2.892522 -1.377561     0.0  \n",
              "1 -1.112030  0.083929  0.606544 -1.376793  1.302641     2.0  \n",
              "2 -0.966636  1.586302 -2.821546  0.482164  0.187404     0.0  \n",
              "3 -0.435123 -0.468557  0.923290  3.880050  2.676798     1.0  \n",
              "4 -0.438296 -1.690141  0.176906  1.920142  1.474634     0.0  \n",
              "\n",
              "[5 rows x 21 columns]"
            ],
            "text/html": [
              "\n",
              "  <div id=\"df-250a98df-14a3-4ae6-831c-75ed864735c4\">\n",
              "    <div class=\"colab-df-container\">\n",
              "      <div>\n",
              "<style scoped>\n",
              "    .dataframe tbody tr th:only-of-type {\n",
              "        vertical-align: middle;\n",
              "    }\n",
              "\n",
              "    .dataframe tbody tr th {\n",
              "        vertical-align: top;\n",
              "    }\n",
              "\n",
              "    .dataframe thead th {\n",
              "        text-align: right;\n",
              "    }\n",
              "</style>\n",
              "<table border=\"1\" class=\"dataframe\">\n",
              "  <thead>\n",
              "    <tr style=\"text-align: right;\">\n",
              "      <th></th>\n",
              "      <th>var0</th>\n",
              "      <th>var1</th>\n",
              "      <th>var2</th>\n",
              "      <th>var3</th>\n",
              "      <th>var4</th>\n",
              "      <th>var5</th>\n",
              "      <th>var6</th>\n",
              "      <th>var7</th>\n",
              "      <th>var8</th>\n",
              "      <th>var9</th>\n",
              "      <th>...</th>\n",
              "      <th>var11</th>\n",
              "      <th>var12</th>\n",
              "      <th>var13</th>\n",
              "      <th>var14</th>\n",
              "      <th>var15</th>\n",
              "      <th>var16</th>\n",
              "      <th>var17</th>\n",
              "      <th>var18</th>\n",
              "      <th>var19</th>\n",
              "      <th>target</th>\n",
              "    </tr>\n",
              "  </thead>\n",
              "  <tbody>\n",
              "    <tr>\n",
              "      <th>0</th>\n",
              "      <td>-2.882513</td>\n",
              "      <td>-3.272465</td>\n",
              "      <td>-2.520732</td>\n",
              "      <td>-1.987174</td>\n",
              "      <td>-2.073689</td>\n",
              "      <td>-3.272465</td>\n",
              "      <td>-1.237969</td>\n",
              "      <td>1.690547</td>\n",
              "      <td>-0.211314</td>\n",
              "      <td>-5.753190</td>\n",
              "      <td>...</td>\n",
              "      <td>-0.574979</td>\n",
              "      <td>-1.916275</td>\n",
              "      <td>-5.994075</td>\n",
              "      <td>-3.349615</td>\n",
              "      <td>-0.846193</td>\n",
              "      <td>2.491347</td>\n",
              "      <td>1.360958</td>\n",
              "      <td>-2.892522</td>\n",
              "      <td>-1.377561</td>\n",
              "      <td>0.0</td>\n",
              "    </tr>\n",
              "    <tr>\n",
              "      <th>1</th>\n",
              "      <td>0.775242</td>\n",
              "      <td>-1.015994</td>\n",
              "      <td>0.005137</td>\n",
              "      <td>0.057274</td>\n",
              "      <td>0.590205</td>\n",
              "      <td>-1.015994</td>\n",
              "      <td>1.350954</td>\n",
              "      <td>-1.493037</td>\n",
              "      <td>-0.862391</td>\n",
              "      <td>-1.986047</td>\n",
              "      <td>...</td>\n",
              "      <td>0.523760</td>\n",
              "      <td>0.399579</td>\n",
              "      <td>0.088600</td>\n",
              "      <td>0.718606</td>\n",
              "      <td>-1.112030</td>\n",
              "      <td>0.083929</td>\n",
              "      <td>0.606544</td>\n",
              "      <td>-1.376793</td>\n",
              "      <td>1.302641</td>\n",
              "      <td>2.0</td>\n",
              "    </tr>\n",
              "    <tr>\n",
              "      <th>2</th>\n",
              "      <td>-0.876376</td>\n",
              "      <td>0.220453</td>\n",
              "      <td>3.114224</td>\n",
              "      <td>-1.640025</td>\n",
              "      <td>1.180348</td>\n",
              "      <td>0.220453</td>\n",
              "      <td>0.465102</td>\n",
              "      <td>0.222511</td>\n",
              "      <td>0.880455</td>\n",
              "      <td>2.922315</td>\n",
              "      <td>...</td>\n",
              "      <td>-0.370516</td>\n",
              "      <td>3.585262</td>\n",
              "      <td>-2.168162</td>\n",
              "      <td>2.693429</td>\n",
              "      <td>-0.966636</td>\n",
              "      <td>1.586302</td>\n",
              "      <td>-2.821546</td>\n",
              "      <td>0.482164</td>\n",
              "      <td>0.187404</td>\n",
              "      <td>0.0</td>\n",
              "    </tr>\n",
              "    <tr>\n",
              "      <th>3</th>\n",
              "      <td>-2.550342</td>\n",
              "      <td>-1.968144</td>\n",
              "      <td>0.077681</td>\n",
              "      <td>-1.887719</td>\n",
              "      <td>1.864445</td>\n",
              "      <td>-1.968144</td>\n",
              "      <td>-0.527958</td>\n",
              "      <td>-0.201467</td>\n",
              "      <td>-0.532649</td>\n",
              "      <td>2.287445</td>\n",
              "      <td>...</td>\n",
              "      <td>-0.041341</td>\n",
              "      <td>2.383582</td>\n",
              "      <td>-0.417253</td>\n",
              "      <td>1.305379</td>\n",
              "      <td>-0.435123</td>\n",
              "      <td>-0.468557</td>\n",
              "      <td>0.923290</td>\n",
              "      <td>3.880050</td>\n",
              "      <td>2.676798</td>\n",
              "      <td>1.0</td>\n",
              "    </tr>\n",
              "    <tr>\n",
              "      <th>4</th>\n",
              "      <td>-0.454974</td>\n",
              "      <td>1.293300</td>\n",
              "      <td>0.112201</td>\n",
              "      <td>-0.589989</td>\n",
              "      <td>-1.674321</td>\n",
              "      <td>1.293300</td>\n",
              "      <td>0.487302</td>\n",
              "      <td>1.776318</td>\n",
              "      <td>0.702520</td>\n",
              "      <td>-1.024127</td>\n",
              "      <td>...</td>\n",
              "      <td>-0.452869</td>\n",
              "      <td>-0.667306</td>\n",
              "      <td>0.345364</td>\n",
              "      <td>-3.920591</td>\n",
              "      <td>-0.438296</td>\n",
              "      <td>-1.690141</td>\n",
              "      <td>0.176906</td>\n",
              "      <td>1.920142</td>\n",
              "      <td>1.474634</td>\n",
              "      <td>0.0</td>\n",
              "    </tr>\n",
              "  </tbody>\n",
              "</table>\n",
              "<p>5 rows × 21 columns</p>\n",
              "</div>\n",
              "      <button class=\"colab-df-convert\" onclick=\"convertToInteractive('df-250a98df-14a3-4ae6-831c-75ed864735c4')\"\n",
              "              title=\"Convert this dataframe to an interactive table.\"\n",
              "              style=\"display:none;\">\n",
              "        \n",
              "  <svg xmlns=\"http://www.w3.org/2000/svg\" height=\"24px\"viewBox=\"0 0 24 24\"\n",
              "       width=\"24px\">\n",
              "    <path d=\"M0 0h24v24H0V0z\" fill=\"none\"/>\n",
              "    <path d=\"M18.56 5.44l.94 2.06.94-2.06 2.06-.94-2.06-.94-.94-2.06-.94 2.06-2.06.94zm-11 1L8.5 8.5l.94-2.06 2.06-.94-2.06-.94L8.5 2.5l-.94 2.06-2.06.94zm10 10l.94 2.06.94-2.06 2.06-.94-2.06-.94-.94-2.06-.94 2.06-2.06.94z\"/><path d=\"M17.41 7.96l-1.37-1.37c-.4-.4-.92-.59-1.43-.59-.52 0-1.04.2-1.43.59L10.3 9.45l-7.72 7.72c-.78.78-.78 2.05 0 2.83L4 21.41c.39.39.9.59 1.41.59.51 0 1.02-.2 1.41-.59l7.78-7.78 2.81-2.81c.8-.78.8-2.07 0-2.86zM5.41 20L4 18.59l7.72-7.72 1.47 1.35L5.41 20z\"/>\n",
              "  </svg>\n",
              "      </button>\n",
              "      \n",
              "  <style>\n",
              "    .colab-df-container {\n",
              "      display:flex;\n",
              "      flex-wrap:wrap;\n",
              "      gap: 12px;\n",
              "    }\n",
              "\n",
              "    .colab-df-convert {\n",
              "      background-color: #E8F0FE;\n",
              "      border: none;\n",
              "      border-radius: 50%;\n",
              "      cursor: pointer;\n",
              "      display: none;\n",
              "      fill: #1967D2;\n",
              "      height: 32px;\n",
              "      padding: 0 0 0 0;\n",
              "      width: 32px;\n",
              "    }\n",
              "\n",
              "    .colab-df-convert:hover {\n",
              "      background-color: #E2EBFA;\n",
              "      box-shadow: 0px 1px 2px rgba(60, 64, 67, 0.3), 0px 1px 3px 1px rgba(60, 64, 67, 0.15);\n",
              "      fill: #174EA6;\n",
              "    }\n",
              "\n",
              "    [theme=dark] .colab-df-convert {\n",
              "      background-color: #3B4455;\n",
              "      fill: #D2E3FC;\n",
              "    }\n",
              "\n",
              "    [theme=dark] .colab-df-convert:hover {\n",
              "      background-color: #434B5C;\n",
              "      box-shadow: 0px 1px 3px 1px rgba(0, 0, 0, 0.15);\n",
              "      filter: drop-shadow(0px 1px 2px rgba(0, 0, 0, 0.3));\n",
              "      fill: #FFFFFF;\n",
              "    }\n",
              "  </style>\n",
              "\n",
              "      <script>\n",
              "        const buttonEl =\n",
              "          document.querySelector('#df-250a98df-14a3-4ae6-831c-75ed864735c4 button.colab-df-convert');\n",
              "        buttonEl.style.display =\n",
              "          google.colab.kernel.accessAllowed ? 'block' : 'none';\n",
              "\n",
              "        async function convertToInteractive(key) {\n",
              "          const element = document.querySelector('#df-250a98df-14a3-4ae6-831c-75ed864735c4');\n",
              "          const dataTable =\n",
              "            await google.colab.kernel.invokeFunction('convertToInteractive',\n",
              "                                                     [key], {});\n",
              "          if (!dataTable) return;\n",
              "\n",
              "          const docLinkHtml = 'Like what you see? Visit the ' +\n",
              "            '<a target=\"_blank\" href=https://colab.research.google.com/notebooks/data_table.ipynb>data table notebook</a>'\n",
              "            + ' to learn more about interactive tables.';\n",
              "          element.innerHTML = '';\n",
              "          dataTable['output_type'] = 'display_data';\n",
              "          await google.colab.output.renderOutput(dataTable, element);\n",
              "          const docLink = document.createElement('div');\n",
              "          docLink.innerHTML = docLinkHtml;\n",
              "          element.appendChild(docLink);\n",
              "        }\n",
              "      </script>\n",
              "    </div>\n",
              "  </div>\n",
              "  "
            ]
          },
          "metadata": {},
          "execution_count": 2
        }
      ],
      "source": [
        "import pandas as pd\n",
        "import matplotlib.pyplot as plt\n",
        "%matplotlib inline\n",
        "import numpy as np\n",
        "\n",
        "df = pd.read_csv('pca-dataset.csv')\n",
        "df.head()"
      ]
    },
    {
      "cell_type": "code",
      "execution_count": 3,
      "metadata": {
        "colab": {
          "base_uri": "https://localhost:8080/"
        },
        "id": "Lq4JkuC1qxlL",
        "outputId": "c3c7d45a-c70a-44a6-c829-9d278189ae93"
      },
      "outputs": [
        {
          "output_type": "stream",
          "name": "stdout",
          "text": [
            "<class 'pandas.core.frame.DataFrame'>\n",
            "RangeIndex: 1500 entries, 0 to 1499\n",
            "Data columns (total 21 columns):\n",
            " #   Column  Non-Null Count  Dtype  \n",
            "---  ------  --------------  -----  \n",
            " 0   var0    1500 non-null   float64\n",
            " 1   var1    1500 non-null   float64\n",
            " 2   var2    1500 non-null   float64\n",
            " 3   var3    1500 non-null   float64\n",
            " 4   var4    1500 non-null   float64\n",
            " 5   var5    1500 non-null   float64\n",
            " 6   var6    1500 non-null   float64\n",
            " 7   var7    1500 non-null   float64\n",
            " 8   var8    1500 non-null   float64\n",
            " 9   var9    1500 non-null   float64\n",
            " 10  var10   1500 non-null   float64\n",
            " 11  var11   1500 non-null   float64\n",
            " 12  var12   1500 non-null   float64\n",
            " 13  var13   1500 non-null   float64\n",
            " 14  var14   1500 non-null   float64\n",
            " 15  var15   1500 non-null   float64\n",
            " 16  var16   1500 non-null   float64\n",
            " 17  var17   1500 non-null   float64\n",
            " 18  var18   1500 non-null   float64\n",
            " 19  var19   1500 non-null   float64\n",
            " 20  target  1500 non-null   float64\n",
            "dtypes: float64(21)\n",
            "memory usage: 246.2 KB\n"
          ]
        }
      ],
      "source": [
        "df.info()"
      ]
    },
    {
      "cell_type": "code",
      "execution_count": 4,
      "metadata": {
        "colab": {
          "base_uri": "https://localhost:8080/"
        },
        "id": "fOB7-OfGqxlM",
        "outputId": "e3447d8b-e937-4974-f98d-fb7067ee9d99"
      },
      "outputs": [
        {
          "output_type": "stream",
          "name": "stdout",
          "text": [
            "Training samples: 1,200\n",
            "Test samples: 300\n",
            "\n",
            "Features:\n",
            "var0\tvar1\tvar2\tvar3\tvar4\tvar5\tvar6\tvar7\tvar8\tvar9\tvar10\tvar11\tvar12\tvar13\tvar14\tvar15\tvar16\tvar17\tvar18\tvar19\n"
          ]
        }
      ],
      "source": [
        "from sklearn.model_selection import train_test_split\n",
        "\n",
        "X = df[[x for x in df.columns if x.startswith('var')]]\n",
        "y = df['target']\n",
        "\n",
        "X_train, X_test, y_training, y_test = train_test_split(X, y, test_size=0.2, random_state=123)\n",
        "\n",
        "print(f'Training samples: {X_train.shape[0]:,}')\n",
        "print(f'Test samples: {X_test.shape[0]:,}')\n",
        "\n",
        "print('\\nFeatures:')\n",
        "print(*X_train, sep='\\t')"
      ]
    },
    {
      "cell_type": "markdown",
      "metadata": {
        "id": "opEyi1cSqxlM"
      },
      "source": [
        "### Data Description\n",
        "- `var1 - var19`: a feature for the data.  \n",
        "- `target`: variable we wish to be able to predict, which is 1 of 3 classes."
      ]
    },
    {
      "cell_type": "markdown",
      "metadata": {
        "id": "73QZYTyPqxlN"
      },
      "source": [
        "# Question 1\n",
        "- Use principle components analysis to determine the number of components to reduce the data to by evaluating the explained variance ratio (use `X_train`).  \n",
        "- Remember to scale the data first.  \n",
        "- What number of components would you recommend based on your analysis?  \n",
        "- Explain your results using markdown cells."
      ]
    },
    {
      "cell_type": "code",
      "execution_count": 39,
      "metadata": {
        "colab": {
          "base_uri": "https://localhost:8080/",
          "height": 410
        },
        "id": "gsxGwqTrqxlN",
        "outputId": "a00d977f-3b90-4d78-cdf5-6fc76bcb2e26"
      },
      "outputs": [
        {
          "output_type": "display_data",
          "data": {
            "text/plain": [
              "<Figure size 1000x400 with 2 Axes>"
            ],
            "image/png": "[encoded data removed]"
          },
          "metadata": {}
        }
      ],
      "source": [
        "# insert code here\n",
        "from sklearn.decomposition import PCA\n",
        "from sklearn.preprocessing import StandardScaler\n",
        "import matplotlib.pyplot as plt\n",
        "\n",
        "# Scale the data\n",
        "scaler = StandardScaler()\n",
        "X_train_scaled = scaler.fit_transform(X_train)\n",
        "\n",
        "# Fit the PCA model\n",
        "pca = PCA()\n",
        "pca.fit(X_train_scaled)\n",
        "\n",
        "# Calculate the explained variance ratio\n",
        "evr = pca.explained_variance_ratio_\n",
        "\n",
        "# Calculate the cumulative explained variance ratio\n",
        "cvr = np.cumsum(evr)\n",
        "\n",
        "# Plot the explained variance ratio and cumulative explained variance ratio\n",
        "fig, ax = plt.subplots(nrows=1, ncols=2, figsize=(10, 4))\n",
        "ax[0].bar(range(len(evr)), evr, alpha=0.5)\n",
        "ax[0].set_xlabel('Principal component')\n",
        "ax[0].set_ylabel('Explained variance ratio')\n",
        "ax[0].set_title('Explained variance ratio per principal component')\n",
        "\n",
        "ax[1].plot(cvr, lw=2)\n",
        "ax[1].set_xlabel('Principal component')\n",
        "ax[1].set_ylabel('Cumulative explained variance ratio')\n",
        "ax[1].set_title('Cumulative explained variance ratio')\n",
        "plt.show()"
      ]
    },
    {
      "cell_type": "markdown",
      "source": [
        "Cumulative Explained Variance Ratio :\n",
        "\n",
        "The x-axis represents the number of principal components and the y-axis represents the cumulative explained variance ratio.\n",
        "\n",
        "The cumulative explained variance ratio shows the amount of variance in the data that can be explained by including that many principal components.\n",
        "\n",
        "The elbow point in the graph indicates the number of components that should be included in the PCA model"
      ],
      "metadata": {
        "id": "iba324hB8bjY"
      }
    },
    {
      "cell_type": "markdown",
      "metadata": {
        "id": "Bli94G6KqxlO"
      },
      "source": [
        "# Question 2\n",
        "- Evaluate the target variable in the `df` object.  \n",
        "- Which metric would you use in evaluating a predictive model. Explain your choice in the markdown cell. "
      ]
    },
    {
      "cell_type": "code",
      "execution_count": 36,
      "metadata": {
        "colab": {
          "base_uri": "https://localhost:8080/"
        },
        "id": "ZHEq2amqqxlP",
        "outputId": "98dbe8cf-e71d-4fc8-cb5f-c95274e4f4f9"
      },
      "outputs": [
        {
          "output_type": "stream",
          "name": "stdout",
          "text": [
            "0.0    744\n",
            "2.0    380\n",
            "1.0    376\n",
            "Name: target, dtype: int64\n"
          ]
        }
      ],
      "source": [
        "# Insert code here\n",
        "tar_counts = df['target'].value_counts()\n",
        "print(tar_counts)"
      ]
    },
    {
      "cell_type": "markdown",
      "source": [
        "In evaluating a predictive model the metrics are followed as Accuracy, Precision, Recall, F1score, AUC-ROC\n",
        "\n",
        "Here my choice in predicting the model I have chosen is Accuracy."
      ],
      "metadata": {
        "id": "2cvxbHqo7SJ5"
      }
    },
    {
      "cell_type": "markdown",
      "metadata": {
        "id": "tGoB39kAqxlP"
      },
      "source": [
        "# Question 3\n",
        "- Without using PCA, create a logistic regression model using practices discussed in class.  \n",
        "- Which model would you choose? Explain your results in the markdown cells.    \n",
        "- What is the accuracy, precision, and recall for the test data?  "
      ]
    },
    {
      "cell_type": "code",
      "execution_count": 16,
      "metadata": {
        "colab": {
          "base_uri": "https://localhost:8080/"
        },
        "id": "XRr0k5qnqxlQ",
        "outputId": "e22bac32-1e55-4d60-a65e-2270c71f59a3"
      },
      "outputs": [
        {
          "output_type": "stream",
          "name": "stdout",
          "text": [
            "Confusion Matrix:\n",
            " [[117  14  22]\n",
            " [ 22  44   8]\n",
            " [ 16   7  50]]\n",
            "\n",
            "Classification Report:\n",
            "               precision    recall  f1-score   support\n",
            "\n",
            "         0.0       0.75      0.76      0.76       153\n",
            "         1.0       0.68      0.59      0.63        74\n",
            "         2.0       0.62      0.68      0.65        73\n",
            "\n",
            "    accuracy                           0.70       300\n",
            "   macro avg       0.69      0.68      0.68       300\n",
            "weighted avg       0.70      0.70      0.70       300\n",
            "\n",
            "Accuracy: 0.70\n",
            "Precision: 0.70\n",
            "Recall: 0.70\n"
          ]
        }
      ],
      "source": [
        "# Insert code here\n",
        "from sklearn.linear_model import LogisticRegression\n",
        "from sklearn.metrics import accuracy_score, precision_score, recall_score, f1_score\n",
        "from sklearn.metrics import confusion_matrix, classification_report\n",
        "\n",
        "# Create and fit logistic regression model\n",
        "lr = LogisticRegression()\n",
        "lr.fit(X_train, y_training)\n",
        "\n",
        "# Make predictions on test data\n",
        "y_prediction_lr = lr.predict(X_test)\n",
        "\n",
        "# Evaluate model performance\n",
        "accuracy = accuracy_score(y_test, y_prediction_lr)\n",
        "precision = precision_score(y_test,y_prediction_lr,average='weighted')\n",
        "recall = recall_score(y_test, y_prediction_lr,average='weighted')\n",
        "\n",
        "# Print confusion matrix and classification report\n",
        "print('Confusion Matrix:\\n', confusion_matrix(y_test, y_prediction_lr))\n",
        "print('\\nClassification Report:\\n', classification_report(y_test, y_prediction_lr))\n",
        "print(f'Accuracy: {accuracy:.2f}')\n",
        "print(f'Precision: {precision:.2f}')\n",
        "print(f'Recall: {recall:.2f}')"
      ]
    },
    {
      "cell_type": "markdown",
      "source": [
        "It is suitable to use the logistic regression model.  As a function of the input features, we are interested in modeling the probability of the positive class. The straightforward but effective approach of logistic regression can function effectively in a number of contexts and is simple to understand.\n",
        "\n",
        "Accuracy of the above model is 0.70,\n",
        "Precision is 0.70 and recall is also 0.70."
      ],
      "metadata": {
        "id": "j-__zfFzBUPa"
      }
    },
    {
      "cell_type": "markdown",
      "metadata": {
        "id": "YvepN2HRqxlR"
      },
      "source": [
        "# Question 4\n",
        "- Use PCA within a pipeline to create a logistic regression model using best practices from class.  \n",
        "- Which model performs the best on the training data? Explain your results in markdown cells.  \n",
        "- What is the accuracy, precision, and recall for the test data?\n",
        "- Does this perform better than the original logistic regression model?"
      ]
    },
    {
      "cell_type": "code",
      "execution_count": 40,
      "metadata": {
        "colab": {
          "base_uri": "https://localhost:8080/",
          "height": 184
        },
        "id": "3gcwYoE3qxlR",
        "outputId": "e45802f3-1ac6-40c0-b09f-c770c342254b"
      },
      "outputs": [
        {
          "output_type": "execute_result",
          "data": {
            "text/plain": [
              "Pipeline(steps=[('scaling', StandardScaler()), ('pca', PCA(n_components=10)),\n",
              "                ('model', LogisticRegression(C=0.1))])"
            ],
            "text/html": [
              "<style>#sk-container-id-5 {color: black;background-color: white;}#sk-container-id-5 pre{padding: 0;}#sk-container-id-5 div.sk-toggleable {background-color: white;}#sk-container-id-5 label.sk-toggleable__label {cursor: pointer;display: block;width: 100%;margin-bottom: 0;padding: 0.3em;box-sizing: border-box;text-align: center;}#sk-container-id-5 label.sk-toggleable__label-arrow:before {content: \"▸\";float: left;margin-right: 0.25em;color: #696969;}#sk-container-id-5 label.sk-toggleable__label-arrow:hover:before {color: black;}#sk-container-id-5 div.sk-estimator:hover label.sk-toggleable__label-arrow:before {color: black;}#sk-container-id-5 div.sk-toggleable__content {max-height: 0;max-width: 0;overflow: hidden;text-align: left;background-color: #f0f8ff;}#sk-container-id-5 div.sk-toggleable__content pre {margin: 0.2em;color: black;border-radius: 0.25em;background-color: #f0f8ff;}#sk-container-id-5 input.sk-toggleable__control:checked~div.sk-toggleable__content {max-height: 200px;max-width: 100%;overflow: auto;}#sk-container-id-5 input.sk-toggleable__control:checked~label.sk-toggleable__label-arrow:before {content: \"▾\";}#sk-container-id-5 div.sk-estimator input.sk-toggleable__control:checked~label.sk-toggleable__label {background-color: #d4ebff;}#sk-container-id-5 div.sk-label input.sk-toggleable__control:checked~label.sk-toggleable__label {background-color: #d4ebff;}#sk-container-id-5 input.sk-hidden--visually {border: 0;clip: rect(1px 1px 1px 1px);clip: rect(1px, 1px, 1px, 1px);height: 1px;margin: -1px;overflow: hidden;padding: 0;position: absolute;width: 1px;}#sk-container-id-5 div.sk-estimator {font-family: monospace;background-color: #f0f8ff;border: 1px dotted black;border-radius: 0.25em;box-sizing: border-box;margin-bottom: 0.5em;}#sk-container-id-5 div.sk-estimator:hover {background-color: #d4ebff;}#sk-container-id-5 div.sk-parallel-item::after {content: \"\";width: 100%;border-bottom: 1px solid gray;flex-grow: 1;}#sk-container-id-5 div.sk-label:hover label.sk-toggleable__label {background-color: #d4ebff;}#sk-container-id-5 div.sk-serial::before {content: \"\";position: absolute;border-left: 1px solid gray;box-sizing: border-box;top: 0;bottom: 0;left: 50%;z-index: 0;}#sk-container-id-5 div.sk-serial {display: flex;flex-direction: column;align-items: center;background-color: white;padding-right: 0.2em;padding-left: 0.2em;position: relative;}#sk-container-id-5 div.sk-item {position: relative;z-index: 1;}#sk-container-id-5 div.sk-parallel {display: flex;align-items: stretch;justify-content: center;background-color: white;position: relative;}#sk-container-id-5 div.sk-item::before, #sk-container-id-5 div.sk-parallel-item::before {content: \"\";position: absolute;border-left: 1px solid gray;box-sizing: border-box;top: 0;bottom: 0;left: 50%;z-index: -1;}#sk-container-id-5 div.sk-parallel-item {display: flex;flex-direction: column;z-index: 1;position: relative;background-color: white;}#sk-container-id-5 div.sk-parallel-item:first-child::after {align-self: flex-end;width: 50%;}#sk-container-id-5 div.sk-parallel-item:last-child::after {align-self: flex-start;width: 50%;}#sk-container-id-5 div.sk-parallel-item:only-child::after {width: 0;}#sk-container-id-5 div.sk-dashed-wrapped {border: 1px dashed gray;margin: 0 0.4em 0.5em 0.4em;box-sizing: border-box;padding-bottom: 0.4em;background-color: white;}#sk-container-id-5 div.sk-label label {font-family: monospace;font-weight: bold;display: inline-block;line-height: 1.2em;}#sk-container-id-5 div.sk-label-container {text-align: center;}#sk-container-id-5 div.sk-container {/* jupyter's `normalize.less` sets `[hidden] { display: none; }` but bootstrap.min.css set `[hidden] { display: none !important; }` so we also need the `!important` here to be able to override the default hidden behavior on the sphinx rendered scikit-learn.org. See: https://github.com/scikit-learn/scikit-learn/issues/21755 */display: inline-block !important;position: relative;}#sk-container-id-5 div.sk-text-repr-fallback {display: none;}</style><div id=\"sk-container-id-5\" class=\"sk-top-container\"><div class=\"sk-text-repr-fallback\"><pre>Pipeline(steps=[(&#x27;scaling&#x27;, StandardScaler()), (&#x27;pca&#x27;, PCA(n_components=10)),\n",
              "                (&#x27;model&#x27;, LogisticRegression(C=0.1))])</pre><b>In a Jupyter environment, please rerun this cell to show the HTML representation or trust the notebook. <br />On GitHub, the HTML representation is unable to render, please try loading this page with nbviewer.org.</b></div><div class=\"sk-container\" hidden><div class=\"sk-item sk-dashed-wrapped\"><div class=\"sk-label-container\"><div class=\"sk-label sk-toggleable\"><input class=\"sk-toggleable__control sk-hidden--visually\" id=\"sk-estimator-id-17\" type=\"checkbox\" ><label for=\"sk-estimator-id-17\" class=\"sk-toggleable__label sk-toggleable__label-arrow\">Pipeline</label><div class=\"sk-toggleable__content\"><pre>Pipeline(steps=[(&#x27;scaling&#x27;, StandardScaler()), (&#x27;pca&#x27;, PCA(n_components=10)),\n",
              "                (&#x27;model&#x27;, LogisticRegression(C=0.1))])</pre></div></div></div><div class=\"sk-serial\"><div class=\"sk-item\"><div class=\"sk-estimator sk-toggleable\"><input class=\"sk-toggleable__control sk-hidden--visually\" id=\"sk-estimator-id-18\" type=\"checkbox\" ><label for=\"sk-estimator-id-18\" class=\"sk-toggleable__label sk-toggleable__label-arrow\">StandardScaler</label><div class=\"sk-toggleable__content\"><pre>StandardScaler()</pre></div></div></div><div class=\"sk-item\"><div class=\"sk-estimator sk-toggleable\"><input class=\"sk-toggleable__control sk-hidden--visually\" id=\"sk-estimator-id-19\" type=\"checkbox\" ><label for=\"sk-estimator-id-19\" class=\"sk-toggleable__label sk-toggleable__label-arrow\">PCA</label><div class=\"sk-toggleable__content\"><pre>PCA(n_components=10)</pre></div></div></div><div class=\"sk-item\"><div class=\"sk-estimator sk-toggleable\"><input class=\"sk-toggleable__control sk-hidden--visually\" id=\"sk-estimator-id-20\" type=\"checkbox\" ><label for=\"sk-estimator-id-20\" class=\"sk-toggleable__label sk-toggleable__label-arrow\">LogisticRegression</label><div class=\"sk-toggleable__content\"><pre>LogisticRegression(C=0.1)</pre></div></div></div></div></div></div></div>"
            ]
          },
          "metadata": {},
          "execution_count": 40
        }
      ],
      "source": [
        "# Insert code\n",
        "from sklearn.pipeline import Pipeline\n",
        "from sklearn.model_selection import GridSearchCV\n",
        "\n",
        "pl = Pipeline([('scaling', StandardScaler()), \n",
        "              ('pca', PCA()),\n",
        "              ('model', LogisticRegression())\n",
        "             ])\n",
        "\n",
        "params = {'model__C': [0.01, 0.1, 1, 10], 'pca__n_components': [1, 2, 3, 4, 5, 6, 7, 8, 9, 10]}\n",
        "\n",
        "pl_lr = GridSearchCV(pl, param_grid=params, scoring='accuracy', cv=10, refit=True)\n",
        "pl_lr = pl_lr.fit(X_train, y_training)\n",
        "\n",
        "pl_lr.best_estimator_\n",
        "\n"
      ]
    },
    {
      "cell_type": "code",
      "source": [
        "print(f'Validation score: {pl_lr.best_score_:.2%}')\n",
        "print(f'Test score: {pl_lr.score(X_test, y_test):.2%}')"
      ],
      "metadata": {
        "colab": {
          "base_uri": "https://localhost:8080/"
        },
        "id": "c-yWh6pD2jcW",
        "outputId": "956c2b35-0408-4937-bdb9-eff7e6004c07"
      },
      "execution_count": 41,
      "outputs": [
        {
          "output_type": "stream",
          "name": "stdout",
          "text": [
            "Validation score: 71.17%\n",
            "Test score: 68.67%\n"
          ]
        }
      ]
    },
    {
      "cell_type": "code",
      "source": [
        "# Fit pipeline on training data\n",
        "pl.fit(X_train, y_training)\n",
        "\n",
        "# Make predictions on test data\n",
        "y_pred = pl.predict(X_test)\n",
        "\n",
        "# Evaluate model performance\n",
        "accuracy = accuracy_score(y_test, y_pred)\n",
        "precision = precision_score(y_test, y_pred,average='weighted')\n",
        "recall = recall_score(y_test, y_pred,average='weighted')\n",
        "\n",
        "print(f'Accuracy: {accuracy:.2%}')\n",
        "print(f'Precision: {precision:.2%}')\n",
        "print(f'Recall: {recall:.2%}')"
      ],
      "metadata": {
        "colab": {
          "base_uri": "https://localhost:8080/"
        },
        "id": "5WT1DI9P2_RN",
        "outputId": "7b212961-8cee-477a-e353-3b418a903ecd"
      },
      "execution_count": 43,
      "outputs": [
        {
          "output_type": "stream",
          "name": "stdout",
          "text": [
            "Accuracy: 70.33%\n",
            "Precision: 70.40%\n",
            "Recall: 70.33%\n"
          ]
        }
      ]
    },
    {
      "cell_type": "markdown",
      "source": [
        "Using PCA model I have used GridSearch method and pipeline concept.\n",
        "\n",
        "Using PCA model to create the Logistic regression model is having highest metrics when compare with the original logistic regression model such as the accuracy is slight higher than the original model i.e, 70.33%.\n",
        "\n",
        "I prefer to choose the PCA model in creating the logistic regression model for this dataframe."
      ],
      "metadata": {
        "id": "iyjo4PYkBvdY"
      }
    },
    {
      "cell_type": "markdown",
      "metadata": {
        "id": "i9fBSg0jqxlS"
      },
      "source": [
        "# Question 5"
      ]
    },
    {
      "cell_type": "markdown",
      "metadata": {
        "id": "CWD_eyqFqxlT"
      },
      "source": [
        "- Without using PCA, create a decision tree model using best practices discussed in class.  \n",
        "- Which model performs the best on the training data? Explain your results in the markdown cells.  \n",
        "- What is the accuracy, precision, and recall for the test data?  \n",
        "- Does this perform better than either of the logistic regression models?"
      ]
    },
    {
      "cell_type": "code",
      "execution_count": 44,
      "metadata": {
        "colab": {
          "base_uri": "https://localhost:8080/"
        },
        "id": "QIb0zXWMqxlT",
        "outputId": "7d01b7a3-efbc-4bd0-b0da-531876eee8f2"
      },
      "outputs": [
        {
          "output_type": "stream",
          "name": "stdout",
          "text": [
            "Accuracy: 0.66\n",
            "Precision: 0.68\n",
            "Recall: 0.66\n"
          ]
        }
      ],
      "source": [
        "# Insert code here\n",
        "from sklearn.tree import DecisionTreeClassifier\n",
        "# Create and fit decision tree model\n",
        "decision = DecisionTreeClassifier()\n",
        "decision.fit(X_train, y_training)\n",
        "\n",
        "# Make predictions on test data\n",
        "y_pred_d = decision.predict(X_test)\n",
        "\n",
        "# Evaluate model performance\n",
        "accuracy = accuracy_score(y_test, y_pred_d)\n",
        "precision = precision_score(y_test, y_pred_d,average='weighted')\n",
        "recall = recall_score(y_test, y_pred_d,average='weighted')\n",
        "\n",
        "print(f'Accuracy: {accuracy:.2f}')\n",
        "print(f'Precision: {precision:.2f}')\n",
        "print(f'Recall: {recall:.2f}')"
      ]
    },
    {
      "cell_type": "markdown",
      "source": [
        "Without using PCA model for the decision model the accuracy is 0.68. For the above logistic regression model the accuracy is 0.70\n",
        "\n",
        "So, I can say that logistic regression model performs better than the decision tree model as i have chosen the Accuracy as the performance metrics for this dataset."
      ],
      "metadata": {
        "id": "Fk2Dih-sC5yJ"
      }
    },
    {
      "cell_type": "markdown",
      "metadata": {
        "id": "ndA6fdvwqxlU"
      },
      "source": [
        "# Question 6\n",
        "- Repeat `Question 5` but use PCA.  \n",
        "- Does this perform better than the original Decision Tree or the logistic regression models?"
      ]
    },
    {
      "cell_type": "code",
      "execution_count": 32,
      "metadata": {
        "colab": {
          "base_uri": "https://localhost:8080/",
          "height": 161
        },
        "id": "0D-rTuR8qxlV",
        "outputId": "8e535a27-ccf0-4841-af53-c869c24f1727"
      },
      "outputs": [
        {
          "output_type": "execute_result",
          "data": {
            "text/plain": [
              "Pipeline(steps=[('scaling', StandardScaler()), ('pca', PCA(n_components=10)),\n",
              "                ('model', LogisticRegression(C=0.1))])"
            ],
            "text/html": [
              "<style>#sk-container-id-4 {color: black;background-color: white;}#sk-container-id-4 pre{padding: 0;}#sk-container-id-4 div.sk-toggleable {background-color: white;}#sk-container-id-4 label.sk-toggleable__label {cursor: pointer;display: block;width: 100%;margin-bottom: 0;padding: 0.3em;box-sizing: border-box;text-align: center;}#sk-container-id-4 label.sk-toggleable__label-arrow:before {content: \"▸\";float: left;margin-right: 0.25em;color: #696969;}#sk-container-id-4 label.sk-toggleable__label-arrow:hover:before {color: black;}#sk-container-id-4 div.sk-estimator:hover label.sk-toggleable__label-arrow:before {color: black;}#sk-container-id-4 div.sk-toggleable__content {max-height: 0;max-width: 0;overflow: hidden;text-align: left;background-color: #f0f8ff;}#sk-container-id-4 div.sk-toggleable__content pre {margin: 0.2em;color: black;border-radius: 0.25em;background-color: #f0f8ff;}#sk-container-id-4 input.sk-toggleable__control:checked~div.sk-toggleable__content {max-height: 200px;max-width: 100%;overflow: auto;}#sk-container-id-4 input.sk-toggleable__control:checked~label.sk-toggleable__label-arrow:before {content: \"▾\";}#sk-container-id-4 div.sk-estimator input.sk-toggleable__control:checked~label.sk-toggleable__label {background-color: #d4ebff;}#sk-container-id-4 div.sk-label input.sk-toggleable__control:checked~label.sk-toggleable__label {background-color: #d4ebff;}#sk-container-id-4 input.sk-hidden--visually {border: 0;clip: rect(1px 1px 1px 1px);clip: rect(1px, 1px, 1px, 1px);height: 1px;margin: -1px;overflow: hidden;padding: 0;position: absolute;width: 1px;}#sk-container-id-4 div.sk-estimator {font-family: monospace;background-color: #f0f8ff;border: 1px dotted black;border-radius: 0.25em;box-sizing: border-box;margin-bottom: 0.5em;}#sk-container-id-4 div.sk-estimator:hover {background-color: #d4ebff;}#sk-container-id-4 div.sk-parallel-item::after {content: \"\";width: 100%;border-bottom: 1px solid gray;flex-grow: 1;}#sk-container-id-4 div.sk-label:hover label.sk-toggleable__label {background-color: #d4ebff;}#sk-container-id-4 div.sk-serial::before {content: \"\";position: absolute;border-left: 1px solid gray;box-sizing: border-box;top: 0;bottom: 0;left: 50%;z-index: 0;}#sk-container-id-4 div.sk-serial {display: flex;flex-direction: column;align-items: center;background-color: white;padding-right: 0.2em;padding-left: 0.2em;position: relative;}#sk-container-id-4 div.sk-item {position: relative;z-index: 1;}#sk-container-id-4 div.sk-parallel {display: flex;align-items: stretch;justify-content: center;background-color: white;position: relative;}#sk-container-id-4 div.sk-item::before, #sk-container-id-4 div.sk-parallel-item::before {content: \"\";position: absolute;border-left: 1px solid gray;box-sizing: border-box;top: 0;bottom: 0;left: 50%;z-index: -1;}#sk-container-id-4 div.sk-parallel-item {display: flex;flex-direction: column;z-index: 1;position: relative;background-color: white;}#sk-container-id-4 div.sk-parallel-item:first-child::after {align-self: flex-end;width: 50%;}#sk-container-id-4 div.sk-parallel-item:last-child::after {align-self: flex-start;width: 50%;}#sk-container-id-4 div.sk-parallel-item:only-child::after {width: 0;}#sk-container-id-4 div.sk-dashed-wrapped {border: 1px dashed gray;margin: 0 0.4em 0.5em 0.4em;box-sizing: border-box;padding-bottom: 0.4em;background-color: white;}#sk-container-id-4 div.sk-label label {font-family: monospace;font-weight: bold;display: inline-block;line-height: 1.2em;}#sk-container-id-4 div.sk-label-container {text-align: center;}#sk-container-id-4 div.sk-container {/* jupyter's `normalize.less` sets `[hidden] { display: none; }` but bootstrap.min.css set `[hidden] { display: none !important; }` so we also need the `!important` here to be able to override the default hidden behavior on the sphinx rendered scikit-learn.org. See: https://github.com/scikit-learn/scikit-learn/issues/21755 */display: inline-block !important;position: relative;}#sk-container-id-4 div.sk-text-repr-fallback {display: none;}</style><div id=\"sk-container-id-4\" class=\"sk-top-container\"><div class=\"sk-text-repr-fallback\"><pre>Pipeline(steps=[(&#x27;scaling&#x27;, StandardScaler()), (&#x27;pca&#x27;, PCA(n_components=10)),\n",
              "                (&#x27;model&#x27;, LogisticRegression(C=0.1))])</pre><b>In a Jupyter environment, please rerun this cell to show the HTML representation or trust the notebook. <br />On GitHub, the HTML representation is unable to render, please try loading this page with nbviewer.org.</b></div><div class=\"sk-container\" hidden><div class=\"sk-item sk-dashed-wrapped\"><div class=\"sk-label-container\"><div class=\"sk-label sk-toggleable\"><input class=\"sk-toggleable__control sk-hidden--visually\" id=\"sk-estimator-id-13\" type=\"checkbox\" ><label for=\"sk-estimator-id-13\" class=\"sk-toggleable__label sk-toggleable__label-arrow\">Pipeline</label><div class=\"sk-toggleable__content\"><pre>Pipeline(steps=[(&#x27;scaling&#x27;, StandardScaler()), (&#x27;pca&#x27;, PCA(n_components=10)),\n",
              "                (&#x27;model&#x27;, LogisticRegression(C=0.1))])</pre></div></div></div><div class=\"sk-serial\"><div class=\"sk-item\"><div class=\"sk-estimator sk-toggleable\"><input class=\"sk-toggleable__control sk-hidden--visually\" id=\"sk-estimator-id-14\" type=\"checkbox\" ><label for=\"sk-estimator-id-14\" class=\"sk-toggleable__label sk-toggleable__label-arrow\">StandardScaler</label><div class=\"sk-toggleable__content\"><pre>StandardScaler()</pre></div></div></div><div class=\"sk-item\"><div class=\"sk-estimator sk-toggleable\"><input class=\"sk-toggleable__control sk-hidden--visually\" id=\"sk-estimator-id-15\" type=\"checkbox\" ><label for=\"sk-estimator-id-15\" class=\"sk-toggleable__label sk-toggleable__label-arrow\">PCA</label><div class=\"sk-toggleable__content\"><pre>PCA(n_components=10)</pre></div></div></div><div class=\"sk-item\"><div class=\"sk-estimator sk-toggleable\"><input class=\"sk-toggleable__control sk-hidden--visually\" id=\"sk-estimator-id-16\" type=\"checkbox\" ><label for=\"sk-estimator-id-16\" class=\"sk-toggleable__label sk-toggleable__label-arrow\">LogisticRegression</label><div class=\"sk-toggleable__content\"><pre>LogisticRegression(C=0.1)</pre></div></div></div></div></div></div></div>"
            ]
          },
          "metadata": {},
          "execution_count": 32
        }
      ],
      "source": [
        "# Insert code here\n",
        "from sklearn.pipeline import Pipeline\n",
        "from sklearn.model_selection import GridSearchCV\n",
        "from sklearn.tree import DecisionTreeClassifier\n",
        "\n",
        "pipeline_Decision = Pipeline([('scaling', StandardScaler()), \n",
        "              ('pca', PCA()),\n",
        "              ('model', DecisionTreeClassifier())\n",
        "             ])\n",
        "\n",
        "params = {'model__C': [0.01, 0.1, 1, 10], 'pca__n_components': [1, 2, 3, 4, 5, 6, 7, 8, 9, 10]}\n",
        "\n",
        "DTC = GridSearchCV(p, param_grid=params, scoring='accuracy', cv=10, refit=True)\n",
        "DTC = DTC.fit(X_train, y_training)\n",
        "\n",
        "DTC.best_estimator_"
      ]
    },
    {
      "cell_type": "code",
      "source": [
        "print(f'Validation score: {DTC.best_score_:.2%}')\n",
        "print(f'Test score: {DTC.score(X_test, y_test):.2%}')"
      ],
      "metadata": {
        "colab": {
          "base_uri": "https://localhost:8080/"
        },
        "id": "12HQeZVf5pA8",
        "outputId": "50aaef42-ddc9-49d6-c253-4dbfaebbed95"
      },
      "execution_count": 33,
      "outputs": [
        {
          "output_type": "stream",
          "name": "stdout",
          "text": [
            "Validation score: 71.17%\n",
            "Test score: 68.67%\n"
          ]
        }
      ]
    },
    {
      "cell_type": "code",
      "source": [
        "# Fit pipeline on training data\n",
        "pipeline_Decision.fit(X_train, y_training)\n",
        "\n",
        "# Make predictions on test data\n",
        "y_pred_DTC = pipeline_Decision.predict(X_test)\n",
        "\n",
        "# Evaluate model performance\n",
        "accuracy = accuracy_score(y_test, y_pred_DTC)\n",
        "precision = precision_score(y_test, y_pred_DTC,average='weighted')\n",
        "recall = recall_score(y_test, y_pred_DTC,average='weighted')\n",
        "\n",
        "print(f'Accuracy: {accuracy:.2%}')\n",
        "print(f'Precision: {precision:.2%}')\n",
        "print(f'Recall: {recall:.2%}')"
      ],
      "metadata": {
        "colab": {
          "base_uri": "https://localhost:8080/"
        },
        "id": "2EQwptnV5uGM",
        "outputId": "7fdd73b4-e496-40a3-af04-0003ad0bb525"
      },
      "execution_count": 38,
      "outputs": [
        {
          "output_type": "stream",
          "name": "stdout",
          "text": [
            "Accuracy: 72.67%\n",
            "Precision: 73.25%\n",
            "Recall: 72.67%\n"
          ]
        }
      ]
    },
    {
      "cell_type": "markdown",
      "source": [
        "By checking all the 3 performance metrics of the decision tree model and logistic regression model, the accuracy of the decision tree model is 72.67% where as the accuracy of logistic regression model is 70.33%.\n",
        "\n",
        "In the end, the decision tree with PCA performs better than the original decision tree and the logistic regression model."
      ],
      "metadata": {
        "id": "2UC-cI9JDkWg"
      }
    },
    {
      "cell_type": "code",
      "execution_count": null,
      "metadata": {
        "id": "wjSPdYtiqxlV"
      },
      "outputs": [],
      "source": []
    }
  ],
  "metadata": {
    "kernelspec": {
      "display_name": "Python 3",
      "language": "python",
      "name": "python3"
    },
    "language_info": {
      "codemirror_mode": {
        "name": "ipython",
        "version": 3
      },
      "file_extension": ".py",
      "mimetype": "text/x-python",
      "name": "python",
      "nbconvert_exporter": "python",
      "pygments_lexer": "ipython3",
      "version": "3.8.8"
    },
    "toc": {
      "base_numbering": 1,
      "nav_menu": {},
      "number_sections": true,
      "sideBar": true,
      "skip_h1_title": false,
      "title_cell": "Table of Contents",
      "title_sidebar": "Contents",
      "toc_cell": false,
      "toc_position": {},
      "toc_section_display": true,
      "toc_window_display": false
    },
    "colab": {
      "provenance": []
    }
  },
  "nbformat": 4,
  "nbformat_minor": 0
}