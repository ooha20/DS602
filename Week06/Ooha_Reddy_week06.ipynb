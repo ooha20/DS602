{
  "cells": [
    {
      "cell_type": "code",
      "execution_count": 2,
      "id": "8e7212d9-0ce1-4d10-9f01-8df70293de12",
      "metadata": {
        "colab": {
          "base_uri": "https://localhost:8080/",
          "height": 206
        },
        "id": "8e7212d9-0ce1-4d10-9f01-8df70293de12",
        "outputId": "fd6aeeab-83bd-401f-e2e9-d6c747af1c0c"
      },
      "outputs": [
        {
          "output_type": "execute_result",
          "data": {
            "text/plain": [
              "   actual      prob\n",
              "0     0.0  0.380052\n",
              "1     1.0  0.827923\n",
              "2     1.0  0.929093\n",
              "3     1.0  0.472508\n",
              "4     1.0  0.906988"
            ],
            "text/html": [
              "\n",
              "  <div id=\"df-28cc018c-d16c-45ab-b9f0-1042848cdd75\">\n",
              "    <div class=\"colab-df-container\">\n",
              "      <div>\n",
              "<style scoped>\n",
              "    .dataframe tbody tr th:only-of-type {\n",
              "        vertical-align: middle;\n",
              "    }\n",
              "\n",
              "    .dataframe tbody tr th {\n",
              "        vertical-align: top;\n",
              "    }\n",
              "\n",
              "    .dataframe thead th {\n",
              "        text-align: right;\n",
              "    }\n",
              "</style>\n",
              "<table border=\"1\" class=\"dataframe\">\n",
              "  <thead>\n",
              "    <tr style=\"text-align: right;\">\n",
              "      <th></th>\n",
              "      <th>actual</th>\n",
              "      <th>prob</th>\n",
              "    </tr>\n",
              "  </thead>\n",
              "  <tbody>\n",
              "    <tr>\n",
              "      <th>0</th>\n",
              "      <td>0.0</td>\n",
              "      <td>0.380052</td>\n",
              "    </tr>\n",
              "    <tr>\n",
              "      <th>1</th>\n",
              "      <td>1.0</td>\n",
              "      <td>0.827923</td>\n",
              "    </tr>\n",
              "    <tr>\n",
              "      <th>2</th>\n",
              "      <td>1.0</td>\n",
              "      <td>0.929093</td>\n",
              "    </tr>\n",
              "    <tr>\n",
              "      <th>3</th>\n",
              "      <td>1.0</td>\n",
              "      <td>0.472508</td>\n",
              "    </tr>\n",
              "    <tr>\n",
              "      <th>4</th>\n",
              "      <td>1.0</td>\n",
              "      <td>0.906988</td>\n",
              "    </tr>\n",
              "  </tbody>\n",
              "</table>\n",
              "</div>\n",
              "      <button class=\"colab-df-convert\" onclick=\"convertToInteractive('df-28cc018c-d16c-45ab-b9f0-1042848cdd75')\"\n",
              "              title=\"Convert this dataframe to an interactive table.\"\n",
              "              style=\"display:none;\">\n",
              "        \n",
              "  <svg xmlns=\"http://www.w3.org/2000/svg\" height=\"24px\"viewBox=\"0 0 24 24\"\n",
              "       width=\"24px\">\n",
              "    <path d=\"M0 0h24v24H0V0z\" fill=\"none\"/>\n",
              "    <path d=\"M18.56 5.44l.94 2.06.94-2.06 2.06-.94-2.06-.94-.94-2.06-.94 2.06-2.06.94zm-11 1L8.5 8.5l.94-2.06 2.06-.94-2.06-.94L8.5 2.5l-.94 2.06-2.06.94zm10 10l.94 2.06.94-2.06 2.06-.94-2.06-.94-.94-2.06-.94 2.06-2.06.94z\"/><path d=\"M17.41 7.96l-1.37-1.37c-.4-.4-.92-.59-1.43-.59-.52 0-1.04.2-1.43.59L10.3 9.45l-7.72 7.72c-.78.78-.78 2.05 0 2.83L4 21.41c.39.39.9.59 1.41.59.51 0 1.02-.2 1.41-.59l7.78-7.78 2.81-2.81c.8-.78.8-2.07 0-2.86zM5.41 20L4 18.59l7.72-7.72 1.47 1.35L5.41 20z\"/>\n",
              "  </svg>\n",
              "      </button>\n",
              "      \n",
              "  <style>\n",
              "    .colab-df-container {\n",
              "      display:flex;\n",
              "      flex-wrap:wrap;\n",
              "      gap: 12px;\n",
              "    }\n",
              "\n",
              "    .colab-df-convert {\n",
              "      background-color: #E8F0FE;\n",
              "      border: none;\n",
              "      border-radius: 50%;\n",
              "      cursor: pointer;\n",
              "      display: none;\n",
              "      fill: #1967D2;\n",
              "      height: 32px;\n",
              "      padding: 0 0 0 0;\n",
              "      width: 32px;\n",
              "    }\n",
              "\n",
              "    .colab-df-convert:hover {\n",
              "      background-color: #E2EBFA;\n",
              "      box-shadow: 0px 1px 2px rgba(60, 64, 67, 0.3), 0px 1px 3px 1px rgba(60, 64, 67, 0.15);\n",
              "      fill: #174EA6;\n",
              "    }\n",
              "\n",
              "    [theme=dark] .colab-df-convert {\n",
              "      background-color: #3B4455;\n",
              "      fill: #D2E3FC;\n",
              "    }\n",
              "\n",
              "    [theme=dark] .colab-df-convert:hover {\n",
              "      background-color: #434B5C;\n",
              "      box-shadow: 0px 1px 3px 1px rgba(0, 0, 0, 0.15);\n",
              "      filter: drop-shadow(0px 1px 2px rgba(0, 0, 0, 0.3));\n",
              "      fill: #FFFFFF;\n",
              "    }\n",
              "  </style>\n",
              "\n",
              "      <script>\n",
              "        const buttonEl =\n",
              "          document.querySelector('#df-28cc018c-d16c-45ab-b9f0-1042848cdd75 button.colab-df-convert');\n",
              "        buttonEl.style.display =\n",
              "          google.colab.kernel.accessAllowed ? 'block' : 'none';\n",
              "\n",
              "        async function convertToInteractive(key) {\n",
              "          const element = document.querySelector('#df-28cc018c-d16c-45ab-b9f0-1042848cdd75');\n",
              "          const dataTable =\n",
              "            await google.colab.kernel.invokeFunction('convertToInteractive',\n",
              "                                                     [key], {});\n",
              "          if (!dataTable) return;\n",
              "\n",
              "          const docLinkHtml = 'Like what you see? Visit the ' +\n",
              "            '<a target=\"_blank\" href=https://colab.research.google.com/notebooks/data_table.ipynb>data table notebook</a>'\n",
              "            + ' to learn more about interactive tables.';\n",
              "          element.innerHTML = '';\n",
              "          dataTable['output_type'] = 'display_data';\n",
              "          await google.colab.output.renderOutput(dataTable, element);\n",
              "          const docLink = document.createElement('div');\n",
              "          docLink.innerHTML = docLinkHtml;\n",
              "          element.appendChild(docLink);\n",
              "        }\n",
              "      </script>\n",
              "    </div>\n",
              "  </div>\n",
              "  "
            ]
          },
          "metadata": {},
          "execution_count": 2
        }
      ],
      "source": [
        "import pandas as pd\n",
        "import numpy as np\n",
        "import matplotlib.pyplot as plt\n",
        "%matplotlib inline\n",
        "\n",
        "results = pd.read_csv('https://raw.githubusercontent.com/msaricaumbc/DS_data/master/ds602/lab-evaluation-data.csv')\n",
        "results.head()"
      ]
    },
    {
      "cell_type": "markdown",
      "id": "fc45608f-5476-4f88-8830-28360404c9a3",
      "metadata": {
        "id": "fc45608f-5476-4f88-8830-28360404c9a3"
      },
      "source": [
        "## Q1\n",
        "### Determine the distribution of the actual event.\n",
        "### Would you be concerned about bias due to imbalance?"
      ]
    },
    {
      "cell_type": "code",
      "execution_count": 3,
      "id": "775d282b-c369-4deb-9a74-644f9e0b698e",
      "metadata": {
        "colab": {
          "base_uri": "https://localhost:8080/"
        },
        "id": "775d282b-c369-4deb-9a74-644f9e0b698e",
        "outputId": "21d3ac29-f9a4-4fb9-db45-8d20fcb5868f"
      },
      "outputs": [
        {
          "output_type": "stream",
          "name": "stdout",
          "text": [
            "{1.0: 3000, 0.0: 2000}\n"
          ]
        }
      ],
      "source": [
        "actual_counts = results['actual'].value_counts().to_dict()\n",
        "print(actual_counts)"
      ]
    },
    {
      "cell_type": "markdown",
      "id": "86af398f-b8ad-4f39-9175-1d150b94a525",
      "metadata": {
        "id": "86af398f-b8ad-4f39-9175-1d150b94a525"
      },
      "source": [
        "In the training dataset, there is a slight imbalance in the number of examples for each class label, with a ratio of 3:2. While this does not represent a severe class imbalance, the model may still exhibit some bias towards the majority class, which is the true class in this dataset. However, the chance of such bias is relatively low due to the small degree of class imbalance."
      ]
    },
    {
      "cell_type": "markdown",
      "id": "ac77f8d7-25f0-423f-ab58-bd416d87524c",
      "metadata": {
        "id": "ac77f8d7-25f0-423f-ab58-bd416d87524c"
      },
      "source": [
        "### Q2 Create a histogram that shows the distribution of the probabilities for the True and False classes.\n",
        "### Describe what you observe."
      ]
    },
    {
      "cell_type": "code",
      "execution_count": 7,
      "id": "b42821ed-c0ed-442f-855d-26c96eba4e2c",
      "metadata": {
        "colab": {
          "base_uri": "https://localhost:8080/",
          "height": 352
        },
        "id": "b42821ed-c0ed-442f-855d-26c96eba4e2c",
        "outputId": "04e2b331-db44-461b-9347-27c4efac573d"
      },
      "outputs": [
        {
          "output_type": "execute_result",
          "data": {
            "text/plain": [
              "(array([ 89., 194., 346., 352., 324., 242., 208., 134.,  77.,  34.]),\n",
              " array([0.00482399, 0.07348497, 0.14214595, 0.21080693, 0.27946791,\n",
              "        0.34812889, 0.41678987, 0.48545084, 0.55411182, 0.6227728 ,\n",
              "        0.69143378]),\n",
              " <BarContainer object of 10 artists>)"
            ]
          },
          "metadata": {},
          "execution_count": 7
        },
        {
          "output_type": "display_data",
          "data": {
            "text/plain": [
              "<Figure size 432x288 with 1 Axes>"
            ],
            "image/png": "[encoded data removed]"
          },
          "metadata": {
            "needs_background": "light"
          }
        }
      ],
      "source": [
        "plt.hist(results[results['actual'] == 1.0]['prob'], alpha=0.8)\n",
        "plt.hist(results[results['actual'] == 0.0]['prob'], alpha=0.8)"
      ]
    },
    {
      "cell_type": "markdown",
      "source": [
        "The histogram displays the distribution of predicted probabilities for the True and False classes, respectively. The False class probabilities are predominantly centered around the range of 0.2-0.4, with a small number of instances having probabilities close to 0 or 0.8. On the other hand, the True class probabilities are mainly centered around 0.8, with fewer instances having probabilities close to 0.2.\n"
      ],
      "metadata": {
        "id": "b7t0t-5G4HE5"
      },
      "id": "b7t0t-5G4HE5"
    },
    {
      "cell_type": "markdown",
      "id": "067d9a45-42cc-4f66-bc58-d03207735d72",
      "metadata": {
        "id": "067d9a45-42cc-4f66-bc58-d03207735d72"
      },
      "source": [
        "### Q3\n",
        "### Create a simple confusion matrix. Use 0.5 as the threshold for whether an observation should be considered True or False.\n",
        "### Comment on what you observe."
      ]
    },
    {
      "cell_type": "code",
      "source": [
        "tp = np.sum((results['actual'] == 1) & (results['prob'] >= 0.5))\n",
        "fp = np.sum((results['actual'] == 0) & (results['prob'] >= 0.5))\n",
        "tn = np.sum((results['actual'] == 0) & (results['prob'] < 0.5))\n",
        "fn = np.sum((results['actual'] == 1) & (results['prob'] < 0.5))\n",
        "\n",
        "cm = np.array([[tn, fp], [fn, tp]])\n",
        "\n",
        "print(cm)"
      ],
      "metadata": {
        "colab": {
          "base_uri": "https://localhost:8080/"
        },
        "id": "3c3XUFtQ0esd",
        "outputId": "2e2a3bde-ebac-4107-c294-b9780a00f146"
      },
      "id": "3c3XUFtQ0esd",
      "execution_count": 15,
      "outputs": [
        {
          "output_type": "stream",
          "name": "stdout",
          "text": [
            "[[1790  210]\n",
            " [ 377 2623]]\n"
          ]
        }
      ]
    },
    {
      "cell_type": "markdown",
      "id": "93547763-9a11-4391-a387-db0b065023fa",
      "metadata": {
        "id": "93547763-9a11-4391-a387-db0b065023fa"
      },
      "source": [
        "The number of true positives and true negatives are higher than false positives and false negatives in the model's performance, indicating that the model is performing significantly well."
      ]
    },
    {
      "cell_type": "markdown",
      "id": "6f93cd17-989b-468d-9a5a-e56cd1104cbb",
      "metadata": {
        "id": "6f93cd17-989b-468d-9a5a-e56cd1104cbb"
      },
      "source": [
        "### Q4\n",
        "### Calculate the accuracy, precision, and recall without using any pre-built functions.\n",
        "### Which measure would you use if this was your model and why?"
      ]
    },
    {
      "cell_type": "markdown",
      "id": "8d537e66-7e31-4ad7-ae4f-17d197e63ab6",
      "metadata": {
        "id": "8d537e66-7e31-4ad7-ae4f-17d197e63ab6"
      },
      "source": [
        "##### showing precision, accuaracy, recall for positive class(1)"
      ]
    },
    {
      "cell_type": "code",
      "execution_count": 10,
      "id": "40903a79-b5c9-4551-be9f-34bd7d87fdd1",
      "metadata": {
        "colab": {
          "base_uri": "https://localhost:8080/"
        },
        "id": "40903a79-b5c9-4551-be9f-34bd7d87fdd1",
        "outputId": "bdfce02d-a53e-4c28-e7f8-cb71dbef7afe"
      },
      "outputs": [
        {
          "output_type": "stream",
          "name": "stdout",
          "text": [
            "Accuracy: 0.8826\n",
            "Precision: 0.9259\n",
            "Recall: 0.8743\n"
          ]
        }
      ],
      "source": [
        "true_positives = np.sum((results['actual'] == 1) & (results['y_pred'] == 1))\n",
        "false_positives = np.sum((results['actual'] == 0) & (results['y_pred'] == 1))\n",
        "false_negatives = np.sum((results['actual'] == 1) & (results['y_pred'] == 0))\n",
        "true_negatives = np.sum((results['actual'] == 0) & (results['y_pred'] == 0))\n",
        "# we alredy did those above calculations in previous question\n",
        "accuracy = (true_positives + true_negatives) / len(results)\n",
        "precision = true_positives / (true_positives + false_positives)\n",
        "recall = true_positives / (true_positives + false_negatives)\n",
        "print(\"Accuracy: {:.4f}\".format(accuracy))\n",
        "print(\"Precision: {:.4f}\".format(precision))\n",
        "print(\"Recall: {:.4f}\".format(recall))\n"
      ]
    },
    {
      "cell_type": "markdown",
      "id": "263f3b13-ae1e-4aff-8492-34c40797437d",
      "metadata": {
        "id": "263f3b13-ae1e-4aff-8492-34c40797437d"
      },
      "source": [
        "I recommend using accuracy as the primary metric for evaluating the model's performance. As it is unclear which type of misclassification, false positive or false negative, has more severe consequences, it is difficult to decide whether to focus on precision or recall. Therefore, accuracy, which takes into account both true positives and true negatives, is the most appropriate measure to consider."
      ]
    },
    {
      "cell_type": "markdown",
      "id": "98b020e6-df25-48b7-919d-603434c6aec6",
      "metadata": {
        "id": "98b020e6-df25-48b7-919d-603434c6aec6"
      },
      "source": [
        "### Q5\n",
        "### Construct a ROC curve plot.\n",
        "### Comment on the fit of the model based on this chart."
      ]
    },
    {
      "cell_type": "code",
      "source": [
        "step_size = 0.01\n",
        "thresholds = np.arange(0, 1+step_size, step_size)\n",
        "true_pr = []\n",
        "false_pr = []\n",
        "for threshold in thresholds:\n",
        "    true_p = ((results['prob'] >= threshold) & (results['actual'] == 1.0)).sum()\n",
        "    false_n = ((results['prob'] < threshold) & (results['actual'] == 1.0)).sum()\n",
        "    false_p = ((results['prob'] >= threshold) & (results['actual'] == 0.0)).sum()\n",
        "    true_n = ((results['prob'] < threshold) & (results['actual'] == 0.0)).sum()\n",
        "    true_pr.append(true_p / (true_p + false_n))\n",
        "    false_pr.append(false_p / (false_p + true_n))\n",
        "plt.plot(false_pr, true_pr)\n",
        "plt.plot([0, 1], [0, 1], linestyle='--')\n",
        "plt.xlabel('FALSE POSITIVE RATE')\n",
        "plt.ylabel('TRUE POSITIVE RATE')\n",
        "plt.title('ROC')\n",
        "plt.show()"
      ],
      "metadata": {
        "colab": {
          "base_uri": "https://localhost:8080/",
          "height": 295
        },
        "id": "SJTWP49o2jNz",
        "outputId": "d162fef8-8d9d-4dd0-e3af-4ca40511c16d"
      },
      "id": "SJTWP49o2jNz",
      "execution_count": 14,
      "outputs": [
        {
          "output_type": "display_data",
          "data": {
            "text/plain": [
              "<Figure size 432x288 with 1 Axes>"
            ],
            "image/png": "[encoded data removed]"
          },
          "metadata": {
            "needs_background": "light"
          }
        }
      ]
    },
    {
      "cell_type": "markdown",
      "source": [
        "Reference:\n",
        "https://stackoverflow.com/questions/28806551/unexpected-output-for-numpy-arange-with-step-size-of-0-005"
      ],
      "metadata": {
        "id": "9QqQiS2-3asb"
      },
      "id": "9QqQiS2-3asb"
    },
    {
      "cell_type": "markdown",
      "id": "a8d7b9c5-6ea4-45a8-9aac-bce11ca39006",
      "metadata": {
        "id": "a8d7b9c5-6ea4-45a8-9aac-bce11ca39006"
      },
      "source": [
        "The plot depicts that the current model fit has achieved the best performance, as classifiers that have curves closer to the top-left corner indicate better performance. The closer the curve to the top left, the more accurate the model is. We can use this plot to select an optimal threshold depending on whether we want to increase True Positive Rate (TPR) and decrease False Positive Rate (FPR), or increase both. It is crucial to balance the tradeoff between TPR and FPR when selecting the optimal threshold.\n",
        "\n",
        "\n",
        "\n"
      ]
    }
  ],
  "metadata": {
    "kernelspec": {
      "display_name": "Python 3 (ipykernel)",
      "language": "python",
      "name": "python3"
    },
    "language_info": {
      "codemirror_mode": {
        "name": "ipython",
        "version": 3
      },
      "file_extension": ".py",
      "mimetype": "text/x-python",
      "name": "python",
      "nbconvert_exporter": "python",
      "pygments_lexer": "ipython3",
      "version": "3.10.7"
    },
    "colab": {
      "provenance": []
    }
  },
  "nbformat": 4,
  "nbformat_minor": 5
}