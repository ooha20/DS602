{
  "nbformat": 4,
  "nbformat_minor": 0,
  "metadata": {
    "colab": {
      "provenance": [],
      "gpuType": "T4",
      "machine_shape": "hm"
    },
    "kernelspec": {
      "name": "python3",
      "display_name": "Python 3"
    },
    "language_info": {
      "name": "python"
    },
    "accelerator": "TPU",
    "gpuClass": "standard"
  },
  "cells": [
    {
      "cell_type": "markdown",
      "source": [
        "#602 Final Project"
      ],
      "metadata": {
        "id": "0AIVDykIxxBV"
      }
    },
    {
      "cell_type": "markdown",
      "source": [
        "In this project the utimate goal is to predict the sentiment of the given text data . There are 4 datasets provided in which we are not supposed to use the y_train dataset directly .by using X_train we have to build the model and test on the Production data set provided i.e X_final and y_final. The Training dataset appears to be like movie review with positive and negative sentiment (0,1). "
      ],
      "metadata": {
        "id": "a8ZxO1LXx2fL"
      }
    },
    {
      "cell_type": "markdown",
      "source": [
        "#importing all necessary libraries"
      ],
      "metadata": {
        "id": "cA2fv3GLy89a"
      }
    },
    {
      "cell_type": "code",
      "source": [
        "import pandas as pd\n",
        "import numpy as np\n",
        "import seaborn as sns\n",
        "import re\n",
        "from sklearn.model_selection import train_test_split\n",
        "from sklearn.feature_extraction.text import TfidfVectorizer\n",
        "from sklearn.linear_model import LogisticRegression\n",
        "import warnings\n",
        "warnings.filterwarnings(\"ignore\")\n",
        "from sklearn.metrics import accuracy_score, confusion_matrix, classification_report\n",
        "import pandas as pd\n",
        "import numpy as np\n",
        "from sklearn.linear_model import LogisticRegression\n",
        "from sklearn.ensemble import RandomForestClassifier\n",
        "from sklearn.semi_supervised import SelfTrainingClassifier\n",
        "from sklearn.model_selection import cross_val_score\n",
        "from sklearn.pipeline import Pipeline\n",
        "from sklearn.preprocessing import Normalizer\n",
        "from sklearn.pipeline import make_pipeline\n",
        "from sklearn.metrics import accuracy_score\n",
        "from sklearn.naive_bayes import MultinomialNB\n",
        "from sklearn.semi_supervised import LabelSpreading\n",
        "from sklearn.preprocessing import Normalizer"
      ],
      "metadata": {
        "id": "DeHUbjC-znRb"
      },
      "execution_count": null,
      "outputs": []
    },
    {
      "cell_type": "markdown",
      "source": [
        "Loading the data to the dataframe"
      ],
      "metadata": {
        "id": "GZvrRYLmzmb6"
      }
    },
    {
      "cell_type": "code",
      "source": [
        "import pandas as pd\n",
        "\n",
        "df = pd.read_csv('/content/sample_data/X_train.csv')\n",
        "\n",
        "df.head()"
      ],
      "metadata": {
        "colab": {
          "base_uri": "https://localhost:8080/",
          "height": 206
        },
        "id": "hw2Y2tt9_yQp",
        "outputId": "0e0b171d-a7c2-46c3-f3fb-d68b120deafd"
      },
      "execution_count": null,
      "outputs": [
        {
          "output_type": "execute_result",
          "data": {
            "text/plain": [
              "                                              review\n",
              "0  Shame, is a Swedish film in Swedish with Engli...\n",
              "1  I know it's rather unfair to comment on a movi...\n",
              "2  \"Bread\" very sharply skewers the conventions o...\n",
              "3  After reading tons of good reviews about this ...\n",
              "4  During the Civil war a wounded union soldier h..."
            ],
            "text/html": [
              "\n",
              "  <div id=\"df-0e977c85-fa4f-4dac-a1ae-5899d138c61b\">\n",
              "    <div class=\"colab-df-container\">\n",
              "      <div>\n",
              "<style scoped>\n",
              "    .dataframe tbody tr th:only-of-type {\n",
              "        vertical-align: middle;\n",
              "    }\n",
              "\n",
              "    .dataframe tbody tr th {\n",
              "        vertical-align: top;\n",
              "    }\n",
              "\n",
              "    .dataframe thead th {\n",
              "        text-align: right;\n",
              "    }\n",
              "</style>\n",
              "<table border=\"1\" class=\"dataframe\">\n",
              "  <thead>\n",
              "    <tr style=\"text-align: right;\">\n",
              "      <th></th>\n",
              "      <th>review</th>\n",
              "    </tr>\n",
              "  </thead>\n",
              "  <tbody>\n",
              "    <tr>\n",
              "      <th>0</th>\n",
              "      <td>Shame, is a Swedish film in Swedish with Engli...</td>\n",
              "    </tr>\n",
              "    <tr>\n",
              "      <th>1</th>\n",
              "      <td>I know it's rather unfair to comment on a movi...</td>\n",
              "    </tr>\n",
              "    <tr>\n",
              "      <th>2</th>\n",
              "      <td>\"Bread\" very sharply skewers the conventions o...</td>\n",
              "    </tr>\n",
              "    <tr>\n",
              "      <th>3</th>\n",
              "      <td>After reading tons of good reviews about this ...</td>\n",
              "    </tr>\n",
              "    <tr>\n",
              "      <th>4</th>\n",
              "      <td>During the Civil war a wounded union soldier h...</td>\n",
              "    </tr>\n",
              "  </tbody>\n",
              "</table>\n",
              "</div>\n",
              "      <button class=\"colab-df-convert\" onclick=\"convertToInteractive('df-0e977c85-fa4f-4dac-a1ae-5899d138c61b')\"\n",
              "              title=\"Convert this dataframe to an interactive table.\"\n",
              "              style=\"display:none;\">\n",
              "        \n",
              "  <svg xmlns=\"http://www.w3.org/2000/svg\" height=\"24px\"viewBox=\"0 0 24 24\"\n",
              "       width=\"24px\">\n",
              "    <path d=\"M0 0h24v24H0V0z\" fill=\"none\"/>\n",
              "    <path d=\"M18.56 5.44l.94 2.06.94-2.06 2.06-.94-2.06-.94-.94-2.06-.94 2.06-2.06.94zm-11 1L8.5 8.5l.94-2.06 2.06-.94-2.06-.94L8.5 2.5l-.94 2.06-2.06.94zm10 10l.94 2.06.94-2.06 2.06-.94-2.06-.94-.94-2.06-.94 2.06-2.06.94z\"/><path d=\"M17.41 7.96l-1.37-1.37c-.4-.4-.92-.59-1.43-.59-.52 0-1.04.2-1.43.59L10.3 9.45l-7.72 7.72c-.78.78-.78 2.05 0 2.83L4 21.41c.39.39.9.59 1.41.59.51 0 1.02-.2 1.41-.59l7.78-7.78 2.81-2.81c.8-.78.8-2.07 0-2.86zM5.41 20L4 18.59l7.72-7.72 1.47 1.35L5.41 20z\"/>\n",
              "  </svg>\n",
              "      </button>\n",
              "      \n",
              "  <style>\n",
              "    .colab-df-container {\n",
              "      display:flex;\n",
              "      flex-wrap:wrap;\n",
              "      gap: 12px;\n",
              "    }\n",
              "\n",
              "    .colab-df-convert {\n",
              "      background-color: #E8F0FE;\n",
              "      border: none;\n",
              "      border-radius: 50%;\n",
              "      cursor: pointer;\n",
              "      display: none;\n",
              "      fill: #1967D2;\n",
              "      height: 32px;\n",
              "      padding: 0 0 0 0;\n",
              "      width: 32px;\n",
              "    }\n",
              "\n",
              "    .colab-df-convert:hover {\n",
              "      background-color: #E2EBFA;\n",
              "      box-shadow: 0px 1px 2px rgba(60, 64, 67, 0.3), 0px 1px 3px 1px rgba(60, 64, 67, 0.15);\n",
              "      fill: #174EA6;\n",
              "    }\n",
              "\n",
              "    [theme=dark] .colab-df-convert {\n",
              "      background-color: #3B4455;\n",
              "      fill: #D2E3FC;\n",
              "    }\n",
              "\n",
              "    [theme=dark] .colab-df-convert:hover {\n",
              "      background-color: #434B5C;\n",
              "      box-shadow: 0px 1px 3px 1px rgba(0, 0, 0, 0.15);\n",
              "      filter: drop-shadow(0px 1px 2px rgba(0, 0, 0, 0.3));\n",
              "      fill: #FFFFFF;\n",
              "    }\n",
              "  </style>\n",
              "\n",
              "      <script>\n",
              "        const buttonEl =\n",
              "          document.querySelector('#df-0e977c85-fa4f-4dac-a1ae-5899d138c61b button.colab-df-convert');\n",
              "        buttonEl.style.display =\n",
              "          google.colab.kernel.accessAllowed ? 'block' : 'none';\n",
              "\n",
              "        async function convertToInteractive(key) {\n",
              "          const element = document.querySelector('#df-0e977c85-fa4f-4dac-a1ae-5899d138c61b');\n",
              "          const dataTable =\n",
              "            await google.colab.kernel.invokeFunction('convertToInteractive',\n",
              "                                                     [key], {});\n",
              "          if (!dataTable) return;\n",
              "\n",
              "          const docLinkHtml = 'Like what you see? Visit the ' +\n",
              "            '<a target=\"_blank\" href=https://colab.research.google.com/notebooks/data_table.ipynb>data table notebook</a>'\n",
              "            + ' to learn more about interactive tables.';\n",
              "          element.innerHTML = '';\n",
              "          dataTable['output_type'] = 'display_data';\n",
              "          await google.colab.output.renderOutput(dataTable, element);\n",
              "          const docLink = document.createElement('div');\n",
              "          docLink.innerHTML = docLinkHtml;\n",
              "          element.appendChild(docLink);\n",
              "        }\n",
              "      </script>\n",
              "    </div>\n",
              "  </div>\n",
              "  "
            ]
          },
          "metadata": {},
          "execution_count": 5
        }
      ]
    },
    {
      "cell_type": "code",
      "source": [
        "df.info()"
      ],
      "metadata": {
        "colab": {
          "base_uri": "https://localhost:8080/"
        },
        "id": "7efcuDWXAD27",
        "outputId": "d62b6be9-d487-4b1c-ee26-0cf8f23289ed"
      },
      "execution_count": null,
      "outputs": [
        {
          "output_type": "stream",
          "name": "stdout",
          "text": [
            "<class 'pandas.core.frame.DataFrame'>\n",
            "RangeIndex: 40000 entries, 0 to 39999\n",
            "Data columns (total 1 columns):\n",
            " #   Column  Non-Null Count  Dtype \n",
            "---  ------  --------------  ----- \n",
            " 0   review  40000 non-null  object\n",
            "dtypes: object(1)\n",
            "memory usage: 312.6+ KB\n"
          ]
        }
      ]
    },
    {
      "cell_type": "code",
      "source": [
        "df.describe()"
      ],
      "metadata": {
        "colab": {
          "base_uri": "https://localhost:8080/",
          "height": 175
        },
        "id": "sV2NxlhNAH4p",
        "outputId": "f0076b36-3d20-4b6d-ce66-3863733553ed"
      },
      "execution_count": null,
      "outputs": [
        {
          "output_type": "execute_result",
          "data": {
            "text/plain": [
              "                                                   review\n",
              "count                                               40000\n",
              "unique                                              39719\n",
              "top     Loved today's show!!! It was a variety and not...\n",
              "freq                                                    5"
            ],
            "text/html": [
              "\n",
              "  <div id=\"df-f9b33d0c-9c8f-4037-a177-854782133fab\">\n",
              "    <div class=\"colab-df-container\">\n",
              "      <div>\n",
              "<style scoped>\n",
              "    .dataframe tbody tr th:only-of-type {\n",
              "        vertical-align: middle;\n",
              "    }\n",
              "\n",
              "    .dataframe tbody tr th {\n",
              "        vertical-align: top;\n",
              "    }\n",
              "\n",
              "    .dataframe thead th {\n",
              "        text-align: right;\n",
              "    }\n",
              "</style>\n",
              "<table border=\"1\" class=\"dataframe\">\n",
              "  <thead>\n",
              "    <tr style=\"text-align: right;\">\n",
              "      <th></th>\n",
              "      <th>review</th>\n",
              "    </tr>\n",
              "  </thead>\n",
              "  <tbody>\n",
              "    <tr>\n",
              "      <th>count</th>\n",
              "      <td>40000</td>\n",
              "    </tr>\n",
              "    <tr>\n",
              "      <th>unique</th>\n",
              "      <td>39719</td>\n",
              "    </tr>\n",
              "    <tr>\n",
              "      <th>top</th>\n",
              "      <td>Loved today's show!!! It was a variety and not...</td>\n",
              "    </tr>\n",
              "    <tr>\n",
              "      <th>freq</th>\n",
              "      <td>5</td>\n",
              "    </tr>\n",
              "  </tbody>\n",
              "</table>\n",
              "</div>\n",
              "      <button class=\"colab-df-convert\" onclick=\"convertToInteractive('df-f9b33d0c-9c8f-4037-a177-854782133fab')\"\n",
              "              title=\"Convert this dataframe to an interactive table.\"\n",
              "              style=\"display:none;\">\n",
              "        \n",
              "  <svg xmlns=\"http://www.w3.org/2000/svg\" height=\"24px\"viewBox=\"0 0 24 24\"\n",
              "       width=\"24px\">\n",
              "    <path d=\"M0 0h24v24H0V0z\" fill=\"none\"/>\n",
              "    <path d=\"M18.56 5.44l.94 2.06.94-2.06 2.06-.94-2.06-.94-.94-2.06-.94 2.06-2.06.94zm-11 1L8.5 8.5l.94-2.06 2.06-.94-2.06-.94L8.5 2.5l-.94 2.06-2.06.94zm10 10l.94 2.06.94-2.06 2.06-.94-2.06-.94-.94-2.06-.94 2.06-2.06.94z\"/><path d=\"M17.41 7.96l-1.37-1.37c-.4-.4-.92-.59-1.43-.59-.52 0-1.04.2-1.43.59L10.3 9.45l-7.72 7.72c-.78.78-.78 2.05 0 2.83L4 21.41c.39.39.9.59 1.41.59.51 0 1.02-.2 1.41-.59l7.78-7.78 2.81-2.81c.8-.78.8-2.07 0-2.86zM5.41 20L4 18.59l7.72-7.72 1.47 1.35L5.41 20z\"/>\n",
              "  </svg>\n",
              "      </button>\n",
              "      \n",
              "  <style>\n",
              "    .colab-df-container {\n",
              "      display:flex;\n",
              "      flex-wrap:wrap;\n",
              "      gap: 12px;\n",
              "    }\n",
              "\n",
              "    .colab-df-convert {\n",
              "      background-color: #E8F0FE;\n",
              "      border: none;\n",
              "      border-radius: 50%;\n",
              "      cursor: pointer;\n",
              "      display: none;\n",
              "      fill: #1967D2;\n",
              "      height: 32px;\n",
              "      padding: 0 0 0 0;\n",
              "      width: 32px;\n",
              "    }\n",
              "\n",
              "    .colab-df-convert:hover {\n",
              "      background-color: #E2EBFA;\n",
              "      box-shadow: 0px 1px 2px rgba(60, 64, 67, 0.3), 0px 1px 3px 1px rgba(60, 64, 67, 0.15);\n",
              "      fill: #174EA6;\n",
              "    }\n",
              "\n",
              "    [theme=dark] .colab-df-convert {\n",
              "      background-color: #3B4455;\n",
              "      fill: #D2E3FC;\n",
              "    }\n",
              "\n",
              "    [theme=dark] .colab-df-convert:hover {\n",
              "      background-color: #434B5C;\n",
              "      box-shadow: 0px 1px 3px 1px rgba(0, 0, 0, 0.15);\n",
              "      filter: drop-shadow(0px 1px 2px rgba(0, 0, 0, 0.3));\n",
              "      fill: #FFFFFF;\n",
              "    }\n",
              "  </style>\n",
              "\n",
              "      <script>\n",
              "        const buttonEl =\n",
              "          document.querySelector('#df-f9b33d0c-9c8f-4037-a177-854782133fab button.colab-df-convert');\n",
              "        buttonEl.style.display =\n",
              "          google.colab.kernel.accessAllowed ? 'block' : 'none';\n",
              "\n",
              "        async function convertToInteractive(key) {\n",
              "          const element = document.querySelector('#df-f9b33d0c-9c8f-4037-a177-854782133fab');\n",
              "          const dataTable =\n",
              "            await google.colab.kernel.invokeFunction('convertToInteractive',\n",
              "                                                     [key], {});\n",
              "          if (!dataTable) return;\n",
              "\n",
              "          const docLinkHtml = 'Like what you see? Visit the ' +\n",
              "            '<a target=\"_blank\" href=https://colab.research.google.com/notebooks/data_table.ipynb>data table notebook</a>'\n",
              "            + ' to learn more about interactive tables.';\n",
              "          element.innerHTML = '';\n",
              "          dataTable['output_type'] = 'display_data';\n",
              "          await google.colab.output.renderOutput(dataTable, element);\n",
              "          const docLink = document.createElement('div');\n",
              "          docLink.innerHTML = docLinkHtml;\n",
              "          element.appendChild(docLink);\n",
              "        }\n",
              "      </script>\n",
              "    </div>\n",
              "  </div>\n",
              "  "
            ]
          },
          "metadata": {},
          "execution_count": 7
        }
      ]
    },
    {
      "cell_type": "markdown",
      "source": [
        "We have checked the df.describe because it will give the unique value counts .By observing that we can check weather there are any duplicates. from above we can see that if total is 40000 we got only 39719 unique rows.we have to drop the duplicate rows now."
      ],
      "metadata": {
        "id": "Gljlx5ndzrfD"
      }
    },
    {
      "cell_type": "code",
      "source": [
        "df=df.drop_duplicates()\n",
        "df.head()"
      ],
      "metadata": {
        "id": "6BaTVuKpuyom",
        "colab": {
          "base_uri": "https://localhost:8080/",
          "height": 206
        },
        "outputId": "d264e0b7-d624-4db5-9df2-d9d2aab018db"
      },
      "execution_count": null,
      "outputs": [
        {
          "output_type": "execute_result",
          "data": {
            "text/plain": [
              "                                              review\n",
              "0  Shame, is a Swedish film in Swedish with Engli...\n",
              "1  I know it's rather unfair to comment on a movi...\n",
              "2  \"Bread\" very sharply skewers the conventions o...\n",
              "3  After reading tons of good reviews about this ...\n",
              "4  During the Civil war a wounded union soldier h..."
            ],
            "text/html": [
              "\n",
              "  <div id=\"df-0997f6c1-fffd-43a7-9b95-8456c20e41b6\">\n",
              "    <div class=\"colab-df-container\">\n",
              "      <div>\n",
              "<style scoped>\n",
              "    .dataframe tbody tr th:only-of-type {\n",
              "        vertical-align: middle;\n",
              "    }\n",
              "\n",
              "    .dataframe tbody tr th {\n",
              "        vertical-align: top;\n",
              "    }\n",
              "\n",
              "    .dataframe thead th {\n",
              "        text-align: right;\n",
              "    }\n",
              "</style>\n",
              "<table border=\"1\" class=\"dataframe\">\n",
              "  <thead>\n",
              "    <tr style=\"text-align: right;\">\n",
              "      <th></th>\n",
              "      <th>review</th>\n",
              "    </tr>\n",
              "  </thead>\n",
              "  <tbody>\n",
              "    <tr>\n",
              "      <th>0</th>\n",
              "      <td>Shame, is a Swedish film in Swedish with Engli...</td>\n",
              "    </tr>\n",
              "    <tr>\n",
              "      <th>1</th>\n",
              "      <td>I know it's rather unfair to comment on a movi...</td>\n",
              "    </tr>\n",
              "    <tr>\n",
              "      <th>2</th>\n",
              "      <td>\"Bread\" very sharply skewers the conventions o...</td>\n",
              "    </tr>\n",
              "    <tr>\n",
              "      <th>3</th>\n",
              "      <td>After reading tons of good reviews about this ...</td>\n",
              "    </tr>\n",
              "    <tr>\n",
              "      <th>4</th>\n",
              "      <td>During the Civil war a wounded union soldier h...</td>\n",
              "    </tr>\n",
              "  </tbody>\n",
              "</table>\n",
              "</div>\n",
              "      <button class=\"colab-df-convert\" onclick=\"convertToInteractive('df-0997f6c1-fffd-43a7-9b95-8456c20e41b6')\"\n",
              "              title=\"Convert this dataframe to an interactive table.\"\n",
              "              style=\"display:none;\">\n",
              "        \n",
              "  <svg xmlns=\"http://www.w3.org/2000/svg\" height=\"24px\"viewBox=\"0 0 24 24\"\n",
              "       width=\"24px\">\n",
              "    <path d=\"M0 0h24v24H0V0z\" fill=\"none\"/>\n",
              "    <path d=\"M18.56 5.44l.94 2.06.94-2.06 2.06-.94-2.06-.94-.94-2.06-.94 2.06-2.06.94zm-11 1L8.5 8.5l.94-2.06 2.06-.94-2.06-.94L8.5 2.5l-.94 2.06-2.06.94zm10 10l.94 2.06.94-2.06 2.06-.94-2.06-.94-.94-2.06-.94 2.06-2.06.94z\"/><path d=\"M17.41 7.96l-1.37-1.37c-.4-.4-.92-.59-1.43-.59-.52 0-1.04.2-1.43.59L10.3 9.45l-7.72 7.72c-.78.78-.78 2.05 0 2.83L4 21.41c.39.39.9.59 1.41.59.51 0 1.02-.2 1.41-.59l7.78-7.78 2.81-2.81c.8-.78.8-2.07 0-2.86zM5.41 20L4 18.59l7.72-7.72 1.47 1.35L5.41 20z\"/>\n",
              "  </svg>\n",
              "      </button>\n",
              "      \n",
              "  <style>\n",
              "    .colab-df-container {\n",
              "      display:flex;\n",
              "      flex-wrap:wrap;\n",
              "      gap: 12px;\n",
              "    }\n",
              "\n",
              "    .colab-df-convert {\n",
              "      background-color: #E8F0FE;\n",
              "      border: none;\n",
              "      border-radius: 50%;\n",
              "      cursor: pointer;\n",
              "      display: none;\n",
              "      fill: #1967D2;\n",
              "      height: 32px;\n",
              "      padding: 0 0 0 0;\n",
              "      width: 32px;\n",
              "    }\n",
              "\n",
              "    .colab-df-convert:hover {\n",
              "      background-color: #E2EBFA;\n",
              "      box-shadow: 0px 1px 2px rgba(60, 64, 67, 0.3), 0px 1px 3px 1px rgba(60, 64, 67, 0.15);\n",
              "      fill: #174EA6;\n",
              "    }\n",
              "\n",
              "    [theme=dark] .colab-df-convert {\n",
              "      background-color: #3B4455;\n",
              "      fill: #D2E3FC;\n",
              "    }\n",
              "\n",
              "    [theme=dark] .colab-df-convert:hover {\n",
              "      background-color: #434B5C;\n",
              "      box-shadow: 0px 1px 3px 1px rgba(0, 0, 0, 0.15);\n",
              "      filter: drop-shadow(0px 1px 2px rgba(0, 0, 0, 0.3));\n",
              "      fill: #FFFFFF;\n",
              "    }\n",
              "  </style>\n",
              "\n",
              "      <script>\n",
              "        const buttonEl =\n",
              "          document.querySelector('#df-0997f6c1-fffd-43a7-9b95-8456c20e41b6 button.colab-df-convert');\n",
              "        buttonEl.style.display =\n",
              "          google.colab.kernel.accessAllowed ? 'block' : 'none';\n",
              "\n",
              "        async function convertToInteractive(key) {\n",
              "          const element = document.querySelector('#df-0997f6c1-fffd-43a7-9b95-8456c20e41b6');\n",
              "          const dataTable =\n",
              "            await google.colab.kernel.invokeFunction('convertToInteractive',\n",
              "                                                     [key], {});\n",
              "          if (!dataTable) return;\n",
              "\n",
              "          const docLinkHtml = 'Like what you see? Visit the ' +\n",
              "            '<a target=\"_blank\" href=https://colab.research.google.com/notebooks/data_table.ipynb>data table notebook</a>'\n",
              "            + ' to learn more about interactive tables.';\n",
              "          element.innerHTML = '';\n",
              "          dataTable['output_type'] = 'display_data';\n",
              "          await google.colab.output.renderOutput(dataTable, element);\n",
              "          const docLink = document.createElement('div');\n",
              "          docLink.innerHTML = docLinkHtml;\n",
              "          element.appendChild(docLink);\n",
              "        }\n",
              "      </script>\n",
              "    </div>\n",
              "  </div>\n",
              "  "
            ]
          },
          "metadata": {},
          "execution_count": 8
        }
      ]
    },
    {
      "cell_type": "markdown",
      "source": [
        "Sanity check after dropping the duplicates."
      ],
      "metadata": {
        "id": "f02Qdm_W0TcX"
      }
    },
    {
      "cell_type": "code",
      "source": [
        "df.shape"
      ],
      "metadata": {
        "colab": {
          "base_uri": "https://localhost:8080/"
        },
        "id": "NDMgfZjZxNar",
        "outputId": "93c0dbf8-037e-4d84-958c-82e8be76fcc1"
      },
      "execution_count": null,
      "outputs": [
        {
          "output_type": "execute_result",
          "data": {
            "text/plain": [
              "(39719, 1)"
            ]
          },
          "metadata": {},
          "execution_count": 10
        }
      ]
    },
    {
      "cell_type": "markdown",
      "source": [
        "Check for null values. null values place a major role in disturbing the model evaluation .It is must to check the null values.If there are any null values better to replace them with near values or most keep it as N/A but do not drop them."
      ],
      "metadata": {
        "id": "bNbrYtIU0ZTa"
      }
    },
    {
      "cell_type": "code",
      "source": [
        "null_values = df.isnull().sum()\n",
        "print(null_values)"
      ],
      "metadata": {
        "colab": {
          "base_uri": "https://localhost:8080/"
        },
        "id": "FMrCItzCAPf2",
        "outputId": "1ee88c1c-cf8d-4992-bc89-5f02fe0dde15"
      },
      "execution_count": null,
      "outputs": [
        {
          "output_type": "stream",
          "name": "stdout",
          "text": [
            "review    0\n",
            "dtype: int64\n"
          ]
        }
      ]
    },
    {
      "cell_type": "markdown",
      "source": [
        "#Data Cleaning"
      ],
      "metadata": {
        "id": "kJaBsuly3xdB"
      }
    },
    {
      "cell_type": "code",
      "source": [
        "#Tokenization\n",
        "from nltk.tokenize import TreebankWordTokenizer\n",
        "\n",
        "tokenizer = TreebankWordTokenizer()\n",
        "df['review'] = news['text'].apply(tokenizer.tokenize)\n",
        "print('Tokenization complete.')"
      ],
      "metadata": {
        "colab": {
          "base_uri": "https://localhost:8080/"
        },
        "id": "AZ9gBPFB3oC6",
        "outputId": "7ffe6c07-e181-41d7-d883-00b17f3bf1d4"
      },
      "execution_count": 1,
      "outputs": [
        {
          "output_type": "stream",
          "name": "stdout",
          "text": [
            "Tokenization complete.\n"
          ]
        }
      ]
    },
    {
      "cell_type": "markdown",
      "source": [
        "This code is performing tokenization on the \"review\" column of the df dataframe. The TreebankWordTokenizer from the nltk.tokenize module is used to tokenize the sentences in the text column. The tokenizer breaks down the text into individual words or tokens, considering punctuations as separate tokens as well. The tokens are then saved in the review column of the df dataframe. Finally, a message is printed to indicate that the tokenization process is complete."
      ],
      "metadata": {
        "id": "EUxZb1x531Pn"
      }
    },
    {
      "cell_type": "code",
      "source": [
        "#Lemmatization\n",
        "import nltk\n",
        "nltk.download('wordnet')\n",
        "nltk.download('punkt')\n",
        "lemmatizer = nltk.stem.wordnet.WordNetLemmatizer()\n",
        "df['review'] = df['review'].apply(lambda x: ' '.join([lemmatizer.lemmatize(word) for word in nltk.word_tokenize(str(x))]))"
      ],
      "metadata": {
        "id": "Vb0lV2GM35Os"
      },
      "execution_count": null,
      "outputs": []
    },
    {
      "cell_type": "markdown",
      "source": [
        "The process of reducing the different forms of a word to one single form, for example, reducing \"builds,\" \"building,\" or \"built\" to the lemma \"build\" is called lemmatization.\n",
        "\n",
        "The given code uses the nltk library to perform lemmatization on the text data in the 'review' column of the 'df' DataFrame.\n",
        "\n",
        "Firstly, it downloads the necessary resources for word lemmatization. Next, a WordNetLemmatizer object is created to find the base form of each word in the text data.\n",
        "\n",
        "The code applies the lemmatization process to each row of the 'review' column of the 'df' DataFrame by using the apply function. Inside the apply function, a lambda function is used to apply the lemmatizer to each word in the text data. The words are tokenized using the nltk.word_tokenize function and a list comprehension is used to apply the lemmatizer to each word. Finally, the lemmatized words are joined together into a string separated by a space\n",
        "\n",
        "In summary, this code performs lemmatization on text data in the 'df' DataFrame to standardize the text and enhance the accuracy of text analysis or modeling"
      ],
      "metadata": {
        "id": "Nf-qAf8G4JlT"
      }
    },
    {
      "cell_type": "code",
      "source": [
        "from sklearn.feature_extraction.text import CountVectorizer\n",
        "from sklearn.cluster import KMeans\n",
        "vectorizer = TfidfVectorizer()\n",
        "X = vectorizer.fit_transform(df['review'])\n"
      ],
      "metadata": {
        "id": "QyGCYCbsCwL6"
      },
      "execution_count": null,
      "outputs": []
    },
    {
      "cell_type": "markdown",
      "source": [
        "Why TfidVectorizer?\n",
        "\n",
        "Before building the model, we need to convert the text in the 'review' column into a format that can be understood by the machine learning algorithm. In natural language processing, machines require numerical input instead of raw text.\n",
        "\n",
        "To accomplish this, we use a technique called TF-IDF (Term Frequency-Inverse Document Frequency) representation. TF-IDF calculates the significance of words in each document by considering their frequency in the document and their rarity across the entire dataset.\n",
        "\n",
        "The TfidfVectorizer is a tool that performs this conversion. By applying the fit_transform() method to the 'review' column, we train the vectorizer on the text data and transform it into a matrix of numerical features. Each feature represents the importance of a word in a document.\n",
        "\n",
        "The resulting matrix, denoted as X_train, will serve as the input for training the machine learning model. It allows the model to learn patterns and make predictions based on the numerical representation of the text."
      ],
      "metadata": {
        "id": "77T9LlaI1tIh"
      }
    },
    {
      "cell_type": "markdown",
      "source": [
        "#Sanity check"
      ],
      "metadata": {
        "id": "LhQg4D-MEk3v"
      }
    },
    {
      "cell_type": "code",
      "source": [
        "\n",
        "X.dtype"
      ],
      "metadata": {
        "colab": {
          "base_uri": "https://localhost:8080/"
        },
        "id": "imaWDGDiEU4H",
        "outputId": "6914a9e0-be76-4954-dec2-91c53d433c4e"
      },
      "execution_count": null,
      "outputs": [
        {
          "output_type": "execute_result",
          "data": {
            "text/plain": [
              "dtype('float64')"
            ]
          },
          "metadata": {},
          "execution_count": 13
        }
      ]
    },
    {
      "cell_type": "markdown",
      "source": [
        "By above output our expected outcome is satisfied and the words are transformed to intergers for model training."
      ],
      "metadata": {
        "id": "7otfz3-N2PKC"
      }
    },
    {
      "cell_type": "code",
      "source": [
        "import matplotlib.pyplot as plt\n",
        "wcss = []\n",
        "\n",
        "for num_clusters in range(2, 11):\n",
        "    kmeans = KMeans(n_clusters=num_clusters, random_state=42)\n",
        "    kmeans.fit(X)\n",
        "    wcss.append(kmeans.inertia_)\n",
        "    \n",
        "plt.plot(range(2, 11), wcss, marker='o')\n",
        "plt.xlabel('Number of Clusters')\n",
        "plt.ylabel('WCSS')\n",
        "plt.title('Elbow Plot')\n",
        "plt.show()\n"
      ],
      "metadata": {
        "colab": {
          "base_uri": "https://localhost:8080/",
          "height": 472
        },
        "id": "gm-ypBtb2rsv",
        "outputId": "cab033de-085b-48c2-f4ca-002cfbda53ad"
      },
      "execution_count": null,
      "outputs": [
        {
          "output_type": "display_data",
          "data": {
            "text/plain": [
              "<Figure size 640x480 with 1 Axes>"
            ],
            "image/png": "[encoded data removed]"
          },
          "metadata": {}
        }
      ]
    },
    {
      "cell_type": "markdown",
      "source": [
        "The provided code snippet helps determine the optimal number of clusters using the Elbow Method. By iterating over different numbers of clusters and calculating the within-cluster sum of squares (WCSS), it identifies the number of clusters that strikes a balance between minimizing WCSS and avoiding overfitting. The code plots the number of clusters against WCSS values, enabling the identification of an \"elbow\" point that indicates the optimal cluster number. This approach is useful for finding a suitable clustering solution based on the WCSS plot's visual analysis. However, it's important to consider other factors and metrics alongside the elbow point for a comprehensive evaluation."
      ],
      "metadata": {
        "id": "4e5E5aFD5Ja2"
      }
    },
    {
      "cell_type": "code",
      "source": [
        "\n",
        "from sklearn.cluster import KMeans\n",
        "num_clusters = 5\n",
        "kmeans = KMeans(n_clusters=num_clusters, random_state=42)\n",
        "kmeans.fit(X)\n",
        "df['cluster_label'] = kmeans.labels_"
      ],
      "metadata": {
        "id": "GeUlx1r4i8Me"
      },
      "execution_count": null,
      "outputs": []
    },
    {
      "cell_type": "markdown",
      "source": [
        "\n",
        "The code snippet utilizes  KMeans modules from scikit-learn for performing clustering. It applies K-means clustering with a predefined number of clusters (5) to the given dataset (X). The resulting cluster labels are then assigned to a new column in the DataFrame (df) to indicate the cluster membership of each data point."
      ],
      "metadata": {
        "id": "I7xR9cTM5mRO"
      }
    },
    {
      "cell_type": "code",
      "source": [
        "# Assign sentiment labels based on the cluster labels\n",
        "df['sentiment'] = 0\n",
        "df.loc[df['cluster_label'].isin([0, 2, 4]), 'sentiment'] = 1\n",
        "df.loc[df['cluster_label'].isin([1, 3]), 'sentiment'] = 0"
      ],
      "metadata": {
        "id": "ZjzN9h6hyY4h"
      },
      "execution_count": null,
      "outputs": []
    },
    {
      "cell_type": "markdown",
      "source": [
        "The code assigns sentiment labels to the DataFrame based on the cluster labels obtained from the previous clustering step. It creates a new column called 'sentiment' and initializes it with 0 for all data points. Then, it selectively updates the 'sentiment' values based on the cluster labels. Cluster labels 0, 2, and 4 are assigned a sentiment label of 1, indicating positive sentiment, while cluster labels 1 and 3 are assigned a sentiment label of 0, indicating negative sentiment. In summary, the code modifies the 'sentiment' column to reflect the sentiment associated with each cluster.Here we just mapped by randomly first and lets build model and check the accuracy."
      ],
      "metadata": {
        "id": "mQ47SQ5v7RuA"
      }
    },
    {
      "cell_type": "code",
      "source": [
        "df.head()"
      ],
      "metadata": {
        "colab": {
          "base_uri": "https://localhost:8080/",
          "height": 206
        },
        "id": "WwSfaemP20z0",
        "outputId": "13698200-a6cc-427e-9ea2-8a68e0681ced"
      },
      "execution_count": null,
      "outputs": [
        {
          "output_type": "execute_result",
          "data": {
            "text/plain": [
              "                                              review  cluster_label  sentiment\n",
              "0  Shame, is a Swedish film in Swedish with Engli...              1          0\n",
              "1  I know it's rather unfair to comment on a movi...              2          1\n",
              "2  \"Bread\" very sharply skewers the conventions o...              1          0\n",
              "3  After reading tons of good reviews about this ...              2          1\n",
              "4  During the Civil war a wounded union soldier h...              3          0"
            ],
            "text/html": [
              "\n",
              "  <div id=\"df-81b5add7-d115-4e2a-aabb-9bff2ea4bea7\">\n",
              "    <div class=\"colab-df-container\">\n",
              "      <div>\n",
              "<style scoped>\n",
              "    .dataframe tbody tr th:only-of-type {\n",
              "        vertical-align: middle;\n",
              "    }\n",
              "\n",
              "    .dataframe tbody tr th {\n",
              "        vertical-align: top;\n",
              "    }\n",
              "\n",
              "    .dataframe thead th {\n",
              "        text-align: right;\n",
              "    }\n",
              "</style>\n",
              "<table border=\"1\" class=\"dataframe\">\n",
              "  <thead>\n",
              "    <tr style=\"text-align: right;\">\n",
              "      <th></th>\n",
              "      <th>review</th>\n",
              "      <th>cluster_label</th>\n",
              "      <th>sentiment</th>\n",
              "    </tr>\n",
              "  </thead>\n",
              "  <tbody>\n",
              "    <tr>\n",
              "      <th>0</th>\n",
              "      <td>Shame, is a Swedish film in Swedish with Engli...</td>\n",
              "      <td>1</td>\n",
              "      <td>0</td>\n",
              "    </tr>\n",
              "    <tr>\n",
              "      <th>1</th>\n",
              "      <td>I know it's rather unfair to comment on a movi...</td>\n",
              "      <td>2</td>\n",
              "      <td>1</td>\n",
              "    </tr>\n",
              "    <tr>\n",
              "      <th>2</th>\n",
              "      <td>\"Bread\" very sharply skewers the conventions o...</td>\n",
              "      <td>1</td>\n",
              "      <td>0</td>\n",
              "    </tr>\n",
              "    <tr>\n",
              "      <th>3</th>\n",
              "      <td>After reading tons of good reviews about this ...</td>\n",
              "      <td>2</td>\n",
              "      <td>1</td>\n",
              "    </tr>\n",
              "    <tr>\n",
              "      <th>4</th>\n",
              "      <td>During the Civil war a wounded union soldier h...</td>\n",
              "      <td>3</td>\n",
              "      <td>0</td>\n",
              "    </tr>\n",
              "  </tbody>\n",
              "</table>\n",
              "</div>\n",
              "      <button class=\"colab-df-convert\" onclick=\"convertToInteractive('df-81b5add7-d115-4e2a-aabb-9bff2ea4bea7')\"\n",
              "              title=\"Convert this dataframe to an interactive table.\"\n",
              "              style=\"display:none;\">\n",
              "        \n",
              "  <svg xmlns=\"http://www.w3.org/2000/svg\" height=\"24px\"viewBox=\"0 0 24 24\"\n",
              "       width=\"24px\">\n",
              "    <path d=\"M0 0h24v24H0V0z\" fill=\"none\"/>\n",
              "    <path d=\"M18.56 5.44l.94 2.06.94-2.06 2.06-.94-2.06-.94-.94-2.06-.94 2.06-2.06.94zm-11 1L8.5 8.5l.94-2.06 2.06-.94-2.06-.94L8.5 2.5l-.94 2.06-2.06.94zm10 10l.94 2.06.94-2.06 2.06-.94-2.06-.94-.94-2.06-.94 2.06-2.06.94z\"/><path d=\"M17.41 7.96l-1.37-1.37c-.4-.4-.92-.59-1.43-.59-.52 0-1.04.2-1.43.59L10.3 9.45l-7.72 7.72c-.78.78-.78 2.05 0 2.83L4 21.41c.39.39.9.59 1.41.59.51 0 1.02-.2 1.41-.59l7.78-7.78 2.81-2.81c.8-.78.8-2.07 0-2.86zM5.41 20L4 18.59l7.72-7.72 1.47 1.35L5.41 20z\"/>\n",
              "  </svg>\n",
              "      </button>\n",
              "      \n",
              "  <style>\n",
              "    .colab-df-container {\n",
              "      display:flex;\n",
              "      flex-wrap:wrap;\n",
              "      gap: 12px;\n",
              "    }\n",
              "\n",
              "    .colab-df-convert {\n",
              "      background-color: #E8F0FE;\n",
              "      border: none;\n",
              "      border-radius: 50%;\n",
              "      cursor: pointer;\n",
              "      display: none;\n",
              "      fill: #1967D2;\n",
              "      height: 32px;\n",
              "      padding: 0 0 0 0;\n",
              "      width: 32px;\n",
              "    }\n",
              "\n",
              "    .colab-df-convert:hover {\n",
              "      background-color: #E2EBFA;\n",
              "      box-shadow: 0px 1px 2px rgba(60, 64, 67, 0.3), 0px 1px 3px 1px rgba(60, 64, 67, 0.15);\n",
              "      fill: #174EA6;\n",
              "    }\n",
              "\n",
              "    [theme=dark] .colab-df-convert {\n",
              "      background-color: #3B4455;\n",
              "      fill: #D2E3FC;\n",
              "    }\n",
              "\n",
              "    [theme=dark] .colab-df-convert:hover {\n",
              "      background-color: #434B5C;\n",
              "      box-shadow: 0px 1px 3px 1px rgba(0, 0, 0, 0.15);\n",
              "      filter: drop-shadow(0px 1px 2px rgba(0, 0, 0, 0.3));\n",
              "      fill: #FFFFFF;\n",
              "    }\n",
              "  </style>\n",
              "\n",
              "      <script>\n",
              "        const buttonEl =\n",
              "          document.querySelector('#df-81b5add7-d115-4e2a-aabb-9bff2ea4bea7 button.colab-df-convert');\n",
              "        buttonEl.style.display =\n",
              "          google.colab.kernel.accessAllowed ? 'block' : 'none';\n",
              "\n",
              "        async function convertToInteractive(key) {\n",
              "          const element = document.querySelector('#df-81b5add7-d115-4e2a-aabb-9bff2ea4bea7');\n",
              "          const dataTable =\n",
              "            await google.colab.kernel.invokeFunction('convertToInteractive',\n",
              "                                                     [key], {});\n",
              "          if (!dataTable) return;\n",
              "\n",
              "          const docLinkHtml = 'Like what you see? Visit the ' +\n",
              "            '<a target=\"_blank\" href=https://colab.research.google.com/notebooks/data_table.ipynb>data table notebook</a>'\n",
              "            + ' to learn more about interactive tables.';\n",
              "          element.innerHTML = '';\n",
              "          dataTable['output_type'] = 'display_data';\n",
              "          await google.colab.output.renderOutput(dataTable, element);\n",
              "          const docLink = document.createElement('div');\n",
              "          docLink.innerHTML = docLinkHtml;\n",
              "          element.appendChild(docLink);\n",
              "        }\n",
              "      </script>\n",
              "    </div>\n",
              "  </div>\n",
              "  "
            ]
          },
          "metadata": {},
          "execution_count": 152
        }
      ]
    },
    {
      "cell_type": "markdown",
      "source": [
        "#Model Building\n",
        "LogisticRegression"
      ],
      "metadata": {
        "id": "1VQzEKqN4VMl"
      }
    },
    {
      "cell_type": "code",
      "source": [
        "import pandas as pd\n",
        "from sklearn.feature_extraction.text import CountVectorizer\n",
        "from sklearn.model_selection import train_test_split\n",
        "from sklearn.linear_model import LogisticRegression\n",
        "from sklearn.pipeline import Pipeline\n",
        "from sklearn.metrics import classification_report\n",
        "X = df['review']\n",
        "y = df['sentiment']\n",
        "X_train, X_test, y_train, y_test = train_test_split(X, y, test_size=0.2, random_state=42)\n",
        "lr_pipeline = Pipeline([\n",
        "    ('vectorizer', TfidfVectorizer()),\n",
        "    ('classifier', LogisticRegression(max_iter=5000))\n",
        "])\n",
        "lr_pipeline.fit(X_train, y_train)\n",
        "y_pred = lr_pipeline.predict(X_test)\n",
        "print(classification_report(y_test, y_pred))"
      ],
      "metadata": {
        "colab": {
          "base_uri": "https://localhost:8080/"
        },
        "id": "lpG3Si-MwWp2",
        "outputId": "2508de67-825f-48c0-936e-a2df95c7a62c"
      },
      "execution_count": null,
      "outputs": [
        {
          "output_type": "stream",
          "name": "stdout",
          "text": [
            "              precision    recall  f1-score   support\n",
            "\n",
            "           0       0.85      0.79      0.82      2980\n",
            "           1       0.88      0.91      0.90      5020\n",
            "\n",
            "    accuracy                           0.87      8000\n",
            "   macro avg       0.86      0.85      0.86      8000\n",
            "weighted avg       0.87      0.87      0.87      8000\n",
            "\n"
          ]
        }
      ]
    },
    {
      "cell_type": "markdown",
      "source": [
        "Why pipeline?\n",
        "\n",
        "Pipelines are used in machine learning to organize and automate the steps involved in data preprocessing and model training. They ensure code readability, reproducibility, and ease of deployment. Pipelines also enable parameter tuning, prevent data leakage, and simplify model selection. They enhance efficiency and maintainability in machine learning workflows.\n",
        "\n",
        "the code builds a pipeline that transforms text data into numerical features using TF-IDF and trains a logistic regression model to predict sentiment labels. The performance of the model is evaluated using a classification report.\n",
        "\n"
      ],
      "metadata": {
        "id": "mWcPntnw8uBP"
      }
    },
    {
      "cell_type": "markdown",
      "source": [
        "#Grid Search"
      ],
      "metadata": {
        "id": "T6z1wJXU4Ygb"
      }
    },
    {
      "cell_type": "code",
      "source": [
        "from sklearn.model_selection import GridSearchCV\n",
        "param_grid = {\n",
        "    'vectorizer__max_features': [1000, 2000, 3000], \n",
        "    'classifier__C': [0.1, 1, 10] \n",
        "}\n",
        "grid_search = GridSearchCV(lr_pipeline, param_grid, cv=5, scoring='f1_weighted')\n",
        "grid_search.fit(X_train, y_train)\n",
        "best_model = grid_search.best_estimator_\n",
        "y_pred = best_model.predict(X_test)\n",
        "classification_rep = classification_report(y_test, y_pred)\n",
        "print(\"Best Model Hyperparameters:\")\n",
        "print(grid_search.best_params_)\n",
        "print(\"\\nClassification Report:\")\n",
        "print(classification_rep)"
      ],
      "metadata": {
        "colab": {
          "base_uri": "https://localhost:8080/"
        },
        "id": "x_9fOYVswyYg",
        "outputId": "e3facf25-66bf-4aaa-f401-20f601b3f464"
      },
      "execution_count": null,
      "outputs": [
        {
          "output_type": "stream",
          "name": "stdout",
          "text": [
            "Best Model Hyperparameters:\n",
            "{'classifier__C': 1, 'vectorizer__max_features': 2000}\n",
            "\n",
            "Classification Report:\n",
            "              precision    recall  f1-score   support\n",
            "\n",
            "           0       0.83      0.79      0.81      2980\n",
            "           1       0.88      0.91      0.89      5020\n",
            "\n",
            "    accuracy                           0.86      8000\n",
            "   macro avg       0.86      0.85      0.85      8000\n",
            "weighted avg       0.86      0.86      0.86      8000\n",
            "\n"
          ]
        }
      ]
    },
    {
      "cell_type": "markdown",
      "source": [
        "We used GridSearch for various reasons like to increase the evaluation parameters and also for cross validation.\n",
        "\n",
        "In the given code, GridSearchCV is used to perform hyperparameter tuning on the LR pipeline. The parameter grid specifies different values to be explored for the max_features parameter of the vectorizer and the C parameter of the logistic regression classifier. The grid search is performed using 5-fold cross-validation and the scoring metric used is 'f1_weighted'. The best model is selected based on the highest score obtained.\n",
        "\n",
        "After fitting the grid search object to the training data, the best_model variable stores the estimator with the best hyperparameters. This model is then used to predict the labels for the test data. The classification_report function is used to generate a report containing precision, recall, F1-score, and support for each class. Finally, the best hyperparameters and the classification report are printed to the console"
      ],
      "metadata": {
        "id": "09-fQhy6-G5e"
      }
    },
    {
      "cell_type": "code",
      "source": [
        "X_final=pd.read_csv(r'/content/sample_data/X_final.csv')\n",
        "y_final=pd.read_csv(r'/content/sample_data/y_final.csv')\n",
        "y_pred = lr_pipeline.predict(X_final['review'])\n",
        "print(classification_report(y_final, y_pred))"
      ],
      "metadata": {
        "id": "gKn1Pq9gynax",
        "colab": {
          "base_uri": "https://localhost:8080/"
        },
        "outputId": "e18f2157-6488-4e5b-eab6-f7ab5b2cd9ce"
      },
      "execution_count": null,
      "outputs": [
        {
          "output_type": "stream",
          "name": "stdout",
          "text": [
            "              precision    recall  f1-score   support\n",
            "\n",
            "           0       0.59      0.40      0.48      5000\n",
            "           1       0.55      0.72      0.62      5000\n",
            "\n",
            "    accuracy                           0.56     10000\n",
            "   macro avg       0.57      0.56      0.55     10000\n",
            "weighted avg       0.57      0.56      0.55     10000\n",
            "\n"
          ]
        }
      ]
    },
    {
      "cell_type": "markdown",
      "source": [
        "Here, we test our model on production data set of X_final and y_final.we got accuracy of 56% on the test data set. which is very less , this due to mapping of sentiments ,as we did it without any logic for labelling . So we will try to get different approach by using semi supervised learning , using y_train with just 1000 instances let us try to build few models."
      ],
      "metadata": {
        "id": "8SsxXiB3_hZQ"
      }
    },
    {
      "cell_type": "code",
      "source": [
        "X_train = pd.read_csv(r'/content/sample_data/X_train.csv')\n",
        "y_train = pd.read_csv(r'/content/sample_data/y_train.csv')\n",
        "X_test = pd.read_csv(r'/content/sample_data/X_final.csv')\n",
        "y_test = pd.read_csv(r'/content/sample_data/y_final.csv')"
      ],
      "metadata": {
        "id": "q_N6KiQFyneL"
      },
      "execution_count": null,
      "outputs": []
    },
    {
      "cell_type": "code",
      "source": [
        "y_train[1000:] = -1\n",
        "y_train = np.ravel(y_train)\n",
        "y_test = np.ravel(y_test)"
      ],
      "metadata": {
        "id": "wFTaOku7y3M4"
      },
      "execution_count": null,
      "outputs": []
    },
    {
      "cell_type": "markdown",
      "source": [
        " We are taking only 1000 instances as a labelled data and remaning we are assigning to -1 as unlabelled data . Here The given code modifies the training labels by assigning the value -1 to a subset of elements starting from the index 1000. Then, it flattens the training and testing label arrays to ensure they are in the expected format for machine learning algorithms. These operations are performed to designate unlabeled instances and prepare the label data for subsequent analysis or model training."
      ],
      "metadata": {
        "id": "h5j0MJ1kCBVt"
      }
    },
    {
      "cell_type": "code",
      "source": [
        "# Sanity check\n",
        "print(\"Sanity check:\")\n",
        "print(\"Number of instances in y_train:\", len(y_train))\n",
        "print(\"Number of instances in y_test:\", len(y_test))"
      ],
      "metadata": {
        "colab": {
          "base_uri": "https://localhost:8080/"
        },
        "id": "eO6L2hczA7zq",
        "outputId": "a11f854c-909b-435f-f8c6-aa730f0d07ba"
      },
      "execution_count": null,
      "outputs": [
        {
          "output_type": "stream",
          "name": "stdout",
          "text": [
            "Sanity check:\n",
            "Number of instances in y_train: 40000\n",
            "Number of instances in y_test: 10000\n"
          ]
        }
      ]
    },
    {
      "cell_type": "code",
      "source": [
        "vectorizer = TfidfVectorizer()\n",
        "X_train = vectorizer.fit_transform(X_train['review'])\n",
        "X_test = vectorizer.transform(X_test['review'])"
      ],
      "metadata": {
        "id": "Mx9YkX6Ly9xR"
      },
      "execution_count": null,
      "outputs": []
    },
    {
      "cell_type": "code",
      "source": [
        "%pip install xgboost\n"
      ],
      "metadata": {
        "id": "dYPAw52CzBFV",
        "colab": {
          "base_uri": "https://localhost:8080/"
        },
        "outputId": "8efd3dc7-ae66-46d4-dc1e-c6c6c33c2351"
      },
      "execution_count": null,
      "outputs": [
        {
          "output_type": "stream",
          "name": "stdout",
          "text": [
            "Looking in indexes: https://pypi.org/simple, https://us-python.pkg.dev/colab-wheels/public/simple/\n",
            "Requirement already satisfied: xgboost in /usr/local/lib/python3.10/dist-packages (1.7.5)\n",
            "Requirement already satisfied: numpy in /usr/local/lib/python3.10/dist-packages (from xgboost) (1.24.3)\n",
            "Requirement already satisfied: scipy in /usr/local/lib/python3.10/dist-packages (from xgboost) (1.10.1)\n"
          ]
        }
      ]
    },
    {
      "cell_type": "markdown",
      "source": [
        "I have installed xgboost because while running the model it is found that no module while i was importing .So, I installed it."
      ],
      "metadata": {
        "id": "pZc2Sgm_FMIp"
      }
    },
    {
      "cell_type": "markdown",
      "source": [
        "Logistic Regression, eXtreme Gradient Boosting, Random Forest models"
      ],
      "metadata": {
        "id": "nOa1X-vtFZZp"
      }
    },
    {
      "cell_type": "code",
      "source": [
        "from sklearn.ensemble import RandomForestClassifier\n",
        "from sklearn.linear_model import LogisticRegression\n",
        "from sklearn.semi_supervised import SelfTrainingClassifier\n",
        "from xgboost import XGBClassifier\n",
        "from sklearn.metrics import accuracy_score\n",
        "\n",
        "# Define base classifiers\n",
        "lr = LogisticRegression(solver='liblinear')\n",
        "rf = RandomForestClassifier(n_estimators=100)\n",
        "xgb = XGBClassifier(use_label_encoder=False, eval_metric='logloss')\n",
        "\n",
        "# Define SelfTrainingClassifiers\n",
        "stc_lr = SelfTrainingClassifier(lr)\n",
        "stc_rf = SelfTrainingClassifier(rf)\n",
        "stc_xgb = SelfTrainingClassifier(xgb)\n",
        "\n",
        "# Fit the models\n",
        "stc_lr.fit(X_train, y_train)\n",
        "stc_rf.fit(X_train, y_train)\n",
        "stc_xgb.fit(X_train, y_train)\n",
        "\n",
        "# Predict the labels\n",
        "y_pred_lr = stc_lr.predict(X_test)\n",
        "y_pred_rf = stc_rf.predict(X_test)\n",
        "y_pred_xgb = stc_xgb.predict(X_test)\n",
        "\n",
        "# Print the accuracy score\n",
        "accuracy_lr = accuracy_score(y_test, y_pred_lr)\n",
        "accuracy_rf = accuracy_score(y_test, y_pred_rf)\n",
        "accuracy_xgb = accuracy_score(y_test, y_pred_xgb)\n",
        "\n",
        "print(f'Accuracy of Logistic Regression: {accuracy_lr}')\n",
        "print(f'Accuracy of Random Forest: {accuracy_rf}')\n",
        "print(f'Accuracy of XGBoost: {accuracy_xgb}')"
      ],
      "metadata": {
        "id": "u1aQRFhszDjm",
        "colab": {
          "base_uri": "https://localhost:8080/"
        },
        "outputId": "7d0784f4-7308-4ce7-f9b5-47a9eb96c4ba"
      },
      "execution_count": null,
      "outputs": [
        {
          "output_type": "stream",
          "name": "stdout",
          "text": [
            "Accuracy of Logistic Regression: 0.6708\n",
            "Accuracy of Random Forest: 0.5304\n",
            "Accuracy of XGBoost: 0.7742\n"
          ]
        }
      ]
    },
    {
      "cell_type": "markdown",
      "source": [
        "The provided code demonstrates the use of different classifiers, including Logistic Regression, Random Forest, and XGBoost, along with the SelfTrainingClassifier for semi-supervised learning. The models are trained using the training data and then used to predict labels for the test data. The accuracy scores are calculated to evaluate the performance of each classifier. The purpose is to compare how well these classifiers perform in the semi-supervised learning scenario and identify the most accurate one.\n",
        "\n",
        "Why these models ?\n",
        "\n",
        "The models used in the code serve different purposes and have their own strengths. Logistic Regression is chosen for its simplicity and interpretability, making it suitable for binary classification tasks. Random Forest is an ensemble model that combines multiple decision trees to handle complex relationships in the data and mitigate overfitting. XGBoost, a gradient boosting implementation, is known for its ability to capture intricate patterns in data and deliver high predictive accuracy. The selection of these models depends on factors such as the problem at hand, data characteristics, and the desired performance. Experimentation with different models helps identify the most effective one for the specific task.\n",
        "\n",
        "SelfTrainingClassifier:\n",
        "\n",
        "The SelfTrainingClassifier is used in the code to perform semi-supervised learning. In some scenarios, we may have a limited amount of labeled data but a large amount of unlabeled data. The SelfTrainingClassifier leverages this unlabeled data by making predictions on it using an initial classifier and then incorporating those predictions as additional labeled data. This iterative process continues, with the classifier being retrained on the newly labeled data, until convergence or a predefined stopping criterion is reached.\n",
        "\n",
        "Self-training can be beneficial in situations where obtaining labeled data is expensive or time-consuming. By utilizing the unlabeled data, it helps improve the model's performance and potentially overcome the limitations of having a small labeled dataset. It can also be useful when the initial labeled data is not representative of the entire dataset, as self-training allows the model to adapt and generalize better.\n",
        "\n",
        "In the code, the SelfTrainingClassifier is applied with different base classifiers (Logistic Regression, Random Forest, XGBoost) to leverage the unlabeled data and enhance their predictive performance. By incorporating the unlabeled data in the learning process, the models can potentially make more accurate predictions and improve their overall accuracy"
      ],
      "metadata": {
        "id": "uyjQbntOG_3Y"
      }
    },
    {
      "cell_type": "code",
      "source": [
        "y_train"
      ],
      "metadata": {
        "colab": {
          "base_uri": "https://localhost:8080/"
        },
        "id": "6y_gZE2X6FRN",
        "outputId": "3a953877-70d5-44e9-d863-04a0168a107a"
      },
      "execution_count": null,
      "outputs": [
        {
          "output_type": "execute_result",
          "data": {
            "text/plain": [
              "array([1, 0, 1, ..., 2, 2, 2])"
            ]
          },
          "metadata": {},
          "execution_count": 30
        }
      ]
    },
    {
      "cell_type": "markdown",
      "source": [
        "Now , let us perform hyperparameter tuning and cross validation the model by grid search to increase the model efficiency."
      ],
      "metadata": {
        "id": "qWdZm1BXIyf7"
      }
    },
    {
      "cell_type": "code",
      "source": [
        "from sklearn.ensemble import RandomForestClassifier\n",
        "from sklearn.linear_model import LogisticRegression\n",
        "from sklearn.pipeline import Pipeline\n",
        "from sklearn.model_selection import GridSearchCV\n",
        "from xgboost import XGBClassifier\n",
        "\n",
        "# Define base classifiers\n",
        "lr = LogisticRegression()\n",
        "rf = RandomForestClassifier()\n",
        "xgb = XGBClassifier(use_label_encoder=False, eval_metric='logloss')\n",
        "\n",
        "# Create pipeline\n",
        "pipeline_lr = Pipeline([('clf', lr)])\n",
        "pipeline_rf = Pipeline([('clf', rf)])\n",
        "pipeline_xgb = Pipeline([('clf', xgb)])\n",
        "\n",
        "# Define parameter grid\n",
        "param_grid_lr = {'clf__C': [0.1, 1, 10], 'clf__solver': ['liblinear']}\n",
        "param_grid_rf = {'clf__n_estimators': [50, 100, 200]}\n",
        "param_grid_xgb = {'clf__n_estimators': [50, 100, 200], 'clf__learning_rate': [0.01, 0.1, 1]}\n",
        "\n",
        "# Create GridSearchCV\n",
        "grid_lr = GridSearchCV(pipeline_lr, param_grid=param_grid_lr, cv=5, verbose=1)\n",
        "grid_rf = GridSearchCV(pipeline_rf, param_grid=param_grid_rf, cv=5, verbose=1)\n",
        "grid_xgb = GridSearchCV(pipeline_xgb, param_grid=param_grid_xgb, cv=5, verbose=1)\n",
        "\n",
        "# Fit the models\n",
        "grid_lr.fit(X_train, y_train)\n",
        "grid_rf.fit(X_train, y_train)\n",
        "grid_xgb.fit(X_train, y_train)\n",
        "\n",
        "# Print best scores\n",
        "print(f'Best score Logistic Regression: {grid_lr.best_score_}')\n",
        "print(f'Best score Random Forest: {grid_rf.best_score_}')\n",
        "print(f'Best score XGBoost: {grid_xgb.best_score_}')\n",
        "\n",
        "# Predict the labels\n",
        "y_pred_lr = grid_lr.predict(X_test)\n",
        "y_pred_rf = grid_rf.predict(X_test)\n",
        "y_pred_xgb = grid_xgb.predict(X_test)\n",
        "\n",
        "# Print the accuracy score\n",
        "accuracy_lr = accuracy_score(y_test, y_pred_lr)\n",
        "accuracy_rf = accuracy_score(y_test, y_pred_rf)\n",
        "accuracy_xgb = accuracy_score(y_test, y_pred_xgb)\n",
        "\n",
        "print(f'Accuracy of Logistic Regression: {accuracy_lr}')\n",
        "print(f'Accuracy of Random Forest: {accuracy_rf}')\n",
        "print(f'Accuracy of XGBoost: {accuracy_xgb}')"
      ],
      "metadata": {
        "id": "ND96IzMCzLEl",
        "colab": {
          "base_uri": "https://localhost:8080/"
        },
        "outputId": "70c7127a-ec71-4fa8-f281-131ae1df1519"
      },
      "execution_count": null,
      "outputs": [
        {
          "output_type": "stream",
          "name": "stdout",
          "text": [
            "Fitting 5 folds for each of 3 candidates, totalling 15 fits\n",
            "Fitting 5 folds for each of 3 candidates, totalling 15 fits\n",
            "Fitting 5 folds for each of 9 candidates, totalling 45 fits\n",
            "Best score Logistic Regression: 0.900175\n",
            "Best score Random Forest: 0.8524750000000001\n",
            "Best score XGBoost: 0.854175\n",
            "Accuracy of Logistic Regression: 0.8996\n",
            "Accuracy of Random Forest: 0.8569\n",
            "Accuracy of XGBoost: 0.8527\n"
          ]
        }
      ]
    },
    {
      "cell_type": "markdown",
      "source": [
        "After performing the grid we got the test accuracy of the following models as:\n",
        "\n",
        "Logistic Regression: 89\n",
        "\n",
        "Random Forest: 85\n",
        "\n",
        "XGBoost: 85\n",
        "\n",
        "We see that this approach has got more accuracy because we used only 1000 instances and SelfTrainingClassifier plays a major role in predicting labels as it is a iterative process of predicting labels. "
      ],
      "metadata": {
        "id": "_IbGh9C3KDWN"
      }
    },
    {
      "cell_type": "code",
      "source": [],
      "metadata": {
        "id": "ljSpNmLRzTeK"
      },
      "execution_count": null,
      "outputs": []
    },
    {
      "cell_type": "markdown",
      "source": [
        "#Conclusion:\n",
        "We have done 2 approaches to predict the label in the first approach we got just 56% of accuracy for logistic regression model. Later we have taken different approach to predict the label that is using some of y_train values . We have taken 1000 instances lablels and treating remaining all as unlabelled data.Later while building model I used SelfTraining Classifier , which labels the unlabelled data in a iterative way.We have built logistic regression,randomforest and XGBoost model.\n",
        "\n",
        "By observing result of models we see that XGBoost , Random forest are  giving accuracy of 85 while logistic regression is giving more accuracy of 89. \n",
        "\n",
        "So, for predicting the labels in the production data set these models you can use it to predict sentiment."
      ],
      "metadata": {
        "id": "Bubpeg5qLdex"
      }
    }
  ]
}